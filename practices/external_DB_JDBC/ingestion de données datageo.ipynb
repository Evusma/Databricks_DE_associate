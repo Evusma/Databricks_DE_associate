{
 "cells": [
  {
   "cell_type": "code",
   "execution_count": 0,
   "metadata": {
    "application/vnd.databricks.v1+cell": {
     "cellMetadata": {
      "byteLimit": 2048000,
      "rowLimit": 10000
     },
     "inputWidgets": {},
     "nuid": "387f6a25-e4c3-483b-b015-4edb804a0dda",
     "showTitle": false,
     "tableResultSettingsMap": {},
     "title": ""
    }
   },
   "outputs": [
    {
     "data": {
      "text/html": [
       "<style scoped>\n",
       "  .table-result-container {\n",
       "    max-height: 300px;\n",
       "    overflow: auto;\n",
       "  }\n",
       "  table, th, td {\n",
       "    border: 1px solid black;\n",
       "    border-collapse: collapse;\n",
       "  }\n",
       "  th, td {\n",
       "    padding: 5px;\n",
       "  }\n",
       "  th {\n",
       "    text-align: left;\n",
       "  }\n",
       "</style><div class='table-result-container'><table class='table-result'><thead style='background-color: white'><tr></tr></thead><tbody></tbody></table></div>"
      ]
     },
     "metadata": {
      "application/vnd.databricks.v1+output": {
       "addedWidgets": {},
       "aggData": [],
       "aggError": "",
       "aggOverflow": false,
       "aggSchema": [],
       "aggSeriesLimitReached": false,
       "aggType": "",
       "arguments": {},
       "columnCustomDisplayInfos": {},
       "data": [],
       "datasetInfos": [],
       "dbfsResultPath": null,
       "isJsonSchema": true,
       "metadata": {},
       "overflow": false,
       "plotOptions": {
        "customPlotOptions": {},
        "displayType": "table",
        "pivotAggregation": null,
        "pivotColumns": null,
        "xColumns": null,
        "yColumns": null
       },
       "removedWidgets": [],
       "schema": [],
       "type": "table"
      }
     },
     "output_type": "display_data"
    },
    {
     "data": {
      "text/html": [
       "<style scoped>\n",
       "  .table-result-container {\n",
       "    max-height: 300px;\n",
       "    overflow: auto;\n",
       "  }\n",
       "  table, th, td {\n",
       "    border: 1px solid black;\n",
       "    border-collapse: collapse;\n",
       "  }\n",
       "  th, td {\n",
       "    padding: 5px;\n",
       "  }\n",
       "  th {\n",
       "    text-align: left;\n",
       "  }\n",
       "</style><div class='table-result-container'><table class='table-result'><thead style='background-color: white'><tr></tr></thead><tbody></tbody></table></div>"
      ]
     },
     "metadata": {
      "application/vnd.databricks.v1+output": {
       "addedWidgets": {},
       "aggData": [],
       "aggError": "",
       "aggOverflow": false,
       "aggSchema": [],
       "aggSeriesLimitReached": false,
       "aggType": "",
       "arguments": {},
       "columnCustomDisplayInfos": {},
       "data": [],
       "datasetInfos": [],
       "dbfsResultPath": null,
       "isJsonSchema": true,
       "metadata": {},
       "overflow": false,
       "plotOptions": {
        "customPlotOptions": {},
        "displayType": "table",
        "pivotAggregation": null,
        "pivotColumns": null,
        "xColumns": null,
        "yColumns": null
       },
       "removedWidgets": [],
       "schema": [],
       "type": "table"
      }
     },
     "output_type": "display_data"
    }
   ],
   "source": [
    "display(spark.sql(\"USE CATALOG catalog\"))\n",
    "display(spark.sql(\"USE SCHEMA schema\"))"
   ]
  },
  {
   "cell_type": "code",
   "execution_count": 0,
   "metadata": {
    "application/vnd.databricks.v1+cell": {
     "cellMetadata": {
      "byteLimit": 2048000,
      "rowLimit": 10000
     },
     "inputWidgets": {},
     "nuid": "0a2ef2bf-23f9-4c87-97a7-96567d560af0",
     "showTitle": false,
     "tableResultSettingsMap": {},
     "title": ""
    }
   },
   "outputs": [
    {
     "data": {
      "text/html": [
       "<style scoped>\n",
       "  .table-result-container {\n",
       "    max-height: 300px;\n",
       "    overflow: auto;\n",
       "  }\n",
       "  table, th, td {\n",
       "    border: 1px solid black;\n",
       "    border-collapse: collapse;\n",
       "  }\n",
       "  th, td {\n",
       "    padding: 5px;\n",
       "  }\n",
       "  th {\n",
       "    text-align: left;\n",
       "  }\n",
       "</style><div class='table-result-container'><table class='table-result'><thead style='background-color: white'><tr><th>nom_schema</th><th>nom_table</th><th>info_table</th><th>type_table</th><th>size</th><th>nombre_colonnes</th><th>nombre_lignes</th></tr></thead><tbody><tr><td>siggaia</td><td>rai_pkloc</td><td>null</td><td>BASE TABLE</td><td>223 MB</td><td>13</td><td>324826</td></tr><tr><td>siggaia</td><td>rai_sens</td><td>null</td><td>BASE TABLE</td><td>16 MB</td><td>24</td><td>1708</td></tr><tr><td>siggaia</td><td>rai_signal</td><td>null</td><td>BASE TABLE</td><td>198 MB</td><td>61</td><td>132264</td></tr><tr><td>siggaia</td><td>rai_troncon_voie</td><td>null</td><td>BASE TABLE</td><td>453 MB</td><td>28</td><td>36982</td></tr><tr><td>siggaia</td><td>rai_voie</td><td>null</td><td>BASE TABLE</td><td>33 MB</td><td>22</td><td>9951</td></tr></tbody></table></div>"
      ]
     },
     "metadata": {
      "application/vnd.databricks.v1+output": {
       "addedWidgets": {},
       "aggData": [],
       "aggError": "",
       "aggOverflow": false,
       "aggSchema": [],
       "aggSeriesLimitReached": false,
       "aggType": "",
       "arguments": {},
       "columnCustomDisplayInfos": {},
       "data": [
        [
         "siggaia",
         "rai_pkloc",
         null,
         "BASE TABLE",
         "223 MB",
         "13",
         "324826"
        ],
        [
         "siggaia",
         "rai_sens",
         null,
         "BASE TABLE",
         "16 MB",
         "24",
         "1708"
        ],
        [
         "siggaia",
         "rai_signal",
         null,
         "BASE TABLE",
         "198 MB",
         "61",
         "132264"
        ],
        [
         "siggaia",
         "rai_troncon_voie",
         null,
         "BASE TABLE",
         "453 MB",
         "28",
         "36982"
        ],
        [
         "siggaia",
         "rai_voie",
         null,
         "BASE TABLE",
         "33 MB",
         "22",
         "9951"
        ]
       ],
       "datasetInfos": [],
       "dbfsResultPath": null,
       "isJsonSchema": true,
       "metadata": {},
       "overflow": false,
       "plotOptions": {
        "customPlotOptions": {},
        "displayType": "table",
        "pivotAggregation": null,
        "pivotColumns": null,
        "xColumns": null,
        "yColumns": null
       },
       "removedWidgets": [],
       "schema": [
        {
         "metadata": "{}",
         "name": "nom_schema",
         "type": "\"string\""
        },
        {
         "metadata": "{}",
         "name": "nom_table",
         "type": "\"string\""
        },
        {
         "metadata": "{}",
         "name": "info_table",
         "type": "\"string\""
        },
        {
         "metadata": "{}",
         "name": "type_table",
         "type": "\"string\""
        },
        {
         "metadata": "{}",
         "name": "size",
         "type": "\"string\""
        },
        {
         "metadata": "{}",
         "name": "nombre_colonnes",
         "type": "\"string\""
        },
        {
         "metadata": "{}",
         "name": "nombre_lignes",
         "type": "\"string\""
        }
       ],
       "type": "table"
      }
     },
     "output_type": "display_data"
    }
   ],
   "source": [
    "# read the information using a spark dataframe\n",
    "df = (spark.read\n",
    "      .option(\"header\",\"true\")\n",
    "      .option(\"delimiter\",\";\")\n",
    "      .csv('/Volumes/tables_datageo.csv')\n",
    ")\n",
    "df.limit(5).display()"
   ]
  },
  {
   "cell_type": "code",
   "execution_count": 0,
   "metadata": {
    "application/vnd.databricks.v1+cell": {
     "cellMetadata": {
      "byteLimit": 2048000,
      "rowLimit": 10000
     },
     "inputWidgets": {},
     "nuid": "424568e8-ce83-4c2f-949a-4ceca1c4cbae",
     "showTitle": false,
     "tableResultSettingsMap": {},
     "title": ""
    }
   },
   "outputs": [],
   "source": [
    "# create a list of the name of schemas and a list of the name of tables, both from the spark dataframe\n",
    "schemas = [row['nom_schema'] for row in df.select('nom_schema').collect()]\n",
    "tables = [row['nom_table'] for row in df.select('nom_table').collect()]"
   ]
  },
  {
   "cell_type": "code",
   "execution_count": 0,
   "metadata": {
    "application/vnd.databricks.v1+cell": {
     "cellMetadata": {
      "byteLimit": 2048000,
      "rowLimit": 10000
     },
     "inputWidgets": {},
     "nuid": "7cc4feb5-0567-487a-907d-a2fb3826e816",
     "showTitle": false,
     "tableResultSettingsMap": {},
     "title": ""
    }
   },
   "outputs": [],
   "source": [
    "# set a connection using jdbc and spark\n",
    "\n",
    "jdbc_url = \"jdbc:postgresql://host:port/db\"\n",
    "\n",
    "for schema, table in zip(schemas, tables):\n",
    "    dbtable = f\"{schema}.{table}\"\n",
    "    df = spark.read.format(\"jdbc\").options(\n",
    "        url=jdbc_url,\n",
    "        dbtable=dbtable,\n",
    "        user=\"user\",\n",
    "        password=\"password\",\n",
    "        driver=\"org.postgresql.Driver\"\n",
    "    ).load()\n",
    "    \n",
    "    df.write.saveAsTable(f\"`{schema}-{table}`\")"
   ]
  }
 ],
 "metadata": {
  "application/vnd.databricks.v1+notebook": {
   "computePreferences": null,
   "dashboards": [],
   "environmentMetadata": {
    "base_environment": "",
    "environment_version": "4"
   },
   "inputWidgetPreferences": null,
   "language": "python",
   "notebookMetadata": {
    "mostRecentlyExecutedCommandWithImplicitDF": {
     "commandId": 5765088455256976,
     "dataframes": [
      "_sqldf"
     ]
    },
    "pythonIndentUnit": 4
   },
   "notebookName": "ingestion de données datageo",
   "widgets": {}
  },
  "language_info": {
   "name": "python"
  }
 },
 "nbformat": 4,
 "nbformat_minor": 0
}
