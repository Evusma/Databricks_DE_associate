{
 "cells": [
  {
   "cell_type": "markdown",
   "metadata": {
    "application/vnd.databricks.v1+cell": {
     "cellMetadata": {},
     "inputWidgets": {},
     "nuid": "0c0b60eb-f0b1-4933-9759-129eeb756b9c",
     "showTitle": false,
     "tableResultSettingsMap": {},
     "title": ""
    }
   },
   "source": [
    "# Option 1: Foreign catalog\n",
    "\n",
    "### Create a connection\n",
    "A connection specifies a path and credentials for accessing an external database system. To create a connection, you can use Catalog Explorer or the CREATE CONNECTION SQL command in a Databricks notebook or the Databricks SQL query editor.\n",
    "\n",
    "https://docs.databricks.com/aws/en/query-federation/postgresql?language=SQL"
   ]
  },
  {
   "cell_type": "code",
   "execution_count": 0,
   "metadata": {
    "application/vnd.databricks.v1+cell": {
     "cellMetadata": {},
     "inputWidgets": {},
     "nuid": "d96c5566-2350-41a9-a630-8679dcc08f35",
     "showTitle": false,
     "tableResultSettingsMap": {},
     "title": ""
    }
   },
   "outputs": [],
   "source": [
    "%sql\n",
    "-- Step 1: Create a connection to the PostgreSQL database using JDBC\n",
    "CREATE CONNECTION IF NOT EXISTS conn\n",
    "TYPE POSTGRESQL\n",
    "OPTIONS (\n",
    "  host = 'host',\n",
    "  port = 'port',\n",
    "  user = 'user',\n",
    "  password = 'password'\n",
    ");\n",
    "\n",
    "SHOW CONNECTIONS;"
   ]
  },
  {
   "cell_type": "markdown",
   "metadata": {
    "application/vnd.databricks.v1+cell": {
     "cellMetadata": {},
     "inputWidgets": {},
     "nuid": "1c34e8e6-59eb-41be-a1f9-348862e65b25",
     "showTitle": false,
     "tableResultSettingsMap": {},
     "title": ""
    }
   },
   "source": [
    "### Create a foreign catalog\n",
    "A foreign catalog mirrors a database in an external data system so that you can query and manage access to data in that database using Databricks and Unity Catalog. To create a foreign catalog, you use a connection to the data source that has already been defined.\n",
    "\n",
    "Permissions required: CREATE CATALOG permission on the metastore and either ownership of the connection or the CREATE FOREIGN CATALOG privilege on the connection."
   ]
  },
  {
   "cell_type": "code",
   "execution_count": 0,
   "metadata": {
    "application/vnd.databricks.v1+cell": {
     "cellMetadata": {},
     "inputWidgets": {},
     "nuid": "2bbc765d-3808-4f2e-8407-4a1d1ea77f5b",
     "showTitle": false,
     "tableResultSettingsMap": {},
     "title": ""
    }
   },
   "outputs": [],
   "source": [
    "%sql\n",
    "CREATE FOREIGN CATALOG IF NOT EXISTS foreign_catalog USING CONNECTION conn\n",
    "OPTIONS (database 'db');"
   ]
  },
  {
   "cell_type": "markdown",
   "metadata": {
    "application/vnd.databricks.v1+cell": {
     "cellMetadata": {},
     "inputWidgets": {},
     "nuid": "483d13bf-5014-4ba0-95c5-1286e8605adf",
     "showTitle": false,
     "tableResultSettingsMap": {},
     "title": ""
    }
   },
   "source": [
    "# Option 2: Only table connection"
   ]
  },
  {
   "cell_type": "markdown",
   "metadata": {
    "application/vnd.databricks.v1+cell": {
     "cellMetadata": {},
     "inputWidgets": {},
     "nuid": "7822291d-e685-4be0-a810-3c0e66efc42c",
     "showTitle": false,
     "tableResultSettingsMap": {},
     "title": ""
    }
   },
   "source": [
    "### Create a catalog\n",
    "Create a standard Unity Catalog catalog. If the catalog already contains Delta tables, you cannot use the USING JDBC approach to register external tables in the same schema as those Delta tables. Unity Catalog does not allow mixing managed (Delta/Iceberg) tables and external JDBC tables in the same schema or catalog. Attempting to do so will result in an error.\n",
    "\n",
    "Permissions required: CREATE CATALOG permission on the metastore."
   ]
  },
  {
   "cell_type": "code",
   "execution_count": 0,
   "metadata": {
    "application/vnd.databricks.v1+cell": {
     "cellMetadata": {},
     "inputWidgets": {},
     "nuid": "4a2f2306-b211-4cee-a250-d5eb22417d33",
     "showTitle": false,
     "tableResultSettingsMap": {},
     "title": ""
    }
   },
   "outputs": [],
   "source": [
    "%sql\n",
    "CREATE CATALOG IF NOT EXISTS catalog\n",
    "COMMENT 'Catalog for external postgresql tables';"
   ]
  },
  {
   "cell_type": "markdown",
   "metadata": {
    "application/vnd.databricks.v1+cell": {
     "cellMetadata": {},
     "inputWidgets": {},
     "nuid": "87525ada-1330-4daa-89cd-f970a4065f82",
     "showTitle": false,
     "tableResultSettingsMap": {},
     "title": ""
    }
   },
   "source": [
    "Here in a csv, we have the list of tables to register. The csv has been uploaded in our volume."
   ]
  },
  {
   "cell_type": "code",
   "execution_count": 0,
   "metadata": {
    "application/vnd.databricks.v1+cell": {
     "cellMetadata": {},
     "inputWidgets": {},
     "nuid": "2e205adc-e2f6-4562-bf1a-155dfa85007e",
     "showTitle": false,
     "tableResultSettingsMap": {},
     "title": ""
    }
   },
   "outputs": [],
   "source": [
    "# read the information using a spark dataframe\n",
    "df = (spark.read\n",
    "      .option(\"header\",\"true\")\n",
    "      .option(\"delimiter\",\";\")\n",
    "      .csv('/Volumes/tables.csv')\n",
    ")\n",
    "df.limit(5).display()"
   ]
  },
  {
   "cell_type": "code",
   "execution_count": 0,
   "metadata": {
    "application/vnd.databricks.v1+cell": {
     "cellMetadata": {},
     "inputWidgets": {},
     "nuid": "0f27b976-c23a-4f36-b6e0-d82851181498",
     "showTitle": false,
     "tableResultSettingsMap": {},
     "title": ""
    }
   },
   "outputs": [],
   "source": [
    "# create a list of the name of schemas and a list of the name of tables, both from the spark dataframe\n",
    "schemas = [row['nom_schema'] for row in df.select('nom_schema').collect()]\n",
    "tables = [row['nom_table'] for row in df.select('nom_table').collect()]"
   ]
  },
  {
   "cell_type": "markdown",
   "metadata": {
    "application/vnd.databricks.v1+cell": {
     "cellMetadata": {},
     "inputWidgets": {},
     "nuid": "2068dcbc-afd7-4448-804f-da7857192dec",
     "showTitle": false,
     "tableResultSettingsMap": {},
     "title": ""
    }
   },
   "source": [
    "The following approach registers the table in the Databricks catalog and queries will be pushed down to PostgreSQL, so data is not ingested into Databricks storage:\n",
    "\n",
    "(This requires Unity Catalog and the JDBC table feature enabled in your workspace.)"
   ]
  },
  {
   "cell_type": "code",
   "execution_count": 0,
   "metadata": {
    "application/vnd.databricks.v1+cell": {
     "cellMetadata": {},
     "inputWidgets": {},
     "nuid": "acd8ede1-c7e2-4f4b-8d0a-04c84bc2813b",
     "showTitle": false,
     "tableResultSettingsMap": {},
     "title": ""
    }
   },
   "outputs": [],
   "source": [
    "display(spark.sql(\"USE CATALOG catalog\"))\n",
    "\n",
    "# register the table in the Databricks catalog\n",
    "for schema, table in zip(schemas, tables):\n",
    "    spqrk.sql(f\"CREATE SCHEMA IF NOT EXISTS {schema}\")\n",
    "    table = f\"{schema}.{table}\"\n",
    "    spark.sql(f\"\"\"\n",
    "    CREATE TABLE IF NOT EXISTS catalog.{table}\n",
    "    USING JDBC\n",
    "    OPTIONS (\n",
    "        url 'jdbc:postgresql://host:port/db',\n",
    "        dbtable '{table}'\n",
    "        user 'user',\n",
    "        password 'password',\n",
    "        driver 'org.postgresql.Driver'\n",
    "    )\n",
    "\"\"\")"
   ]
  },
  {
   "cell_type": "markdown",
   "metadata": {},
   "source": [
    "The JDBC table feature in Databricks Unity Catalog allows you to register external tables that reference data in JDBC-accessible databases (like PostgreSQL) without ingesting the data into Databricks storage. This feature must be enabled in your workspace to use SQL statements like `CREATE TABLE ... USING JDBC ...` that register external tables in Unity Catalog and push queries down to the source database.\n",
    "\n",
    "To check or enable this feature, you need to:\n",
    "\n",
    "- Be on a supported Databricks Runtime.\n",
    "- Have Unity Catalog enabled in your workspace.\n",
    "- Have the JDBC table feature enabled by your Databricks admin.\n",
    "\n",
    "This is a workspace-level setting that may require admin action. If you do not see errors when running `CREATE TABLE ... USING JDBC ...`, the feature is likely enabled.\n",
    "\n",
    "If you are unsure, contact your Databricks workspace admin to confirm that the JDBC table feature is enabled for Unity Catalog in your workspace."
   ]
  }
 ],
 "metadata": {
  "application/vnd.databricks.v1+notebook": {
   "computePreferences": null,
   "dashboards": [],
   "environmentMetadata": {
    "base_environment": "",
    "environment_version": "4"
   },
   "inputWidgetPreferences": null,
   "language": "python",
   "notebookMetadata": {
    "pythonIndentUnit": 4
   },
   "notebookName": "connexion des données datageo",
   "widgets": {}
  },
  "language_info": {
   "name": "python"
  }
 },
 "nbformat": 4,
 "nbformat_minor": 0
}
