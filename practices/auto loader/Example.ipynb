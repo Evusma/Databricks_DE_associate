{
 "cells": [
  {
   "cell_type": "markdown",
   "metadata": {
    "application/vnd.databricks.v1+cell": {
     "cellMetadata": {},
     "inputWidgets": {},
     "nuid": "6224f6e9-cc3f-416d-9699-b69bb699416a",
     "showTitle": false,
     "tableResultSettingsMap": {},
     "title": ""
    }
   },
   "source": [
    "### Example of Auto Loader with PySpark"
   ]
  },
  {
   "cell_type": "code",
   "execution_count": 0,
   "metadata": {
    "application/vnd.databricks.v1+cell": {
     "cellMetadata": {
      "byteLimit": 2048000,
      "rowLimit": 10000
     },
     "inputWidgets": {},
     "nuid": "dcea6f6c-be63-492b-8865-be235faebf42",
     "showTitle": false,
     "tableResultSettingsMap": {},
     "title": ""
    }
   },
   "outputs": [
    {
     "data": {
      "text/plain": [
       "DataFrame[]"
      ]
     },
     "execution_count": 1,
     "metadata": {},
     "output_type": "execute_result"
    }
   ],
   "source": [
    "spark.sql(\"USE CATALOG catalog\")\n",
    "spark.sql(\"USE schema\")"
   ]
  },
  {
   "cell_type": "code",
   "execution_count": 0,
   "metadata": {
    "application/vnd.databricks.v1+cell": {
     "cellMetadata": {
      "byteLimit": 2048000,
      "rowLimit": 10000
     },
     "inputWidgets": {},
     "nuid": "63f3553f-0463-41b0-9ba6-b2727d92c3a9",
     "showTitle": false,
     "tableResultSettingsMap": {},
     "title": ""
    }
   },
   "outputs": [],
   "source": [
    "from pyspark.sql.types import StructType, StructField, StringType, IntegerType\n",
    "schema = StructType([\n",
    "   StructField(\"Id\", IntegerType(), True),\n",
    "   StructField(\"name\", StringType(), True),\n",
    "   StructField(\"age\", IntegerType(), True),\n",
    "   StructField(\"money\", IntegerType(), True),\n",
    "   StructField(\"sales\", IntegerType(), True),\n",
    "   StructField(\"units\", IntegerType(), True),\n",
    "])"
   ]
  },
  {
   "cell_type": "code",
   "execution_count": 0,
   "metadata": {
    "application/vnd.databricks.v1+cell": {
     "cellMetadata": {
      "byteLimit": 2048000,
      "rowLimit": 10000
     },
     "inputWidgets": {},
     "nuid": "2d2ec208-dc88-4223-88ee-f3bd694af598",
     "showTitle": false,
     "tableResultSettingsMap": {},
     "title": ""
    }
   },
   "outputs": [],
   "source": [
    "# Define the path where new data files will arrive\n",
    "path = \"/Volumes/autoloader/json2/\"\n",
    "checkpoint = \"/Volumes/autoloader/json2/checkpoint/\"\n",
    "\n",
    "# Define the Auto Loader options\n",
    "autoLoaderOptions = {\n",
    "  \"cloudFiles.format\": \"json\",\n",
    "  \"multiline\": \"true\"\n",
    "}\n",
    "      \n",
    "# Create a streaming DataFrame using Auto Loader\n",
    "streamingDF = (\n",
    "    spark.readStream\n",
    "    .format(\"cloudFiles\")\n",
    "    .options(**autoLoaderOptions)\n",
    "    .schema(schema)\n",
    "    .load(path)\n",
    ")\n",
    "\n",
    "# Example processing logic\n",
    "processedDF = streamingDF.select(\"Id\",\"name\", \"age\").na.drop()\n",
    "\n",
    "# Start the Streaming Query\n",
    "query = (\n",
    "    processedDF.writeStream\n",
    "    .format(\"delta\")\n",
    "    .outputMode(\"append\")\n",
    "    .option(\"checkpointLocation\", checkpoint)\n",
    "    .toTable(\"autoloader2\")\n",
    ")\n"
   ]
  },
  {
   "cell_type": "code",
   "execution_count": 0,
   "metadata": {
    "application/vnd.databricks.v1+cell": {
     "cellMetadata": {
      "byteLimit": 2048000,
      "rowLimit": 10000
     },
     "inputWidgets": {},
     "nuid": "433cd32f-ca46-4c4d-84a4-a2727a6cedd2",
     "showTitle": false,
     "tableResultSettingsMap": {},
     "title": ""
    }
   },
   "outputs": [],
   "source": [
    "query.stop()"
   ]
  },
  {
   "cell_type": "code",
   "execution_count": 0,
   "metadata": {
    "application/vnd.databricks.v1+cell": {
     "cellMetadata": {
      "byteLimit": 2048000,
      "implicitDf": true,
      "rowLimit": 10000
     },
     "inputWidgets": {},
     "nuid": "a75f9141-799d-4b2c-98c6-c1a80d9e904c",
     "showTitle": false,
     "tableResultSettingsMap": {},
     "title": ""
    }
   },
   "outputs": [
    {
     "data": {
      "text/html": [
       "<style scoped>\n",
       "  .table-result-container {\n",
       "    max-height: 300px;\n",
       "    overflow: auto;\n",
       "  }\n",
       "  table, th, td {\n",
       "    border: 1px solid black;\n",
       "    border-collapse: collapse;\n",
       "  }\n",
       "  th, td {\n",
       "    padding: 5px;\n",
       "  }\n",
       "  th {\n",
       "    text-align: left;\n",
       "  }\n",
       "</style><div class='table-result-container'><table class='table-result'><thead style='background-color: white'><tr><th>Id</th><th>name</th><th>age</th></tr></thead><tbody><tr><td>10</td><td>Julia</td><td>26</td></tr><tr><td>11</td><td>Kevin</td><td>39</td></tr><tr><td>12</td><td>Laura</td><td>31</td></tr><tr><td>7</td><td>George</td><td>30</td></tr><tr><td>8</td><td>Hannah</td><td>28</td></tr><tr><td>9</td><td>Ian</td><td>36</td></tr><tr><td>1</td><td>Alice</td><td>25</td></tr><tr><td>2</td><td>Bob</td><td>32</td></tr><tr><td>3</td><td>Charlie</td><td>29</td></tr><tr><td>4</td><td>Diana</td><td>41</td></tr><tr><td>5</td><td>Ethan</td><td>27</td></tr><tr><td>6</td><td>Fiona</td><td>34</td></tr></tbody></table></div>"
      ]
     },
     "metadata": {
      "application/vnd.databricks.v1+output": {
       "addedWidgets": {},
       "aggData": [],
       "aggError": "",
       "aggOverflow": false,
       "aggSchema": [],
       "aggSeriesLimitReached": false,
       "aggType": "",
       "arguments": {},
       "columnCustomDisplayInfos": {},
       "data": [
        [
         10,
         "Julia",
         26
        ],
        [
         11,
         "Kevin",
         39
        ],
        [
         12,
         "Laura",
         31
        ],
        [
         7,
         "George",
         30
        ],
        [
         8,
         "Hannah",
         28
        ],
        [
         9,
         "Ian",
         36
        ],
        [
         1,
         "Alice",
         25
        ],
        [
         2,
         "Bob",
         32
        ],
        [
         3,
         "Charlie",
         29
        ],
        [
         4,
         "Diana",
         41
        ],
        [
         5,
         "Ethan",
         27
        ],
        [
         6,
         "Fiona",
         34
        ]
       ],
       "datasetInfos": [
        {
         "name": "_sqldf",
         "schema": {
          "fields": [
           {
            "metadata": {},
            "name": "Id",
            "nullable": true,
            "type": "integer"
           },
           {
            "metadata": {},
            "name": "name",
            "nullable": true,
            "type": "string"
           },
           {
            "metadata": {},
            "name": "age",
            "nullable": true,
            "type": "integer"
           }
          ],
          "type": "struct"
         },
         "tableIdentifier": null,
         "typeStr": "pyspark.sql.connect.dataframe.DataFrame"
        }
       ],
       "dbfsResultPath": null,
       "isJsonSchema": true,
       "metadata": {
        "createTempViewForImplicitDf": true,
        "dataframeName": "_sqldf",
        "executionCount": 30
       },
       "overflow": false,
       "plotOptions": {
        "customPlotOptions": {},
        "displayType": "table",
        "pivotAggregation": null,
        "pivotColumns": null,
        "xColumns": null,
        "yColumns": null
       },
       "removedWidgets": [],
       "schema": [
        {
         "metadata": "{}",
         "name": "Id",
         "type": "\"integer\""
        },
        {
         "metadata": "{}",
         "name": "name",
         "type": "\"string\""
        },
        {
         "metadata": "{}",
         "name": "age",
         "type": "\"integer\""
        }
       ],
       "type": "table"
      }
     },
     "output_type": "display_data"
    }
   ],
   "source": [
    "%sql\n",
    "SELECT * FROM autoloader2"
   ]
  }
 ],
 "metadata": {
  "application/vnd.databricks.v1+notebook": {
   "computePreferences": null,
   "dashboards": [],
   "environmentMetadata": {
    "base_environment": "",
    "environment_version": "3"
   },
   "inputWidgetPreferences": null,
   "language": "python",
   "notebookMetadata": {
    "mostRecentlyExecutedCommandWithImplicitDF": {
     "commandId": 6148255994177216,
     "dataframes": [
      "_sqldf"
     ]
    },
    "pythonIndentUnit": 4
   },
   "notebookName": "Example 2025-09-26 16:59:24",
   "widgets": {}
  },
  "language_info": {
   "name": "python"
  }
 },
 "nbformat": 4,
 "nbformat_minor": 0
}
