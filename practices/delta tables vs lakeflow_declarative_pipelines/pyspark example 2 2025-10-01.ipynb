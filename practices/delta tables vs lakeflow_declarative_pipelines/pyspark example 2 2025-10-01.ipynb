{
 "cells": [
  {
   "cell_type": "code",
   "execution_count": 0,
   "metadata": {
    "application/vnd.databricks.v1+cell": {
     "cellMetadata": {
      "byteLimit": 2048000,
      "rowLimit": 10000
     },
     "inputWidgets": {},
     "nuid": "3fae0b28-c097-424f-9624-6863d6505471",
     "showTitle": false,
     "tableResultSettingsMap": {},
     "title": ""
    }
   },
   "outputs": [],
   "source": [
    "# Here is how you can define a streaming pipeline using only PySpark DataFrame and Structured Streaming APIs, without using the dp (or dlt) module. This approach is suitable for prototyping or when you do not need the managed features of Lakeflow Declarative Pipelines\n",
    "\n",
    "\n",
    "spark.sql(\"USE CATALOG dataops_dev\")\n",
    "spark.sql(\"USE schema_test\")\n",
    "\n",
    "\n",
    "from pyspark.sql.functions import col, sum as _sum\n",
    "from pyspark.sql.types import StructType, StructField, StringType, IntegerType\n",
    "\n",
    "schema = StructType([\n",
    "   StructField(\"Id\", IntegerType(), True),\n",
    "   StructField(\"name\", StringType(), True),\n",
    "   StructField(\"age\", IntegerType(), True),\n",
    "   StructField(\"money\", IntegerType(), True),\n",
    "   StructField(\"sales\", IntegerType(), True),\n",
    "   StructField(\"units\", IntegerType(), True),\n",
    "])\n",
    "\n",
    "# Read streaming data from a JSON source\n",
    "bronze_sales_stream = (\n",
    "        spark.readStream\n",
    "        .format(\"json\")\n",
    "        .option(\"multiLine\", True)\n",
    "        .schema(schema)\n",
    "        .load(\"/Volumes/dataops_dev/schema_test/volume_test/delta_tables/json/\")\n",
    "        .na.drop()\n",
    "    )\n",
    "\n",
    "# Write the streaming data to a Delta table\n",
    "bronze_query = (\n",
    "    bronze_sales_stream.writeStream\n",
    "    .format(\"delta\")\n",
    "    .outputMode(\"append\")\n",
    "    .option(\"checkpointLocation\", \"/Volumes/dataops_dev/schema_test/volume_test/delta_tables/checkpoints_bronze_spark2\")\n",
    "    .toTable(\"bronze_sales_spark3\")\n",
    ")\n",
    "\n",
    "# Wait for the streaming query to process data (or for a certain time)\n",
    "bronze_query.awaitTermination(80)\n",
    "\n",
    "# Read data from the Bronze Delta table\n",
    "bronze_sales_table = spark.read.table(\"bronze_sales_spark3\")\n",
    "\n",
    "# Clean and transform the data\n",
    "silver_sales = (\n",
    "        bronze_sales_table\n",
    "        .filter(col(\"money\") > 0)\n",
    "        .select(\n",
    "            col(\"Id\"),\n",
    "            col(\"money\").cast(\"double\")\n",
    "        )\n",
    "    )\n",
    "\n",
    "# Write the transformed data to a Delta table\n",
    "(\n",
    "    silver_sales.write\n",
    "    .format(\"delta\")\n",
    "    .mode(\"append\")\n",
    "    .saveAsTable(\"silver_sales_spark3\")\n",
    ")\n",
    "\n",
    "# Read data from the Silver Delta table\n",
    "silver_sales_table = spark.read.table(\"silver_sales_spark3\")\n",
    "\n",
    "# Perform batch aggregation\n",
    "gold_sales = (\n",
    "    silver_sales_table\n",
    "    .groupBy(\"Id\")\n",
    "    .agg(\n",
    "        _sum(\"money\").alias(\"total_money\")\n",
    "        )\n",
    ")\n",
    "\n",
    "# Write the aggregated data to a Delta table\n",
    "(\n",
    "    gold_sales.write\n",
    "    .format(\"delta\")\n",
    "    .mode(\"overwrite\")\n",
    "    .saveAsTable(\"gold_sales_summary_spark3\")\n",
    ")"
   ]
  },
  {
   "cell_type": "code",
   "execution_count": 0,
   "metadata": {
    "application/vnd.databricks.v1+cell": {
     "cellMetadata": {
      "byteLimit": 2048000,
      "rowLimit": 10000
     },
     "inputWidgets": {},
     "nuid": "32301102-44a0-474c-a397-fdd1439ec383",
     "showTitle": false,
     "tableResultSettingsMap": {},
     "title": ""
    }
   },
   "outputs": [],
   "source": [
    "bronze_query.stop()"
   ]
  },
  {
   "cell_type": "code",
   "execution_count": 0,
   "metadata": {
    "application/vnd.databricks.v1+cell": {
     "cellMetadata": {
      "byteLimit": 2048000,
      "implicitDf": true,
      "rowLimit": 10000
     },
     "inputWidgets": {},
     "nuid": "79ac8fc3-5da1-4f79-a60c-64e169378363",
     "showTitle": false,
     "tableResultSettingsMap": {},
     "title": ""
    }
   },
   "outputs": [
    {
     "output_type": "display_data",
     "data": {
      "text/html": [
       "<style scoped>\n",
       "  .table-result-container {\n",
       "    max-height: 300px;\n",
       "    overflow: auto;\n",
       "  }\n",
       "  table, th, td {\n",
       "    border: 1px solid black;\n",
       "    border-collapse: collapse;\n",
       "  }\n",
       "  th, td {\n",
       "    padding: 5px;\n",
       "  }\n",
       "  th {\n",
       "    text-align: left;\n",
       "  }\n",
       "</style><div class='table-result-container'><table class='table-result'><thead style='background-color: white'><tr><th>Id</th><th>name</th><th>age</th><th>money</th><th>sales</th><th>units</th></tr></thead><tbody><tr><td>10</td><td>Julia</td><td>26</td><td>1300</td><td>2800</td><td>28</td></tr><tr><td>11</td><td>Kevin</td><td>39</td><td>1750</td><td>5500</td><td>55</td></tr><tr><td>12</td><td>Laura</td><td>31</td><td>1450</td><td>3800</td><td>38</td></tr><tr><td>7</td><td>George</td><td>30</td><td>1100</td><td>2200</td><td>22</td></tr><tr><td>8</td><td>Hannah</td><td>28</td><td>1600</td><td>4000</td><td>40</td></tr><tr><td>9</td><td>Ian</td><td>36</td><td>2000</td><td>6500</td><td>65</td></tr><tr><td>1</td><td>Alice</td><td>25</td><td>1200</td><td>4500</td><td>45</td></tr><tr><td>2</td><td>Bob</td><td>32</td><td>850</td><td>3000</td><td>30</td></tr><tr><td>3</td><td>Charlie</td><td>29</td><td>1500</td><td>6000</td><td>60</td></tr><tr><td>4</td><td>Diana</td><td>41</td><td>2100</td><td>7500</td><td>75</td></tr><tr><td>5</td><td>Ethan</td><td>27</td><td>950</td><td>2500</td><td>25</td></tr><tr><td>6</td><td>Fiona</td><td>34</td><td>1800</td><td>5000</td><td>50</td></tr></tbody></table></div>"
      ]
     },
     "metadata": {
      "application/vnd.databricks.v1+output": {
       "addedWidgets": {},
       "aggData": [],
       "aggError": "",
       "aggOverflow": false,
       "aggSchema": [],
       "aggSeriesLimitReached": false,
       "aggType": "",
       "arguments": {},
       "columnCustomDisplayInfos": {},
       "data": [
        [
         10,
         "Julia",
         26,
         1300,
         2800,
         28
        ],
        [
         11,
         "Kevin",
         39,
         1750,
         5500,
         55
        ],
        [
         12,
         "Laura",
         31,
         1450,
         3800,
         38
        ],
        [
         7,
         "George",
         30,
         1100,
         2200,
         22
        ],
        [
         8,
         "Hannah",
         28,
         1600,
         4000,
         40
        ],
        [
         9,
         "Ian",
         36,
         2000,
         6500,
         65
        ],
        [
         1,
         "Alice",
         25,
         1200,
         4500,
         45
        ],
        [
         2,
         "Bob",
         32,
         850,
         3000,
         30
        ],
        [
         3,
         "Charlie",
         29,
         1500,
         6000,
         60
        ],
        [
         4,
         "Diana",
         41,
         2100,
         7500,
         75
        ],
        [
         5,
         "Ethan",
         27,
         950,
         2500,
         25
        ],
        [
         6,
         "Fiona",
         34,
         1800,
         5000,
         50
        ]
       ],
       "datasetInfos": [
        {
         "name": "_sqldf",
         "schema": {
          "fields": [
           {
            "metadata": {},
            "name": "Id",
            "nullable": true,
            "type": "integer"
           },
           {
            "metadata": {},
            "name": "name",
            "nullable": true,
            "type": "string"
           },
           {
            "metadata": {},
            "name": "age",
            "nullable": true,
            "type": "integer"
           },
           {
            "metadata": {},
            "name": "money",
            "nullable": true,
            "type": "integer"
           },
           {
            "metadata": {},
            "name": "sales",
            "nullable": true,
            "type": "integer"
           },
           {
            "metadata": {},
            "name": "units",
            "nullable": true,
            "type": "integer"
           }
          ],
          "type": "struct"
         },
         "tableIdentifier": null,
         "typeStr": "pyspark.sql.connect.dataframe.DataFrame"
        }
       ],
       "dbfsResultPath": null,
       "isJsonSchema": true,
       "metadata": {
        "createTempViewForImplicitDf": true,
        "dataframeName": "_sqldf",
        "executionCount": 20
       },
       "overflow": false,
       "plotOptions": {
        "customPlotOptions": {},
        "displayType": "table",
        "pivotAggregation": null,
        "pivotColumns": null,
        "xColumns": null,
        "yColumns": null
       },
       "removedWidgets": [],
       "schema": [
        {
         "metadata": "{}",
         "name": "Id",
         "type": "\"integer\""
        },
        {
         "metadata": "{}",
         "name": "name",
         "type": "\"string\""
        },
        {
         "metadata": "{}",
         "name": "age",
         "type": "\"integer\""
        },
        {
         "metadata": "{}",
         "name": "money",
         "type": "\"integer\""
        },
        {
         "metadata": "{}",
         "name": "sales",
         "type": "\"integer\""
        },
        {
         "metadata": "{}",
         "name": "units",
         "type": "\"integer\""
        }
       ],
       "type": "table"
      }
     },
     "output_type": "display_data"
    }
   ],
   "source": [
    "%sql\n",
    "SELECT * FROM bronze_sales_spark3;\n"
   ]
  },
  {
   "cell_type": "code",
   "execution_count": 0,
   "metadata": {
    "application/vnd.databricks.v1+cell": {
     "cellMetadata": {
      "byteLimit": 2048000,
      "implicitDf": true,
      "rowLimit": 10000
     },
     "inputWidgets": {},
     "nuid": "869a56e1-897d-4bb8-9581-f5d87bfe36b4",
     "showTitle": false,
     "tableResultSettingsMap": {},
     "title": ""
    }
   },
   "outputs": [
    {
     "output_type": "display_data",
     "data": {
      "text/html": [
       "<style scoped>\n",
       "  .table-result-container {\n",
       "    max-height: 300px;\n",
       "    overflow: auto;\n",
       "  }\n",
       "  table, th, td {\n",
       "    border: 1px solid black;\n",
       "    border-collapse: collapse;\n",
       "  }\n",
       "  th, td {\n",
       "    padding: 5px;\n",
       "  }\n",
       "  th {\n",
       "    text-align: left;\n",
       "  }\n",
       "</style><div class='table-result-container'><table class='table-result'><thead style='background-color: white'><tr><th>Id</th><th>money</th></tr></thead><tbody><tr><td>10</td><td>1300.0</td></tr><tr><td>11</td><td>1750.0</td></tr><tr><td>12</td><td>1450.0</td></tr><tr><td>7</td><td>1100.0</td></tr><tr><td>8</td><td>1600.0</td></tr><tr><td>9</td><td>2000.0</td></tr><tr><td>1</td><td>1200.0</td></tr><tr><td>2</td><td>850.0</td></tr><tr><td>3</td><td>1500.0</td></tr><tr><td>4</td><td>2100.0</td></tr><tr><td>5</td><td>950.0</td></tr><tr><td>6</td><td>1800.0</td></tr></tbody></table></div>"
      ]
     },
     "metadata": {
      "application/vnd.databricks.v1+output": {
       "addedWidgets": {},
       "aggData": [],
       "aggError": "",
       "aggOverflow": false,
       "aggSchema": [],
       "aggSeriesLimitReached": false,
       "aggType": "",
       "arguments": {},
       "columnCustomDisplayInfos": {},
       "data": [
        [
         10,
         1300.0
        ],
        [
         11,
         1750.0
        ],
        [
         12,
         1450.0
        ],
        [
         7,
         1100.0
        ],
        [
         8,
         1600.0
        ],
        [
         9,
         2000.0
        ],
        [
         1,
         1200.0
        ],
        [
         2,
         850.0
        ],
        [
         3,
         1500.0
        ],
        [
         4,
         2100.0
        ],
        [
         5,
         950.0
        ],
        [
         6,
         1800.0
        ]
       ],
       "datasetInfos": [
        {
         "name": "_sqldf",
         "schema": {
          "fields": [
           {
            "metadata": {},
            "name": "Id",
            "nullable": true,
            "type": "integer"
           },
           {
            "metadata": {},
            "name": "money",
            "nullable": true,
            "type": "double"
           }
          ],
          "type": "struct"
         },
         "tableIdentifier": null,
         "typeStr": "pyspark.sql.connect.dataframe.DataFrame"
        }
       ],
       "dbfsResultPath": null,
       "isJsonSchema": true,
       "metadata": {
        "createTempViewForImplicitDf": true,
        "dataframeName": "_sqldf",
        "executionCount": 21
       },
       "overflow": false,
       "plotOptions": {
        "customPlotOptions": {},
        "displayType": "table",
        "pivotAggregation": null,
        "pivotColumns": null,
        "xColumns": null,
        "yColumns": null
       },
       "removedWidgets": [],
       "schema": [
        {
         "metadata": "{}",
         "name": "Id",
         "type": "\"integer\""
        },
        {
         "metadata": "{}",
         "name": "money",
         "type": "\"double\""
        }
       ],
       "type": "table"
      }
     },
     "output_type": "display_data"
    }
   ],
   "source": [
    "%sql\n",
    "SELECT * FROM silver_sales_spark3;\n"
   ]
  },
  {
   "cell_type": "code",
   "execution_count": 0,
   "metadata": {
    "application/vnd.databricks.v1+cell": {
     "cellMetadata": {
      "byteLimit": 2048000,
      "implicitDf": true,
      "rowLimit": 10000
     },
     "inputWidgets": {},
     "nuid": "e2ee9acb-8f4c-4dba-8c01-a05642e84886",
     "showTitle": false,
     "tableResultSettingsMap": {},
     "title": ""
    }
   },
   "outputs": [
    {
     "output_type": "display_data",
     "data": {
      "text/html": [
       "<style scoped>\n",
       "  .table-result-container {\n",
       "    max-height: 300px;\n",
       "    overflow: auto;\n",
       "  }\n",
       "  table, th, td {\n",
       "    border: 1px solid black;\n",
       "    border-collapse: collapse;\n",
       "  }\n",
       "  th, td {\n",
       "    padding: 5px;\n",
       "  }\n",
       "  th {\n",
       "    text-align: left;\n",
       "  }\n",
       "</style><div class='table-result-container'><table class='table-result'><thead style='background-color: white'><tr><th>Id</th><th>total_money</th></tr></thead><tbody><tr><td>12</td><td>1450.0</td></tr><tr><td>1</td><td>1200.0</td></tr><tr><td>6</td><td>1800.0</td></tr><tr><td>3</td><td>1500.0</td></tr><tr><td>5</td><td>950.0</td></tr><tr><td>9</td><td>2000.0</td></tr><tr><td>4</td><td>2100.0</td></tr><tr><td>8</td><td>1600.0</td></tr><tr><td>7</td><td>1100.0</td></tr><tr><td>10</td><td>1300.0</td></tr><tr><td>11</td><td>1750.0</td></tr><tr><td>2</td><td>850.0</td></tr></tbody></table></div>"
      ]
     },
     "metadata": {
      "application/vnd.databricks.v1+output": {
       "addedWidgets": {},
       "aggData": [],
       "aggError": "",
       "aggOverflow": false,
       "aggSchema": [],
       "aggSeriesLimitReached": false,
       "aggType": "",
       "arguments": {},
       "columnCustomDisplayInfos": {},
       "data": [
        [
         12,
         1450.0
        ],
        [
         1,
         1200.0
        ],
        [
         6,
         1800.0
        ],
        [
         3,
         1500.0
        ],
        [
         5,
         950.0
        ],
        [
         9,
         2000.0
        ],
        [
         4,
         2100.0
        ],
        [
         8,
         1600.0
        ],
        [
         7,
         1100.0
        ],
        [
         10,
         1300.0
        ],
        [
         11,
         1750.0
        ],
        [
         2,
         850.0
        ]
       ],
       "datasetInfos": [
        {
         "name": "_sqldf",
         "schema": {
          "fields": [
           {
            "metadata": {},
            "name": "Id",
            "nullable": true,
            "type": "integer"
           },
           {
            "metadata": {},
            "name": "total_money",
            "nullable": true,
            "type": "double"
           }
          ],
          "type": "struct"
         },
         "tableIdentifier": null,
         "typeStr": "pyspark.sql.connect.dataframe.DataFrame"
        }
       ],
       "dbfsResultPath": null,
       "isJsonSchema": true,
       "metadata": {
        "createTempViewForImplicitDf": true,
        "dataframeName": "_sqldf",
        "executionCount": 22
       },
       "overflow": false,
       "plotOptions": {
        "customPlotOptions": {},
        "displayType": "table",
        "pivotAggregation": null,
        "pivotColumns": null,
        "xColumns": null,
        "yColumns": null
       },
       "removedWidgets": [],
       "schema": [
        {
         "metadata": "{}",
         "name": "Id",
         "type": "\"integer\""
        },
        {
         "metadata": "{}",
         "name": "total_money",
         "type": "\"double\""
        }
       ],
       "type": "table"
      }
     },
     "output_type": "display_data"
    }
   ],
   "source": [
    "%sql\n",
    "SELECT * FROM gold_sales_summary_spark3;\n"
   ]
  }
 ],
 "metadata": {
  "application/vnd.databricks.v1+notebook": {
   "computePreferences": null,
   "dashboards": [],
   "environmentMetadata": {
    "base_environment": "",
    "environment_version": "3"
   },
   "inputWidgetPreferences": null,
   "language": "python",
   "notebookMetadata": {
    "mostRecentlyExecutedCommandWithImplicitDF": {
     "commandId": 5190277786092262,
     "dataframes": [
      "_sqldf"
     ]
    },
    "pythonIndentUnit": 4
   },
   "notebookName": "pyspark example 2 2025-10-01",
   "widgets": {}
  },
  "language_info": {
   "name": "python"
  }
 },
 "nbformat": 4,
 "nbformat_minor": 0
}