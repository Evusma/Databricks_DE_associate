{
 "cells": [
  {
   "cell_type": "code",
   "execution_count": 0,
   "metadata": {
    "application/vnd.databricks.v1+cell": {
     "cellMetadata": {
      "byteLimit": 2048000,
      "implicitDf": true,
      "rowLimit": 10000
     },
     "inputWidgets": {},
     "nuid": "4eade046-000e-4ac0-b3af-6aad744db1dd",
     "showTitle": false,
     "tableResultSettingsMap": {},
     "title": ""
    }
   },
   "outputs": [
    {
     "output_type": "display_data",
     "data": {
      "text/html": [
       "<style scoped>\n",
       "  .table-result-container {\n",
       "    max-height: 300px;\n",
       "    overflow: auto;\n",
       "  }\n",
       "  table, th, td {\n",
       "    border: 1px solid black;\n",
       "    border-collapse: collapse;\n",
       "  }\n",
       "  th, td {\n",
       "    padding: 5px;\n",
       "  }\n",
       "  th {\n",
       "    text-align: left;\n",
       "  }\n",
       "</style><div class='table-result-container'><table class='table-result'><thead style='background-color: white'><tr><th>Id</th><th>age</th><th>money</th><th>name</th><th>sales</th><th>units</th><th>_rescued_data</th><th>processing_time</th><th>file</th></tr></thead><tbody><tr><td>7</td><td>30</td><td>1100</td><td>George</td><td>2200</td><td>22</td><td>null</td><td>2025-10-01T12:46:48.518Z</td><td>file3.json</td></tr><tr><td>8</td><td>28</td><td>1600</td><td>Hannah</td><td>4000</td><td>40</td><td>null</td><td>2025-10-01T12:46:48.518Z</td><td>file3.json</td></tr><tr><td>9</td><td>36</td><td>2000</td><td>Ian</td><td>6500</td><td>65</td><td>null</td><td>2025-10-01T12:46:48.518Z</td><td>file3.json</td></tr><tr><td>1</td><td>25</td><td>1200</td><td>Alice</td><td>4500</td><td>45</td><td>null</td><td>2025-10-01T12:46:48.518Z</td><td>file1.json</td></tr><tr><td>2</td><td>32</td><td>850</td><td>Bob</td><td>3000</td><td>30</td><td>null</td><td>2025-10-01T12:46:48.518Z</td><td>file1.json</td></tr><tr><td>3</td><td>29</td><td>1500</td><td>Charlie</td><td>6000</td><td>60</td><td>null</td><td>2025-10-01T12:46:48.518Z</td><td>file1.json</td></tr><tr><td>4</td><td>41</td><td>2100</td><td>Diana</td><td>7500</td><td>75</td><td>null</td><td>2025-10-01T12:46:48.518Z</td><td>file2.json</td></tr><tr><td>5</td><td>27</td><td>950</td><td>Ethan</td><td>2500</td><td>25</td><td>null</td><td>2025-10-01T12:46:48.518Z</td><td>file2.json</td></tr><tr><td>6</td><td>34</td><td>1800</td><td>Fiona</td><td>5000</td><td>50</td><td>null</td><td>2025-10-01T12:46:48.518Z</td><td>file2.json</td></tr></tbody></table></div>"
      ]
     },
     "metadata": {
      "application/vnd.databricks.v1+output": {
       "addedWidgets": {},
       "aggData": [],
       "aggError": "",
       "aggOverflow": false,
       "aggSchema": [],
       "aggSeriesLimitReached": false,
       "aggType": "",
       "arguments": {},
       "columnCustomDisplayInfos": {},
       "data": [
        [
         7,
         30,
         1100,
         "George",
         2200,
         22,
         null,
         "2025-10-01T12:46:48.518Z",
         "file3.json"
        ],
        [
         8,
         28,
         1600,
         "Hannah",
         4000,
         40,
         null,
         "2025-10-01T12:46:48.518Z",
         "file3.json"
        ],
        [
         9,
         36,
         2000,
         "Ian",
         6500,
         65,
         null,
         "2025-10-01T12:46:48.518Z",
         "file3.json"
        ],
        [
         1,
         25,
         1200,
         "Alice",
         4500,
         45,
         null,
         "2025-10-01T12:46:48.518Z",
         "file1.json"
        ],
        [
         2,
         32,
         850,
         "Bob",
         3000,
         30,
         null,
         "2025-10-01T12:46:48.518Z",
         "file1.json"
        ],
        [
         3,
         29,
         1500,
         "Charlie",
         6000,
         60,
         null,
         "2025-10-01T12:46:48.518Z",
         "file1.json"
        ],
        [
         4,
         41,
         2100,
         "Diana",
         7500,
         75,
         null,
         "2025-10-01T12:46:48.518Z",
         "file2.json"
        ],
        [
         5,
         27,
         950,
         "Ethan",
         2500,
         25,
         null,
         "2025-10-01T12:46:48.518Z",
         "file2.json"
        ],
        [
         6,
         34,
         1800,
         "Fiona",
         5000,
         50,
         null,
         "2025-10-01T12:46:48.518Z",
         "file2.json"
        ]
       ],
       "datasetInfos": [
        {
         "name": "_sqldf",
         "schema": {
          "fields": [
           {
            "metadata": {},
            "name": "Id",
            "nullable": true,
            "type": "long"
           },
           {
            "metadata": {},
            "name": "age",
            "nullable": true,
            "type": "long"
           },
           {
            "metadata": {},
            "name": "money",
            "nullable": true,
            "type": "long"
           },
           {
            "metadata": {},
            "name": "name",
            "nullable": true,
            "type": "string"
           },
           {
            "metadata": {},
            "name": "sales",
            "nullable": true,
            "type": "long"
           },
           {
            "metadata": {},
            "name": "units",
            "nullable": true,
            "type": "long"
           },
           {
            "metadata": {},
            "name": "_rescued_data",
            "nullable": true,
            "type": "string"
           },
           {
            "metadata": {},
            "name": "processing_time",
            "nullable": true,
            "type": "timestamp"
           },
           {
            "metadata": {},
            "name": "file",
            "nullable": true,
            "type": "string"
           }
          ],
          "type": "struct"
         },
         "tableIdentifier": null,
         "typeStr": "pyspark.sql.connect.dataframe.DataFrame"
        }
       ],
       "dbfsResultPath": null,
       "isJsonSchema": true,
       "metadata": {
        "createTempViewForImplicitDf": true,
        "dataframeName": "_sqldf",
        "executionCount": 1
       },
       "overflow": false,
       "plotOptions": {
        "customPlotOptions": {},
        "displayType": "table",
        "pivotAggregation": null,
        "pivotColumns": null,
        "xColumns": null,
        "yColumns": null
       },
       "removedWidgets": [],
       "schema": [
        {
         "metadata": "{}",
         "name": "Id",
         "type": "\"long\""
        },
        {
         "metadata": "{}",
         "name": "age",
         "type": "\"long\""
        },
        {
         "metadata": "{}",
         "name": "money",
         "type": "\"long\""
        },
        {
         "metadata": "{}",
         "name": "name",
         "type": "\"string\""
        },
        {
         "metadata": "{}",
         "name": "sales",
         "type": "\"long\""
        },
        {
         "metadata": "{}",
         "name": "units",
         "type": "\"long\""
        },
        {
         "metadata": "{}",
         "name": "_rescued_data",
         "type": "\"string\""
        },
        {
         "metadata": "{}",
         "name": "processing_time",
         "type": "\"timestamp\""
        },
        {
         "metadata": "{}",
         "name": "file",
         "type": "\"string\""
        }
       ],
       "type": "table"
      }
     },
     "output_type": "display_data"
    }
   ],
   "source": [
    "%sql\n",
    "USE CATALOG dataops_dev;\n",
    "USE SCHEMA schema_test;\n",
    "SELECT * FROM bronze_sales"
   ]
  },
  {
   "cell_type": "code",
   "execution_count": 0,
   "metadata": {
    "application/vnd.databricks.v1+cell": {
     "cellMetadata": {
      "byteLimit": 2048000,
      "implicitDf": true,
      "rowLimit": 10000
     },
     "inputWidgets": {},
     "nuid": "e10e1364-3f5b-4c89-bd93-c61d3230c872",
     "showTitle": false,
     "tableResultSettingsMap": {},
     "title": ""
    }
   },
   "outputs": [
    {
     "output_type": "display_data",
     "data": {
      "text/html": [
       "<style scoped>\n",
       "  .table-result-container {\n",
       "    max-height: 300px;\n",
       "    overflow: auto;\n",
       "  }\n",
       "  table, th, td {\n",
       "    border: 1px solid black;\n",
       "    border-collapse: collapse;\n",
       "  }\n",
       "  th, td {\n",
       "    padding: 5px;\n",
       "  }\n",
       "  th {\n",
       "    text-align: left;\n",
       "  }\n",
       "</style><div class='table-result-container'><table class='table-result'><thead style='background-color: white'><tr><th>Id</th><th>money</th><th>processing_time</th><th>file</th></tr></thead><tbody><tr><td>7</td><td>1100.0</td><td>2025-10-01T12:46:48.518Z</td><td>file3.json</td></tr><tr><td>8</td><td>1600.0</td><td>2025-10-01T12:46:48.518Z</td><td>file3.json</td></tr><tr><td>9</td><td>2000.0</td><td>2025-10-01T12:46:48.518Z</td><td>file3.json</td></tr><tr><td>1</td><td>1200.0</td><td>2025-10-01T12:46:48.518Z</td><td>file1.json</td></tr><tr><td>2</td><td>850.0</td><td>2025-10-01T12:46:48.518Z</td><td>file1.json</td></tr><tr><td>3</td><td>1500.0</td><td>2025-10-01T12:46:48.518Z</td><td>file1.json</td></tr><tr><td>4</td><td>2100.0</td><td>2025-10-01T12:46:48.518Z</td><td>file2.json</td></tr><tr><td>5</td><td>950.0</td><td>2025-10-01T12:46:48.518Z</td><td>file2.json</td></tr><tr><td>6</td><td>1800.0</td><td>2025-10-01T12:46:48.518Z</td><td>file2.json</td></tr></tbody></table></div>"
      ]
     },
     "metadata": {
      "application/vnd.databricks.v1+output": {
       "addedWidgets": {},
       "aggData": [],
       "aggError": "",
       "aggOverflow": false,
       "aggSchema": [],
       "aggSeriesLimitReached": false,
       "aggType": "",
       "arguments": {},
       "columnCustomDisplayInfos": {},
       "data": [
        [
         7,
         1100.0,
         "2025-10-01T12:46:48.518Z",
         "file3.json"
        ],
        [
         8,
         1600.0,
         "2025-10-01T12:46:48.518Z",
         "file3.json"
        ],
        [
         9,
         2000.0,
         "2025-10-01T12:46:48.518Z",
         "file3.json"
        ],
        [
         1,
         1200.0,
         "2025-10-01T12:46:48.518Z",
         "file1.json"
        ],
        [
         2,
         850.0,
         "2025-10-01T12:46:48.518Z",
         "file1.json"
        ],
        [
         3,
         1500.0,
         "2025-10-01T12:46:48.518Z",
         "file1.json"
        ],
        [
         4,
         2100.0,
         "2025-10-01T12:46:48.518Z",
         "file2.json"
        ],
        [
         5,
         950.0,
         "2025-10-01T12:46:48.518Z",
         "file2.json"
        ],
        [
         6,
         1800.0,
         "2025-10-01T12:46:48.518Z",
         "file2.json"
        ]
       ],
       "datasetInfos": [
        {
         "name": "_sqldf",
         "schema": {
          "fields": [
           {
            "metadata": {},
            "name": "Id",
            "nullable": true,
            "type": "long"
           },
           {
            "metadata": {},
            "name": "money",
            "nullable": true,
            "type": "double"
           },
           {
            "metadata": {},
            "name": "processing_time",
            "nullable": true,
            "type": "timestamp"
           },
           {
            "metadata": {},
            "name": "file",
            "nullable": true,
            "type": "string"
           }
          ],
          "type": "struct"
         },
         "tableIdentifier": null,
         "typeStr": "pyspark.sql.connect.dataframe.DataFrame"
        }
       ],
       "dbfsResultPath": null,
       "isJsonSchema": true,
       "metadata": {
        "createTempViewForImplicitDf": true,
        "dataframeName": "_sqldf",
        "executionCount": 3
       },
       "overflow": false,
       "plotOptions": {
        "customPlotOptions": {},
        "displayType": "table",
        "pivotAggregation": null,
        "pivotColumns": null,
        "xColumns": null,
        "yColumns": null
       },
       "removedWidgets": [],
       "schema": [
        {
         "metadata": "{}",
         "name": "Id",
         "type": "\"long\""
        },
        {
         "metadata": "{}",
         "name": "money",
         "type": "\"double\""
        },
        {
         "metadata": "{}",
         "name": "processing_time",
         "type": "\"timestamp\""
        },
        {
         "metadata": "{}",
         "name": "file",
         "type": "\"string\""
        }
       ],
       "type": "table"
      }
     },
     "output_type": "display_data"
    }
   ],
   "source": [
    "%sql\n",
    "SELECT * FROM silver_sales;"
   ]
  },
  {
   "cell_type": "code",
   "execution_count": 0,
   "metadata": {
    "application/vnd.databricks.v1+cell": {
     "cellMetadata": {
      "byteLimit": 2048000,
      "implicitDf": true,
      "rowLimit": 10000
     },
     "inputWidgets": {},
     "nuid": "ed24c342-3ba1-4f4e-8194-900815c88474",
     "showTitle": false,
     "tableResultSettingsMap": {},
     "title": ""
    }
   },
   "outputs": [
    {
     "output_type": "display_data",
     "data": {
      "text/html": [
       "<style scoped>\n",
       "  .table-result-container {\n",
       "    max-height: 300px;\n",
       "    overflow: auto;\n",
       "  }\n",
       "  table, th, td {\n",
       "    border: 1px solid black;\n",
       "    border-collapse: collapse;\n",
       "  }\n",
       "  th, td {\n",
       "    padding: 5px;\n",
       "  }\n",
       "  th {\n",
       "    text-align: left;\n",
       "  }\n",
       "</style><div class='table-result-container'><table class='table-result'><thead style='background-color: white'><tr><th>Id</th><th>total_sales</th></tr></thead><tbody><tr><td>7</td><td>1100.0</td></tr><tr><td>6</td><td>1800.0</td></tr><tr><td>9</td><td>2000.0</td></tr><tr><td>5</td><td>950.0</td></tr><tr><td>1</td><td>1200.0</td></tr><tr><td>3</td><td>1500.0</td></tr><tr><td>8</td><td>1600.0</td></tr><tr><td>2</td><td>850.0</td></tr><tr><td>4</td><td>2100.0</td></tr></tbody></table></div>"
      ]
     },
     "metadata": {
      "application/vnd.databricks.v1+output": {
       "addedWidgets": {},
       "aggData": [],
       "aggError": "",
       "aggOverflow": false,
       "aggSchema": [],
       "aggSeriesLimitReached": false,
       "aggType": "",
       "arguments": {},
       "columnCustomDisplayInfos": {},
       "data": [
        [
         7,
         1100.0
        ],
        [
         6,
         1800.0
        ],
        [
         9,
         2000.0
        ],
        [
         5,
         950.0
        ],
        [
         1,
         1200.0
        ],
        [
         3,
         1500.0
        ],
        [
         8,
         1600.0
        ],
        [
         2,
         850.0
        ],
        [
         4,
         2100.0
        ]
       ],
       "datasetInfos": [
        {
         "name": "_sqldf",
         "schema": {
          "fields": [
           {
            "metadata": {},
            "name": "Id",
            "nullable": true,
            "type": "long"
           },
           {
            "metadata": {},
            "name": "total_sales",
            "nullable": true,
            "type": "double"
           }
          ],
          "type": "struct"
         },
         "tableIdentifier": null,
         "typeStr": "pyspark.sql.connect.dataframe.DataFrame"
        }
       ],
       "dbfsResultPath": null,
       "isJsonSchema": true,
       "metadata": {
        "createTempViewForImplicitDf": true,
        "dataframeName": "_sqldf",
        "executionCount": 5
       },
       "overflow": false,
       "plotOptions": {
        "customPlotOptions": {},
        "displayType": "table",
        "pivotAggregation": null,
        "pivotColumns": null,
        "xColumns": null,
        "yColumns": null
       },
       "removedWidgets": [],
       "schema": [
        {
         "metadata": "{}",
         "name": "Id",
         "type": "\"long\""
        },
        {
         "metadata": "{}",
         "name": "total_sales",
         "type": "\"double\""
        }
       ],
       "type": "table"
      }
     },
     "output_type": "display_data"
    }
   ],
   "source": [
    "%sql\n",
    "SELECT * FROM gold_sales_summary;"
   ]
  },
  {
   "cell_type": "code",
   "execution_count": 0,
   "metadata": {
    "application/vnd.databricks.v1+cell": {
     "cellMetadata": {
      "byteLimit": 2048000,
      "implicitDf": true,
      "rowLimit": 10000
     },
     "inputWidgets": {},
     "nuid": "395d5ab4-b71e-4971-ab14-1c0c049369a6",
     "showTitle": false,
     "tableResultSettingsMap": {},
     "title": ""
    }
   },
   "outputs": [
    {
     "output_type": "display_data",
     "data": {
      "text/html": [
       "<style scoped>\n",
       "  .table-result-container {\n",
       "    max-height: 300px;\n",
       "    overflow: auto;\n",
       "  }\n",
       "  table, th, td {\n",
       "    border: 1px solid black;\n",
       "    border-collapse: collapse;\n",
       "  }\n",
       "  th, td {\n",
       "    padding: 5px;\n",
       "  }\n",
       "  th {\n",
       "    text-align: left;\n",
       "  }\n",
       "</style><div class='table-result-container'><table class='table-result'><thead style='background-color: white'><tr><th>Id</th><th>age</th><th>money</th><th>name</th><th>sales</th><th>units</th><th>_rescued_data</th><th>processing_time</th><th>file</th></tr></thead><tbody><tr><td>7</td><td>30</td><td>1100</td><td>George</td><td>2200</td><td>22</td><td>null</td><td>2025-10-01T12:46:48.518Z</td><td>file3.json</td></tr><tr><td>8</td><td>28</td><td>1600</td><td>Hannah</td><td>4000</td><td>40</td><td>null</td><td>2025-10-01T12:46:48.518Z</td><td>file3.json</td></tr><tr><td>9</td><td>36</td><td>2000</td><td>Ian</td><td>6500</td><td>65</td><td>null</td><td>2025-10-01T12:46:48.518Z</td><td>file3.json</td></tr><tr><td>1</td><td>25</td><td>1200</td><td>Alice</td><td>4500</td><td>45</td><td>null</td><td>2025-10-01T12:46:48.518Z</td><td>file1.json</td></tr><tr><td>2</td><td>32</td><td>850</td><td>Bob</td><td>3000</td><td>30</td><td>null</td><td>2025-10-01T12:46:48.518Z</td><td>file1.json</td></tr><tr><td>3</td><td>29</td><td>1500</td><td>Charlie</td><td>6000</td><td>60</td><td>null</td><td>2025-10-01T12:46:48.518Z</td><td>file1.json</td></tr><tr><td>4</td><td>41</td><td>2100</td><td>Diana</td><td>7500</td><td>75</td><td>null</td><td>2025-10-01T12:46:48.518Z</td><td>file2.json</td></tr><tr><td>5</td><td>27</td><td>950</td><td>Ethan</td><td>2500</td><td>25</td><td>null</td><td>2025-10-01T12:46:48.518Z</td><td>file2.json</td></tr><tr><td>6</td><td>34</td><td>1800</td><td>Fiona</td><td>5000</td><td>50</td><td>null</td><td>2025-10-01T12:46:48.518Z</td><td>file2.json</td></tr><tr><td>10</td><td>26</td><td>1300</td><td>Julia</td><td>2800</td><td>28</td><td>null</td><td>2025-10-01T12:49:42.263Z</td><td>file4.json</td></tr><tr><td>11</td><td>39</td><td>1750</td><td>Kevin</td><td>5500</td><td>55</td><td>null</td><td>2025-10-01T12:49:42.263Z</td><td>file4.json</td></tr><tr><td>12</td><td>31</td><td>1450</td><td>Laura</td><td>3800</td><td>38</td><td>null</td><td>2025-10-01T12:49:42.263Z</td><td>file4.json</td></tr></tbody></table></div>"
      ]
     },
     "metadata": {
      "application/vnd.databricks.v1+output": {
       "addedWidgets": {},
       "aggData": [],
       "aggError": "",
       "aggOverflow": false,
       "aggSchema": [],
       "aggSeriesLimitReached": false,
       "aggType": "",
       "arguments": {},
       "columnCustomDisplayInfos": {},
       "data": [
        [
         7,
         30,
         1100,
         "George",
         2200,
         22,
         null,
         "2025-10-01T12:46:48.518Z",
         "file3.json"
        ],
        [
         8,
         28,
         1600,
         "Hannah",
         4000,
         40,
         null,
         "2025-10-01T12:46:48.518Z",
         "file3.json"
        ],
        [
         9,
         36,
         2000,
         "Ian",
         6500,
         65,
         null,
         "2025-10-01T12:46:48.518Z",
         "file3.json"
        ],
        [
         1,
         25,
         1200,
         "Alice",
         4500,
         45,
         null,
         "2025-10-01T12:46:48.518Z",
         "file1.json"
        ],
        [
         2,
         32,
         850,
         "Bob",
         3000,
         30,
         null,
         "2025-10-01T12:46:48.518Z",
         "file1.json"
        ],
        [
         3,
         29,
         1500,
         "Charlie",
         6000,
         60,
         null,
         "2025-10-01T12:46:48.518Z",
         "file1.json"
        ],
        [
         4,
         41,
         2100,
         "Diana",
         7500,
         75,
         null,
         "2025-10-01T12:46:48.518Z",
         "file2.json"
        ],
        [
         5,
         27,
         950,
         "Ethan",
         2500,
         25,
         null,
         "2025-10-01T12:46:48.518Z",
         "file2.json"
        ],
        [
         6,
         34,
         1800,
         "Fiona",
         5000,
         50,
         null,
         "2025-10-01T12:46:48.518Z",
         "file2.json"
        ],
        [
         10,
         26,
         1300,
         "Julia",
         2800,
         28,
         null,
         "2025-10-01T12:49:42.263Z",
         "file4.json"
        ],
        [
         11,
         39,
         1750,
         "Kevin",
         5500,
         55,
         null,
         "2025-10-01T12:49:42.263Z",
         "file4.json"
        ],
        [
         12,
         31,
         1450,
         "Laura",
         3800,
         38,
         null,
         "2025-10-01T12:49:42.263Z",
         "file4.json"
        ]
       ],
       "datasetInfos": [
        {
         "name": "_sqldf",
         "schema": {
          "fields": [
           {
            "metadata": {},
            "name": "Id",
            "nullable": true,
            "type": "long"
           },
           {
            "metadata": {},
            "name": "age",
            "nullable": true,
            "type": "long"
           },
           {
            "metadata": {},
            "name": "money",
            "nullable": true,
            "type": "long"
           },
           {
            "metadata": {},
            "name": "name",
            "nullable": true,
            "type": "string"
           },
           {
            "metadata": {},
            "name": "sales",
            "nullable": true,
            "type": "long"
           },
           {
            "metadata": {},
            "name": "units",
            "nullable": true,
            "type": "long"
           },
           {
            "metadata": {},
            "name": "_rescued_data",
            "nullable": true,
            "type": "string"
           },
           {
            "metadata": {},
            "name": "processing_time",
            "nullable": true,
            "type": "timestamp"
           },
           {
            "metadata": {},
            "name": "file",
            "nullable": true,
            "type": "string"
           }
          ],
          "type": "struct"
         },
         "tableIdentifier": null,
         "typeStr": "pyspark.sql.connect.dataframe.DataFrame"
        }
       ],
       "dbfsResultPath": null,
       "isJsonSchema": true,
       "metadata": {
        "createTempViewForImplicitDf": true,
        "dataframeName": "_sqldf",
        "executionCount": 6
       },
       "overflow": false,
       "plotOptions": {
        "customPlotOptions": {},
        "displayType": "table",
        "pivotAggregation": null,
        "pivotColumns": null,
        "xColumns": null,
        "yColumns": null
       },
       "removedWidgets": [],
       "schema": [
        {
         "metadata": "{}",
         "name": "Id",
         "type": "\"long\""
        },
        {
         "metadata": "{}",
         "name": "age",
         "type": "\"long\""
        },
        {
         "metadata": "{}",
         "name": "money",
         "type": "\"long\""
        },
        {
         "metadata": "{}",
         "name": "name",
         "type": "\"string\""
        },
        {
         "metadata": "{}",
         "name": "sales",
         "type": "\"long\""
        },
        {
         "metadata": "{}",
         "name": "units",
         "type": "\"long\""
        },
        {
         "metadata": "{}",
         "name": "_rescued_data",
         "type": "\"string\""
        },
        {
         "metadata": "{}",
         "name": "processing_time",
         "type": "\"timestamp\""
        },
        {
         "metadata": "{}",
         "name": "file",
         "type": "\"string\""
        }
       ],
       "type": "table"
      }
     },
     "output_type": "display_data"
    }
   ],
   "source": [
    "%sql\n",
    "SELECT * FROM bronze_sales"
   ]
  },
  {
   "cell_type": "code",
   "execution_count": 0,
   "metadata": {
    "application/vnd.databricks.v1+cell": {
     "cellMetadata": {
      "byteLimit": 2048000,
      "implicitDf": true,
      "rowLimit": 10000
     },
     "inputWidgets": {},
     "nuid": "c594128a-d1cf-4ad9-ab31-c7c28b0d603c",
     "showTitle": false,
     "tableResultSettingsMap": {},
     "title": ""
    }
   },
   "outputs": [
    {
     "output_type": "display_data",
     "data": {
      "text/html": [
       "<style scoped>\n",
       "  .table-result-container {\n",
       "    max-height: 300px;\n",
       "    overflow: auto;\n",
       "  }\n",
       "  table, th, td {\n",
       "    border: 1px solid black;\n",
       "    border-collapse: collapse;\n",
       "  }\n",
       "  th, td {\n",
       "    padding: 5px;\n",
       "  }\n",
       "  th {\n",
       "    text-align: left;\n",
       "  }\n",
       "</style><div class='table-result-container'><table class='table-result'><thead style='background-color: white'><tr><th>Id</th><th>money</th><th>processing_time</th><th>file</th></tr></thead><tbody><tr><td>7</td><td>1100.0</td><td>2025-10-01T12:46:48.518Z</td><td>file3.json</td></tr><tr><td>8</td><td>1600.0</td><td>2025-10-01T12:46:48.518Z</td><td>file3.json</td></tr><tr><td>9</td><td>2000.0</td><td>2025-10-01T12:46:48.518Z</td><td>file3.json</td></tr><tr><td>1</td><td>1200.0</td><td>2025-10-01T12:46:48.518Z</td><td>file1.json</td></tr><tr><td>2</td><td>850.0</td><td>2025-10-01T12:46:48.518Z</td><td>file1.json</td></tr><tr><td>3</td><td>1500.0</td><td>2025-10-01T12:46:48.518Z</td><td>file1.json</td></tr><tr><td>4</td><td>2100.0</td><td>2025-10-01T12:46:48.518Z</td><td>file2.json</td></tr><tr><td>5</td><td>950.0</td><td>2025-10-01T12:46:48.518Z</td><td>file2.json</td></tr><tr><td>6</td><td>1800.0</td><td>2025-10-01T12:46:48.518Z</td><td>file2.json</td></tr><tr><td>10</td><td>1300.0</td><td>2025-10-01T12:49:42.263Z</td><td>file4.json</td></tr><tr><td>11</td><td>1750.0</td><td>2025-10-01T12:49:42.263Z</td><td>file4.json</td></tr><tr><td>12</td><td>1450.0</td><td>2025-10-01T12:49:42.263Z</td><td>file4.json</td></tr></tbody></table></div>"
      ]
     },
     "metadata": {
      "application/vnd.databricks.v1+output": {
       "addedWidgets": {},
       "aggData": [],
       "aggError": "",
       "aggOverflow": false,
       "aggSchema": [],
       "aggSeriesLimitReached": false,
       "aggType": "",
       "arguments": {},
       "columnCustomDisplayInfos": {},
       "data": [
        [
         7,
         1100.0,
         "2025-10-01T12:46:48.518Z",
         "file3.json"
        ],
        [
         8,
         1600.0,
         "2025-10-01T12:46:48.518Z",
         "file3.json"
        ],
        [
         9,
         2000.0,
         "2025-10-01T12:46:48.518Z",
         "file3.json"
        ],
        [
         1,
         1200.0,
         "2025-10-01T12:46:48.518Z",
         "file1.json"
        ],
        [
         2,
         850.0,
         "2025-10-01T12:46:48.518Z",
         "file1.json"
        ],
        [
         3,
         1500.0,
         "2025-10-01T12:46:48.518Z",
         "file1.json"
        ],
        [
         4,
         2100.0,
         "2025-10-01T12:46:48.518Z",
         "file2.json"
        ],
        [
         5,
         950.0,
         "2025-10-01T12:46:48.518Z",
         "file2.json"
        ],
        [
         6,
         1800.0,
         "2025-10-01T12:46:48.518Z",
         "file2.json"
        ],
        [
         10,
         1300.0,
         "2025-10-01T12:49:42.263Z",
         "file4.json"
        ],
        [
         11,
         1750.0,
         "2025-10-01T12:49:42.263Z",
         "file4.json"
        ],
        [
         12,
         1450.0,
         "2025-10-01T12:49:42.263Z",
         "file4.json"
        ]
       ],
       "datasetInfos": [
        {
         "name": "_sqldf",
         "schema": {
          "fields": [
           {
            "metadata": {},
            "name": "Id",
            "nullable": true,
            "type": "long"
           },
           {
            "metadata": {},
            "name": "money",
            "nullable": true,
            "type": "double"
           },
           {
            "metadata": {},
            "name": "processing_time",
            "nullable": true,
            "type": "timestamp"
           },
           {
            "metadata": {},
            "name": "file",
            "nullable": true,
            "type": "string"
           }
          ],
          "type": "struct"
         },
         "tableIdentifier": null,
         "typeStr": "pyspark.sql.connect.dataframe.DataFrame"
        }
       ],
       "dbfsResultPath": null,
       "isJsonSchema": true,
       "metadata": {
        "createTempViewForImplicitDf": true,
        "dataframeName": "_sqldf",
        "executionCount": 8
       },
       "overflow": false,
       "plotOptions": {
        "customPlotOptions": {},
        "displayType": "table",
        "pivotAggregation": null,
        "pivotColumns": null,
        "xColumns": null,
        "yColumns": null
       },
       "removedWidgets": [],
       "schema": [
        {
         "metadata": "{}",
         "name": "Id",
         "type": "\"long\""
        },
        {
         "metadata": "{}",
         "name": "money",
         "type": "\"double\""
        },
        {
         "metadata": "{}",
         "name": "processing_time",
         "type": "\"timestamp\""
        },
        {
         "metadata": "{}",
         "name": "file",
         "type": "\"string\""
        }
       ],
       "type": "table"
      }
     },
     "output_type": "display_data"
    }
   ],
   "source": [
    "%sql\n",
    "SELECT * FROM silver_sales;"
   ]
  },
  {
   "cell_type": "code",
   "execution_count": 0,
   "metadata": {
    "application/vnd.databricks.v1+cell": {
     "cellMetadata": {
      "byteLimit": 2048000,
      "implicitDf": true,
      "rowLimit": 10000
     },
     "inputWidgets": {},
     "nuid": "4ff13bee-d2f8-4365-ac2c-acf579533d9a",
     "showTitle": false,
     "tableResultSettingsMap": {},
     "title": ""
    }
   },
   "outputs": [
    {
     "output_type": "display_data",
     "data": {
      "text/html": [
       "<style scoped>\n",
       "  .table-result-container {\n",
       "    max-height: 300px;\n",
       "    overflow: auto;\n",
       "  }\n",
       "  table, th, td {\n",
       "    border: 1px solid black;\n",
       "    border-collapse: collapse;\n",
       "  }\n",
       "  th, td {\n",
       "    padding: 5px;\n",
       "  }\n",
       "  th {\n",
       "    text-align: left;\n",
       "  }\n",
       "</style><div class='table-result-container'><table class='table-result'><thead style='background-color: white'><tr><th>Id</th><th>total_sales</th></tr></thead><tbody><tr><td>7</td><td>1100.0</td></tr><tr><td>6</td><td>1800.0</td></tr><tr><td>9</td><td>2000.0</td></tr><tr><td>5</td><td>950.0</td></tr><tr><td>1</td><td>1200.0</td></tr><tr><td>10</td><td>1300.0</td></tr><tr><td>3</td><td>1500.0</td></tr><tr><td>12</td><td>1450.0</td></tr><tr><td>8</td><td>1600.0</td></tr><tr><td>11</td><td>1750.0</td></tr><tr><td>2</td><td>850.0</td></tr><tr><td>4</td><td>2100.0</td></tr></tbody></table></div>"
      ]
     },
     "metadata": {
      "application/vnd.databricks.v1+output": {
       "addedWidgets": {},
       "aggData": [],
       "aggError": "",
       "aggOverflow": false,
       "aggSchema": [],
       "aggSeriesLimitReached": false,
       "aggType": "",
       "arguments": {},
       "columnCustomDisplayInfos": {},
       "data": [
        [
         7,
         1100.0
        ],
        [
         6,
         1800.0
        ],
        [
         9,
         2000.0
        ],
        [
         5,
         950.0
        ],
        [
         1,
         1200.0
        ],
        [
         10,
         1300.0
        ],
        [
         3,
         1500.0
        ],
        [
         12,
         1450.0
        ],
        [
         8,
         1600.0
        ],
        [
         11,
         1750.0
        ],
        [
         2,
         850.0
        ],
        [
         4,
         2100.0
        ]
       ],
       "datasetInfos": [
        {
         "name": "_sqldf",
         "schema": {
          "fields": [
           {
            "metadata": {},
            "name": "Id",
            "nullable": true,
            "type": "long"
           },
           {
            "metadata": {},
            "name": "total_sales",
            "nullable": true,
            "type": "double"
           }
          ],
          "type": "struct"
         },
         "tableIdentifier": null,
         "typeStr": "pyspark.sql.connect.dataframe.DataFrame"
        }
       ],
       "dbfsResultPath": null,
       "isJsonSchema": true,
       "metadata": {
        "createTempViewForImplicitDf": true,
        "dataframeName": "_sqldf",
        "executionCount": 10
       },
       "overflow": false,
       "plotOptions": {
        "customPlotOptions": {},
        "displayType": "table",
        "pivotAggregation": null,
        "pivotColumns": null,
        "xColumns": null,
        "yColumns": null
       },
       "removedWidgets": [],
       "schema": [
        {
         "metadata": "{}",
         "name": "Id",
         "type": "\"long\""
        },
        {
         "metadata": "{}",
         "name": "total_sales",
         "type": "\"double\""
        }
       ],
       "type": "table"
      }
     },
     "output_type": "display_data"
    }
   ],
   "source": [
    "%sql\n",
    "SELECT * FROM gold_sales_summary;"
   ]
  }
 ],
 "metadata": {
  "application/vnd.databricks.v1+notebook": {
   "computePreferences": null,
   "dashboards": [],
   "environmentMetadata": {
    "base_environment": "",
    "environment_version": "3"
   },
   "inputWidgetPreferences": null,
   "language": "python",
   "notebookMetadata": {
    "mostRecentlyExecutedCommandWithImplicitDF": {
     "commandId": 5190277786092204,
     "dataframes": [
      "_sqldf"
     ]
    },
    "pythonIndentUnit": 4
   },
   "notebookName": "DP-SQL test 2025-10-01",
   "widgets": {}
  },
  "language_info": {
   "name": "python"
  }
 },
 "nbformat": 4,
 "nbformat_minor": 0
}