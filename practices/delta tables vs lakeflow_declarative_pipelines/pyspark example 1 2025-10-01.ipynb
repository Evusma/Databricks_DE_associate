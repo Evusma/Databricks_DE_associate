{
 "cells": [
  {
   "cell_type": "markdown",
   "metadata": {},
   "source": [
    "## How streaming works\n",
    "\n",
    "![streaming works](../../images/streamingworks1.png)\n",
    "\n",
    "![streaming works](../../images/streamingworks2.png)"
   ]
  },
  {
   "cell_type": "code",
   "execution_count": null,
   "metadata": {
    "application/vnd.databricks.v1+cell": {
     "cellMetadata": {
      "byteLimit": 2048000,
      "rowLimit": 10000
     },
     "inputWidgets": {},
     "nuid": "2ce63eee-9bd3-45b2-acff-10050d35c622",
     "showTitle": false,
     "tableResultSettingsMap": {},
     "title": ""
    }
   },
   "outputs": [],
   "source": [
    "# Here is how you can define a streaming pipeline using only PySpark DataFrame and Structured Streaming APIs, without using the dp (or dlt) module. This approach is suitable for prototyping or when you do not need the managed features of Lakeflow Declarative Pipelines\n",
    "\n",
    "spark.sql(\"USE CATALOG catalog\")\n",
    "spark.sql(\"USE schema\")\n",
    "\n",
    "\n",
    "from pyspark.sql.functions import col, sum as _sum\n",
    "from pyspark.sql.types import StructType, StructField, StringType, IntegerType\n",
    "\n",
    "schema = StructType([\n",
    "   StructField(\"Id\", IntegerType(), True),\n",
    "   StructField(\"name\", StringType(), True),\n",
    "   StructField(\"age\", IntegerType(), True),\n",
    "   StructField(\"money\", IntegerType(), True),\n",
    "   StructField(\"sales\", IntegerType(), True),\n",
    "   StructField(\"units\", IntegerType(), True),\n",
    "])\n",
    "\n",
    "# Ingest streaming data from JSON files. Returns a spark dataframe\n",
    "bronze_sales_spark = (\n",
    "        spark.readStream\n",
    "        .format(\"cloudFiles\")\n",
    "        .option(\"cloudFiles.format\", \"json\")\n",
    "        .option(\"multiLine\", True)\n",
    "        # .option(\"maxFilesPerTrigger\", 5)  # Set the number of files to process per trigger\n",
    "        .schema(schema)\n",
    "        .load(\"/Volumes/dataops_dev/schema_test/volume_test/delta_tables/json/\")\n",
    "        .na.drop()\n",
    "    )\n",
    "\n",
    "# Data transformation and quality checks\n",
    "silver_sales_spark = (\n",
    "        bronze_sales_spark\n",
    "        .filter(col(\"money\") > 0)\n",
    "        .select(\n",
    "            col(\"Id\"),\n",
    "            col(\"money\").cast(\"double\")\n",
    "        )\n",
    "    )\n",
    "\n",
    "# Define a dataframe for batch aggregation\n",
    "gold_sales_summary_spark = (\n",
    "        silver_sales_spark\n",
    "        .groupBy(\"Id\")\n",
    "        .agg(\n",
    "            _sum(\"money\").alias(\"total_money\")\n",
    "        )\n",
    "    )\n",
    "\n",
    "# Start the streaming query for bronze layer to Delta\n",
    "bronze_query = (\n",
    "    bronze_sales_spark\n",
    "    .writeStream\n",
    "    .format(\"delta\")\n",
    "    .outputMode(\"append\")\n",
    "    .option(\"checkpointLocation\", \"/Volumes/dataops_dev/schema_test/volume_test/delta_tables/checkpoints_bronze_spark\")\n",
    "    .toTable(\"bronze_sales_spark2\")\n",
    ")\n",
    "\n",
    "# Start the streaming query for silver layer to Delta\n",
    "silver_query = (\n",
    "    silver_sales_spark\n",
    "    .writeStream\n",
    "    .format(\"delta\")\n",
    "    .outputMode(\"append\")\n",
    "    .option(\"checkpointLocation\", \"/Volumes/dataops_dev/schema_test/volume_test/delta_tables/checkpoints_silver_spark\")\n",
    "    .toTable(\"silver_sales_spark2\")\n",
    ")\n",
    "\n",
    "# Start the streaming query for golden layer to Delta\n",
    "gold_query = (\n",
    "    gold_sales_summary_spark\n",
    "    .writeStream\n",
    "    .format(\"delta\")\n",
    "    #.queryName(\"gold_sales_summary_spark\")\n",
    "    .outputMode(\"complete\")\n",
    "    #.trigger(processingtime=\"10 seconds\")\n",
    "    .option(\"checkpointLocation\", \"/Volumes/dataops_dev/schema_test/volume_test/delta_tables/checkpoints_golden_spark\")\n",
    "    .toTable(\"gold_sales_summary_spark2\")    \n",
    ")\n",
    "\n"
   ]
  },
  {
   "cell_type": "code",
   "execution_count": null,
   "metadata": {},
   "outputs": [],
   "source": [
    "# gold_query.name\n",
    "# gold_query.id\n",
    "# gold_query.runId\n",
    "# gold_query.status\n",
    "# gold_query.lastProgress\n",
    "\n",
    "import time\n",
    "time.sleep(10)"
   ]
  },
  {
   "cell_type": "code",
   "execution_count": 0,
   "metadata": {
    "application/vnd.databricks.v1+cell": {
     "cellMetadata": {
      "byteLimit": 2048000,
      "rowLimit": 10000
     },
     "inputWidgets": {},
     "nuid": "5aeb4ba6-815c-434f-98d4-526fb830c113",
     "showTitle": false,
     "tableResultSettingsMap": {},
     "title": ""
    }
   },
   "outputs": [],
   "source": [
    "bronze_query.stop()\n",
    "silver_query.stop()\n",
    "gold_query.stop()\n",
    "# or stop_streaming_query(\"query name\")\n",
    "\n",
    "bronze_query.awaitTermination()\n",
    "silver_query.awaitTermination()\n",
    "gold_query.awaitTermination()\n",
    "\n",
    "# awaitTermination() is a blocking call that waits for the streaming query to finish."
   ]
  },
  {
   "cell_type": "markdown",
   "metadata": {},
   "source": [
    "![streaming query](../../images/streaming_query.png)"
   ]
  },
  {
   "cell_type": "code",
   "execution_count": 0,
   "metadata": {
    "application/vnd.databricks.v1+cell": {
     "cellMetadata": {
      "byteLimit": 2048000,
      "implicitDf": true,
      "rowLimit": 10000
     },
     "inputWidgets": {},
     "nuid": "5341fb23-46e6-49d9-99a1-9ef534f99996",
     "showTitle": false,
     "tableResultSettingsMap": {},
     "title": ""
    }
   },
   "outputs": [
    {
     "data": {
      "text/html": [
       "<style scoped>\n",
       "  .table-result-container {\n",
       "    max-height: 300px;\n",
       "    overflow: auto;\n",
       "  }\n",
       "  table, th, td {\n",
       "    border: 1px solid black;\n",
       "    border-collapse: collapse;\n",
       "  }\n",
       "  th, td {\n",
       "    padding: 5px;\n",
       "  }\n",
       "  th {\n",
       "    text-align: left;\n",
       "  }\n",
       "</style><div class='table-result-container'><table class='table-result'><thead style='background-color: white'><tr><th>Id</th><th>name</th><th>age</th><th>money</th><th>sales</th><th>units</th></tr></thead><tbody><tr><td>10</td><td>Julia</td><td>26</td><td>1300</td><td>2800</td><td>28</td></tr><tr><td>11</td><td>Kevin</td><td>39</td><td>1750</td><td>5500</td><td>55</td></tr><tr><td>12</td><td>Laura</td><td>31</td><td>1450</td><td>3800</td><td>38</td></tr><tr><td>7</td><td>George</td><td>30</td><td>1100</td><td>2200</td><td>22</td></tr><tr><td>8</td><td>Hannah</td><td>28</td><td>1600</td><td>4000</td><td>40</td></tr><tr><td>9</td><td>Ian</td><td>36</td><td>2000</td><td>6500</td><td>65</td></tr><tr><td>1</td><td>Alice</td><td>25</td><td>1200</td><td>4500</td><td>45</td></tr><tr><td>2</td><td>Bob</td><td>32</td><td>850</td><td>3000</td><td>30</td></tr><tr><td>3</td><td>Charlie</td><td>29</td><td>1500</td><td>6000</td><td>60</td></tr><tr><td>4</td><td>Diana</td><td>41</td><td>2100</td><td>7500</td><td>75</td></tr><tr><td>5</td><td>Ethan</td><td>27</td><td>950</td><td>2500</td><td>25</td></tr><tr><td>6</td><td>Fiona</td><td>34</td><td>1800</td><td>5000</td><td>50</td></tr></tbody></table></div>"
      ]
     },
     "metadata": {
      "application/vnd.databricks.v1+output": {
       "addedWidgets": {},
       "aggData": [],
       "aggError": "",
       "aggOverflow": false,
       "aggSchema": [],
       "aggSeriesLimitReached": false,
       "aggType": "",
       "arguments": {},
       "columnCustomDisplayInfos": {},
       "data": [
        [
         10,
         "Julia",
         26,
         1300,
         2800,
         28
        ],
        [
         11,
         "Kevin",
         39,
         1750,
         5500,
         55
        ],
        [
         12,
         "Laura",
         31,
         1450,
         3800,
         38
        ],
        [
         7,
         "George",
         30,
         1100,
         2200,
         22
        ],
        [
         8,
         "Hannah",
         28,
         1600,
         4000,
         40
        ],
        [
         9,
         "Ian",
         36,
         2000,
         6500,
         65
        ],
        [
         1,
         "Alice",
         25,
         1200,
         4500,
         45
        ],
        [
         2,
         "Bob",
         32,
         850,
         3000,
         30
        ],
        [
         3,
         "Charlie",
         29,
         1500,
         6000,
         60
        ],
        [
         4,
         "Diana",
         41,
         2100,
         7500,
         75
        ],
        [
         5,
         "Ethan",
         27,
         950,
         2500,
         25
        ],
        [
         6,
         "Fiona",
         34,
         1800,
         5000,
         50
        ]
       ],
       "datasetInfos": [
        {
         "name": "_sqldf",
         "schema": {
          "fields": [
           {
            "metadata": {},
            "name": "Id",
            "nullable": true,
            "type": "integer"
           },
           {
            "metadata": {},
            "name": "name",
            "nullable": true,
            "type": "string"
           },
           {
            "metadata": {},
            "name": "age",
            "nullable": true,
            "type": "integer"
           },
           {
            "metadata": {},
            "name": "money",
            "nullable": true,
            "type": "integer"
           },
           {
            "metadata": {},
            "name": "sales",
            "nullable": true,
            "type": "integer"
           },
           {
            "metadata": {},
            "name": "units",
            "nullable": true,
            "type": "integer"
           }
          ],
          "type": "struct"
         },
         "tableIdentifier": null,
         "typeStr": "pyspark.sql.connect.dataframe.DataFrame"
        }
       ],
       "dbfsResultPath": null,
       "isJsonSchema": true,
       "metadata": {
        "createTempViewForImplicitDf": true,
        "dataframeName": "_sqldf",
        "executionCount": 39
       },
       "overflow": false,
       "plotOptions": {
        "customPlotOptions": {},
        "displayType": "table",
        "pivotAggregation": null,
        "pivotColumns": null,
        "xColumns": null,
        "yColumns": null
       },
       "removedWidgets": [],
       "schema": [
        {
         "metadata": "{}",
         "name": "Id",
         "type": "\"integer\""
        },
        {
         "metadata": "{}",
         "name": "name",
         "type": "\"string\""
        },
        {
         "metadata": "{}",
         "name": "age",
         "type": "\"integer\""
        },
        {
         "metadata": "{}",
         "name": "money",
         "type": "\"integer\""
        },
        {
         "metadata": "{}",
         "name": "sales",
         "type": "\"integer\""
        },
        {
         "metadata": "{}",
         "name": "units",
         "type": "\"integer\""
        }
       ],
       "type": "table"
      }
     },
     "output_type": "display_data"
    }
   ],
   "source": [
    "%sql\n",
    "SELECT * FROM bronze_sales_spark2;\n"
   ]
  },
  {
   "cell_type": "code",
   "execution_count": 0,
   "metadata": {
    "application/vnd.databricks.v1+cell": {
     "cellMetadata": {
      "byteLimit": 2048000,
      "implicitDf": true,
      "rowLimit": 10000
     },
     "inputWidgets": {},
     "nuid": "bbe0c2a4-b0a0-4837-b145-5c7d4d0b18aa",
     "showTitle": false,
     "tableResultSettingsMap": {},
     "title": ""
    }
   },
   "outputs": [
    {
     "data": {
      "text/html": [
       "<style scoped>\n",
       "  .table-result-container {\n",
       "    max-height: 300px;\n",
       "    overflow: auto;\n",
       "  }\n",
       "  table, th, td {\n",
       "    border: 1px solid black;\n",
       "    border-collapse: collapse;\n",
       "  }\n",
       "  th, td {\n",
       "    padding: 5px;\n",
       "  }\n",
       "  th {\n",
       "    text-align: left;\n",
       "  }\n",
       "</style><div class='table-result-container'><table class='table-result'><thead style='background-color: white'><tr><th>Id</th><th>money</th></tr></thead><tbody><tr><td>10</td><td>1300.0</td></tr><tr><td>11</td><td>1750.0</td></tr><tr><td>12</td><td>1450.0</td></tr><tr><td>7</td><td>1100.0</td></tr><tr><td>8</td><td>1600.0</td></tr><tr><td>9</td><td>2000.0</td></tr><tr><td>1</td><td>1200.0</td></tr><tr><td>2</td><td>850.0</td></tr><tr><td>3</td><td>1500.0</td></tr><tr><td>4</td><td>2100.0</td></tr><tr><td>5</td><td>950.0</td></tr><tr><td>6</td><td>1800.0</td></tr></tbody></table></div>"
      ]
     },
     "metadata": {
      "application/vnd.databricks.v1+output": {
       "addedWidgets": {},
       "aggData": [],
       "aggError": "",
       "aggOverflow": false,
       "aggSchema": [],
       "aggSeriesLimitReached": false,
       "aggType": "",
       "arguments": {},
       "columnCustomDisplayInfos": {},
       "data": [
        [
         10,
         1300
        ],
        [
         11,
         1750
        ],
        [
         12,
         1450
        ],
        [
         7,
         1100
        ],
        [
         8,
         1600
        ],
        [
         9,
         2000
        ],
        [
         1,
         1200
        ],
        [
         2,
         850
        ],
        [
         3,
         1500
        ],
        [
         4,
         2100
        ],
        [
         5,
         950
        ],
        [
         6,
         1800
        ]
       ],
       "datasetInfos": [
        {
         "name": "_sqldf",
         "schema": {
          "fields": [
           {
            "metadata": {},
            "name": "Id",
            "nullable": true,
            "type": "integer"
           },
           {
            "metadata": {},
            "name": "money",
            "nullable": true,
            "type": "double"
           }
          ],
          "type": "struct"
         },
         "tableIdentifier": null,
         "typeStr": "pyspark.sql.connect.dataframe.DataFrame"
        }
       ],
       "dbfsResultPath": null,
       "isJsonSchema": true,
       "metadata": {
        "createTempViewForImplicitDf": true,
        "dataframeName": "_sqldf",
        "executionCount": 40
       },
       "overflow": false,
       "plotOptions": {
        "customPlotOptions": {},
        "displayType": "table",
        "pivotAggregation": null,
        "pivotColumns": null,
        "xColumns": null,
        "yColumns": null
       },
       "removedWidgets": [],
       "schema": [
        {
         "metadata": "{}",
         "name": "Id",
         "type": "\"integer\""
        },
        {
         "metadata": "{}",
         "name": "money",
         "type": "\"double\""
        }
       ],
       "type": "table"
      }
     },
     "output_type": "display_data"
    }
   ],
   "source": [
    "%sql\n",
    "SELECT * FROM silver_sales_spark2;\n"
   ]
  },
  {
   "cell_type": "code",
   "execution_count": 0,
   "metadata": {
    "application/vnd.databricks.v1+cell": {
     "cellMetadata": {
      "byteLimit": 2048000,
      "implicitDf": true,
      "rowLimit": 10000
     },
     "inputWidgets": {},
     "nuid": "e728a170-1ff2-4fc7-8087-ea0f40045b3e",
     "showTitle": false,
     "tableResultSettingsMap": {},
     "title": ""
    }
   },
   "outputs": [
    {
     "data": {
      "text/html": [
       "<style scoped>\n",
       "  .table-result-container {\n",
       "    max-height: 300px;\n",
       "    overflow: auto;\n",
       "  }\n",
       "  table, th, td {\n",
       "    border: 1px solid black;\n",
       "    border-collapse: collapse;\n",
       "  }\n",
       "  th, td {\n",
       "    padding: 5px;\n",
       "  }\n",
       "  th {\n",
       "    text-align: left;\n",
       "  }\n",
       "</style><div class='table-result-container'><table class='table-result'><thead style='background-color: white'><tr><th>Id</th><th>total_money</th></tr></thead><tbody><tr><td>12</td><td>1450.0</td></tr><tr><td>1</td><td>1200.0</td></tr><tr><td>3</td><td>1500.0</td></tr><tr><td>5</td><td>950.0</td></tr><tr><td>9</td><td>2000.0</td></tr><tr><td>4</td><td>2100.0</td></tr><tr><td>8</td><td>1600.0</td></tr><tr><td>7</td><td>1100.0</td></tr><tr><td>10</td><td>1300.0</td></tr><tr><td>11</td><td>1750.0</td></tr><tr><td>2</td><td>850.0</td></tr><tr><td>6</td><td>1800.0</td></tr></tbody></table></div>"
      ]
     },
     "metadata": {
      "application/vnd.databricks.v1+output": {
       "addedWidgets": {},
       "aggData": [],
       "aggError": "",
       "aggOverflow": false,
       "aggSchema": [],
       "aggSeriesLimitReached": false,
       "aggType": "",
       "arguments": {},
       "columnCustomDisplayInfos": {},
       "data": [
        [
         12,
         1450
        ],
        [
         1,
         1200
        ],
        [
         3,
         1500
        ],
        [
         5,
         950
        ],
        [
         9,
         2000
        ],
        [
         4,
         2100
        ],
        [
         8,
         1600
        ],
        [
         7,
         1100
        ],
        [
         10,
         1300
        ],
        [
         11,
         1750
        ],
        [
         2,
         850
        ],
        [
         6,
         1800
        ]
       ],
       "datasetInfos": [
        {
         "name": "_sqldf",
         "schema": {
          "fields": [
           {
            "metadata": {},
            "name": "Id",
            "nullable": true,
            "type": "integer"
           },
           {
            "metadata": {},
            "name": "total_money",
            "nullable": true,
            "type": "double"
           }
          ],
          "type": "struct"
         },
         "tableIdentifier": null,
         "typeStr": "pyspark.sql.connect.dataframe.DataFrame"
        }
       ],
       "dbfsResultPath": null,
       "isJsonSchema": true,
       "metadata": {
        "createTempViewForImplicitDf": true,
        "dataframeName": "_sqldf",
        "executionCount": 41
       },
       "overflow": false,
       "plotOptions": {
        "customPlotOptions": {},
        "displayType": "table",
        "pivotAggregation": null,
        "pivotColumns": null,
        "xColumns": null,
        "yColumns": null
       },
       "removedWidgets": [],
       "schema": [
        {
         "metadata": "{}",
         "name": "Id",
         "type": "\"integer\""
        },
        {
         "metadata": "{}",
         "name": "total_money",
         "type": "\"double\""
        }
       ],
       "type": "table"
      }
     },
     "output_type": "display_data"
    }
   ],
   "source": [
    "%sql\n",
    "SELECT * FROM gold_sales_summary_spark2;\n",
    "\n"
   ]
  }
 ],
 "metadata": {
  "application/vnd.databricks.v1+notebook": {
   "computePreferences": null,
   "dashboards": [],
   "environmentMetadata": {
    "base_environment": "",
    "environment_version": "3"
   },
   "inputWidgetPreferences": null,
   "language": "python",
   "notebookMetadata": {
    "mostRecentlyExecutedCommandWithImplicitDF": {
     "commandId": 5190277786092248,
     "dataframes": [
      "_sqldf"
     ]
    },
    "pythonIndentUnit": 4
   },
   "notebookName": "pyspark example 1 2025-10-01",
   "widgets": {}
  },
  "kernelspec": {
   "display_name": "Python 3",
   "language": "python",
   "name": "python3"
  },
  "language_info": {
   "codemirror_mode": {
    "name": "ipython",
    "version": 3
   },
   "file_extension": ".py",
   "mimetype": "text/x-python",
   "name": "python",
   "nbconvert_exporter": "python",
   "pygments_lexer": "ipython3",
   "version": "3.13.7"
  }
 },
 "nbformat": 4,
 "nbformat_minor": 0
}
