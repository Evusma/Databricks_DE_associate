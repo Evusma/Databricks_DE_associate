{
 "cells": [
  {
   "cell_type": "code",
   "execution_count": 0,
   "metadata": {
    "application/vnd.databricks.v1+cell": {
     "cellMetadata": {
      "byteLimit": 2048000,
      "rowLimit": 10000
     },
     "inputWidgets": {},
     "nuid": "fad16e1f-b639-41dc-8115-7333637407a3",
     "showTitle": false,
     "tableResultSettingsMap": {},
     "title": ""
    }
   },
   "outputs": [
    {
     "output_type": "execute_result",
     "data": {
      "text/plain": [
       "DataFrame[]"
      ]
     },
     "execution_count": 5,
     "metadata": {},
     "output_type": "execute_result"
    }
   ],
   "source": [
    "spark.sql(\"USE CATALOG dataops_dev\")\n",
    "spark.sql(\"USE schema_test\")"
   ]
  },
  {
   "cell_type": "code",
   "execution_count": 0,
   "metadata": {
    "application/vnd.databricks.v1+cell": {
     "cellMetadata": {
      "byteLimit": 2048000,
      "rowLimit": 10000
     },
     "inputWidgets": {},
     "nuid": "b0538c43-cb2d-4a01-8653-6b097928deba",
     "showTitle": false,
     "tableResultSettingsMap": {},
     "title": ""
    }
   },
   "outputs": [
    {
     "output_type": "display_data",
     "data": {
      "text/html": [
       "<style scoped>\n",
       "  .table-result-container {\n",
       "    max-height: 300px;\n",
       "    overflow: auto;\n",
       "  }\n",
       "  table, th, td {\n",
       "    border: 1px solid black;\n",
       "    border-collapse: collapse;\n",
       "  }\n",
       "  th, td {\n",
       "    padding: 5px;\n",
       "  }\n",
       "  th {\n",
       "    text-align: left;\n",
       "  }\n",
       "</style><div class='table-result-container'><table class='table-result'><thead style='background-color: white'><tr><th>Id</th><th>name</th><th>age</th><th>money</th><th>sales</th><th>units</th></tr></thead><tbody><tr><td>1</td><td>Alice</td><td>25</td><td>1200</td><td>4500</td><td>45</td></tr><tr><td>2</td><td>Bob</td><td>32</td><td>850</td><td>3000</td><td>30</td></tr><tr><td>3</td><td>Charlie</td><td>29</td><td>1500</td><td>6000</td><td>60</td></tr><tr><td>7</td><td>George</td><td>30</td><td>1100</td><td>2200</td><td>22</td></tr><tr><td>8</td><td>Hannah</td><td>28</td><td>1600</td><td>4000</td><td>40</td></tr><tr><td>9</td><td>Ian</td><td>36</td><td>2000</td><td>6500</td><td>65</td></tr><tr><td>4</td><td>Diana</td><td>41</td><td>2100</td><td>7500</td><td>75</td></tr><tr><td>5</td><td>Ethan</td><td>27</td><td>950</td><td>2500</td><td>25</td></tr><tr><td>6</td><td>Fiona</td><td>34</td><td>1800</td><td>5000</td><td>50</td></tr></tbody></table></div>"
      ]
     },
     "metadata": {
      "application/vnd.databricks.v1+output": {
       "addedWidgets": {},
       "aggData": [],
       "aggError": "",
       "aggOverflow": false,
       "aggSchema": [],
       "aggSeriesLimitReached": false,
       "aggType": "",
       "arguments": {},
       "columnCustomDisplayInfos": {},
       "data": [
        [
         1,
         "Alice",
         25,
         1200,
         4500,
         45
        ],
        [
         2,
         "Bob",
         32,
         850,
         3000,
         30
        ],
        [
         3,
         "Charlie",
         29,
         1500,
         6000,
         60
        ],
        [
         7,
         "George",
         30,
         1100,
         2200,
         22
        ],
        [
         8,
         "Hannah",
         28,
         1600,
         4000,
         40
        ],
        [
         9,
         "Ian",
         36,
         2000,
         6500,
         65
        ],
        [
         4,
         "Diana",
         41,
         2100,
         7500,
         75
        ],
        [
         5,
         "Ethan",
         27,
         950,
         2500,
         25
        ],
        [
         6,
         "Fiona",
         34,
         1800,
         5000,
         50
        ]
       ],
       "datasetInfos": [],
       "dbfsResultPath": null,
       "isJsonSchema": true,
       "metadata": {},
       "overflow": false,
       "plotOptions": {
        "customPlotOptions": {},
        "displayType": "table",
        "pivotAggregation": null,
        "pivotColumns": null,
        "xColumns": null,
        "yColumns": null
       },
       "removedWidgets": [],
       "schema": [
        {
         "metadata": "{}",
         "name": "Id",
         "type": "\"integer\""
        },
        {
         "metadata": "{}",
         "name": "name",
         "type": "\"string\""
        },
        {
         "metadata": "{}",
         "name": "age",
         "type": "\"integer\""
        },
        {
         "metadata": "{}",
         "name": "money",
         "type": "\"integer\""
        },
        {
         "metadata": "{}",
         "name": "sales",
         "type": "\"integer\""
        },
        {
         "metadata": "{}",
         "name": "units",
         "type": "\"integer\""
        }
       ],
       "type": "table"
      }
     },
     "output_type": "display_data"
    }
   ],
   "source": [
    "df = (\n",
    "    spark.read\n",
    "    .table(\"bronze_sales_spark\")\n",
    ")\n",
    "display(df)"
   ]
  },
  {
   "cell_type": "code",
   "execution_count": 0,
   "metadata": {
    "application/vnd.databricks.v1+cell": {
     "cellMetadata": {
      "byteLimit": 2048000,
      "rowLimit": 10000
     },
     "inputWidgets": {},
     "nuid": "2d7d16cd-fc8b-4c0d-85b1-b77449e5835f",
     "showTitle": false,
     "tableResultSettingsMap": {},
     "title": ""
    }
   },
   "outputs": [
    {
     "output_type": "display_data",
     "data": {
      "text/html": [
       "<style scoped>\n",
       "  .table-result-container {\n",
       "    max-height: 300px;\n",
       "    overflow: auto;\n",
       "  }\n",
       "  table, th, td {\n",
       "    border: 1px solid black;\n",
       "    border-collapse: collapse;\n",
       "  }\n",
       "  th, td {\n",
       "    padding: 5px;\n",
       "  }\n",
       "  th {\n",
       "    text-align: left;\n",
       "  }\n",
       "</style><div class='table-result-container'><table class='table-result'><thead style='background-color: white'><tr><th>Id</th><th>name</th><th>age</th><th>money</th><th>sales</th><th>units</th></tr></thead><tbody><tr><td>1</td><td>Alice</td><td>25</td><td>1200.0</td><td>4500</td><td>45</td></tr><tr><td>2</td><td>Bob</td><td>32</td><td>850.0</td><td>3000</td><td>30</td></tr><tr><td>3</td><td>Charlie</td><td>29</td><td>1500.0</td><td>6000</td><td>60</td></tr><tr><td>7</td><td>George</td><td>30</td><td>1100.0</td><td>2200</td><td>22</td></tr><tr><td>8</td><td>Hannah</td><td>28</td><td>1600.0</td><td>4000</td><td>40</td></tr><tr><td>9</td><td>Ian</td><td>36</td><td>2000.0</td><td>6500</td><td>65</td></tr><tr><td>4</td><td>Diana</td><td>41</td><td>2100.0</td><td>7500</td><td>75</td></tr><tr><td>5</td><td>Ethan</td><td>27</td><td>950.0</td><td>2500</td><td>25</td></tr><tr><td>6</td><td>Fiona</td><td>34</td><td>1800.0</td><td>5000</td><td>50</td></tr></tbody></table></div>"
      ]
     },
     "metadata": {
      "application/vnd.databricks.v1+output": {
       "addedWidgets": {},
       "aggData": [],
       "aggError": "",
       "aggOverflow": false,
       "aggSchema": [],
       "aggSeriesLimitReached": false,
       "aggType": "",
       "arguments": {},
       "columnCustomDisplayInfos": {},
       "data": [
        [
         1,
         "Alice",
         25,
         1200.0,
         4500,
         45
        ],
        [
         2,
         "Bob",
         32,
         850.0,
         3000,
         30
        ],
        [
         3,
         "Charlie",
         29,
         1500.0,
         6000,
         60
        ],
        [
         7,
         "George",
         30,
         1100.0,
         2200,
         22
        ],
        [
         8,
         "Hannah",
         28,
         1600.0,
         4000,
         40
        ],
        [
         9,
         "Ian",
         36,
         2000.0,
         6500,
         65
        ],
        [
         4,
         "Diana",
         41,
         2100.0,
         7500,
         75
        ],
        [
         5,
         "Ethan",
         27,
         950.0,
         2500,
         25
        ],
        [
         6,
         "Fiona",
         34,
         1800.0,
         5000,
         50
        ]
       ],
       "datasetInfos": [],
       "dbfsResultPath": null,
       "isJsonSchema": true,
       "metadata": {},
       "overflow": false,
       "plotOptions": {
        "customPlotOptions": {},
        "displayType": "table",
        "pivotAggregation": null,
        "pivotColumns": null,
        "xColumns": null,
        "yColumns": null
       },
       "removedWidgets": [],
       "schema": [
        {
         "metadata": "{}",
         "name": "Id",
         "type": "\"integer\""
        },
        {
         "metadata": "{}",
         "name": "name",
         "type": "\"string\""
        },
        {
         "metadata": "{}",
         "name": "age",
         "type": "\"integer\""
        },
        {
         "metadata": "{}",
         "name": "money",
         "type": "\"double\""
        },
        {
         "metadata": "{}",
         "name": "sales",
         "type": "\"integer\""
        },
        {
         "metadata": "{}",
         "name": "units",
         "type": "\"integer\""
        }
       ],
       "type": "table"
      }
     },
     "output_type": "display_data"
    }
   ],
   "source": [
    "df = (\n",
    "    spark.read\n",
    "    .table(\"silver_sales_spark\")\n",
    ")\n",
    "display(df)"
   ]
  },
  {
   "cell_type": "code",
   "execution_count": 0,
   "metadata": {
    "application/vnd.databricks.v1+cell": {
     "cellMetadata": {
      "byteLimit": 2048000,
      "rowLimit": 10000
     },
     "inputWidgets": {},
     "nuid": "a0fbb210-cbde-4efd-812b-50c1e2ee675a",
     "showTitle": false,
     "tableResultSettingsMap": {},
     "title": ""
    }
   },
   "outputs": [
    {
     "output_type": "display_data",
     "data": {
      "text/html": [
       "<style scoped>\n",
       "  .table-result-container {\n",
       "    max-height: 300px;\n",
       "    overflow: auto;\n",
       "  }\n",
       "  table, th, td {\n",
       "    border: 1px solid black;\n",
       "    border-collapse: collapse;\n",
       "  }\n",
       "  th, td {\n",
       "    padding: 5px;\n",
       "  }\n",
       "  th {\n",
       "    text-align: left;\n",
       "  }\n",
       "</style><div class='table-result-container'><table class='table-result'><thead style='background-color: white'><tr><th>Id</th><th>total_money</th></tr></thead><tbody><tr><td>1</td><td>1200.0</td></tr><tr><td>6</td><td>1800.0</td></tr><tr><td>3</td><td>1500.0</td></tr><tr><td>5</td><td>950.0</td></tr><tr><td>9</td><td>2000.0</td></tr><tr><td>4</td><td>2100.0</td></tr><tr><td>8</td><td>1600.0</td></tr><tr><td>7</td><td>1100.0</td></tr><tr><td>2</td><td>850.0</td></tr></tbody></table></div>"
      ]
     },
     "metadata": {
      "application/vnd.databricks.v1+output": {
       "addedWidgets": {},
       "aggData": [],
       "aggError": "",
       "aggOverflow": false,
       "aggSchema": [],
       "aggSeriesLimitReached": false,
       "aggType": "",
       "arguments": {},
       "columnCustomDisplayInfos": {},
       "data": [
        [
         1,
         1200.0
        ],
        [
         6,
         1800.0
        ],
        [
         3,
         1500.0
        ],
        [
         5,
         950.0
        ],
        [
         9,
         2000.0
        ],
        [
         4,
         2100.0
        ],
        [
         8,
         1600.0
        ],
        [
         7,
         1100.0
        ],
        [
         2,
         850.0
        ]
       ],
       "datasetInfos": [],
       "dbfsResultPath": null,
       "isJsonSchema": true,
       "metadata": {},
       "overflow": false,
       "plotOptions": {
        "customPlotOptions": {},
        "displayType": "table",
        "pivotAggregation": null,
        "pivotColumns": null,
        "xColumns": null,
        "yColumns": null
       },
       "removedWidgets": [],
       "schema": [
        {
         "metadata": "{}",
         "name": "Id",
         "type": "\"integer\""
        },
        {
         "metadata": "{}",
         "name": "total_money",
         "type": "\"double\""
        }
       ],
       "type": "table"
      }
     },
     "output_type": "display_data"
    }
   ],
   "source": [
    "df = (\n",
    "    spark.read\n",
    "    .table(\"gold_sales_summary_spark\")\n",
    ")\n",
    "display(df)"
   ]
  },
  {
   "cell_type": "code",
   "execution_count": 0,
   "metadata": {
    "application/vnd.databricks.v1+cell": {
     "cellMetadata": {
      "byteLimit": 2048000,
      "rowLimit": 10000
     },
     "inputWidgets": {},
     "nuid": "79050017-ed39-48df-a55a-23b4fee9e628",
     "showTitle": false,
     "tableResultSettingsMap": {},
     "title": ""
    }
   },
   "outputs": [
    {
     "output_type": "display_data",
     "data": {
      "text/html": [
       "<style scoped>\n",
       "  .table-result-container {\n",
       "    max-height: 300px;\n",
       "    overflow: auto;\n",
       "  }\n",
       "  table, th, td {\n",
       "    border: 1px solid black;\n",
       "    border-collapse: collapse;\n",
       "  }\n",
       "  th, td {\n",
       "    padding: 5px;\n",
       "  }\n",
       "  th {\n",
       "    text-align: left;\n",
       "  }\n",
       "</style><div class='table-result-container'><table class='table-result'><thead style='background-color: white'><tr><th>Id</th><th>name</th><th>age</th><th>money</th><th>sales</th><th>units</th></tr></thead><tbody><tr><td>1</td><td>Alice</td><td>25</td><td>1200</td><td>4500</td><td>45</td></tr><tr><td>2</td><td>Bob</td><td>32</td><td>850</td><td>3000</td><td>30</td></tr><tr><td>3</td><td>Charlie</td><td>29</td><td>1500</td><td>6000</td><td>60</td></tr><tr><td>7</td><td>George</td><td>30</td><td>1100</td><td>2200</td><td>22</td></tr><tr><td>8</td><td>Hannah</td><td>28</td><td>1600</td><td>4000</td><td>40</td></tr><tr><td>9</td><td>Ian</td><td>36</td><td>2000</td><td>6500</td><td>65</td></tr><tr><td>4</td><td>Diana</td><td>41</td><td>2100</td><td>7500</td><td>75</td></tr><tr><td>5</td><td>Ethan</td><td>27</td><td>950</td><td>2500</td><td>25</td></tr><tr><td>6</td><td>Fiona</td><td>34</td><td>1800</td><td>5000</td><td>50</td></tr><tr><td>10</td><td>Julia</td><td>26</td><td>1300</td><td>2800</td><td>28</td></tr><tr><td>11</td><td>Kevin</td><td>39</td><td>1750</td><td>5500</td><td>55</td></tr><tr><td>12</td><td>Laura</td><td>31</td><td>1450</td><td>3800</td><td>38</td></tr></tbody></table></div>"
      ]
     },
     "metadata": {
      "application/vnd.databricks.v1+output": {
       "addedWidgets": {},
       "aggData": [],
       "aggError": "",
       "aggOverflow": false,
       "aggSchema": [],
       "aggSeriesLimitReached": false,
       "aggType": "",
       "arguments": {},
       "columnCustomDisplayInfos": {},
       "data": [
        [
         1,
         "Alice",
         25,
         1200,
         4500,
         45
        ],
        [
         2,
         "Bob",
         32,
         850,
         3000,
         30
        ],
        [
         3,
         "Charlie",
         29,
         1500,
         6000,
         60
        ],
        [
         7,
         "George",
         30,
         1100,
         2200,
         22
        ],
        [
         8,
         "Hannah",
         28,
         1600,
         4000,
         40
        ],
        [
         9,
         "Ian",
         36,
         2000,
         6500,
         65
        ],
        [
         4,
         "Diana",
         41,
         2100,
         7500,
         75
        ],
        [
         5,
         "Ethan",
         27,
         950,
         2500,
         25
        ],
        [
         6,
         "Fiona",
         34,
         1800,
         5000,
         50
        ],
        [
         10,
         "Julia",
         26,
         1300,
         2800,
         28
        ],
        [
         11,
         "Kevin",
         39,
         1750,
         5500,
         55
        ],
        [
         12,
         "Laura",
         31,
         1450,
         3800,
         38
        ]
       ],
       "datasetInfos": [],
       "dbfsResultPath": null,
       "isJsonSchema": true,
       "metadata": {},
       "overflow": false,
       "plotOptions": {
        "customPlotOptions": {},
        "displayType": "table",
        "pivotAggregation": null,
        "pivotColumns": null,
        "xColumns": null,
        "yColumns": null
       },
       "removedWidgets": [],
       "schema": [
        {
         "metadata": "{}",
         "name": "Id",
         "type": "\"integer\""
        },
        {
         "metadata": "{}",
         "name": "name",
         "type": "\"string\""
        },
        {
         "metadata": "{}",
         "name": "age",
         "type": "\"integer\""
        },
        {
         "metadata": "{}",
         "name": "money",
         "type": "\"integer\""
        },
        {
         "metadata": "{}",
         "name": "sales",
         "type": "\"integer\""
        },
        {
         "metadata": "{}",
         "name": "units",
         "type": "\"integer\""
        }
       ],
       "type": "table"
      }
     },
     "output_type": "display_data"
    }
   ],
   "source": [
    "df = (\n",
    "    spark.read\n",
    "    .table(\"bronze_sales_spark\")\n",
    ")\n",
    "display(df)"
   ]
  },
  {
   "cell_type": "code",
   "execution_count": 0,
   "metadata": {
    "application/vnd.databricks.v1+cell": {
     "cellMetadata": {
      "byteLimit": 2048000,
      "rowLimit": 10000
     },
     "inputWidgets": {},
     "nuid": "1c6e7089-36db-46cd-a968-8fcca236d89b",
     "showTitle": false,
     "tableResultSettingsMap": {},
     "title": ""
    }
   },
   "outputs": [
    {
     "output_type": "display_data",
     "data": {
      "text/html": [
       "<style scoped>\n",
       "  .table-result-container {\n",
       "    max-height: 300px;\n",
       "    overflow: auto;\n",
       "  }\n",
       "  table, th, td {\n",
       "    border: 1px solid black;\n",
       "    border-collapse: collapse;\n",
       "  }\n",
       "  th, td {\n",
       "    padding: 5px;\n",
       "  }\n",
       "  th {\n",
       "    text-align: left;\n",
       "  }\n",
       "</style><div class='table-result-container'><table class='table-result'><thead style='background-color: white'><tr><th>Id</th><th>name</th><th>age</th><th>money</th><th>sales</th><th>units</th></tr></thead><tbody><tr><td>1</td><td>Alice</td><td>25</td><td>1200.0</td><td>4500</td><td>45</td></tr><tr><td>2</td><td>Bob</td><td>32</td><td>850.0</td><td>3000</td><td>30</td></tr><tr><td>3</td><td>Charlie</td><td>29</td><td>1500.0</td><td>6000</td><td>60</td></tr><tr><td>7</td><td>George</td><td>30</td><td>1100.0</td><td>2200</td><td>22</td></tr><tr><td>8</td><td>Hannah</td><td>28</td><td>1600.0</td><td>4000</td><td>40</td></tr><tr><td>9</td><td>Ian</td><td>36</td><td>2000.0</td><td>6500</td><td>65</td></tr><tr><td>4</td><td>Diana</td><td>41</td><td>2100.0</td><td>7500</td><td>75</td></tr><tr><td>5</td><td>Ethan</td><td>27</td><td>950.0</td><td>2500</td><td>25</td></tr><tr><td>6</td><td>Fiona</td><td>34</td><td>1800.0</td><td>5000</td><td>50</td></tr><tr><td>10</td><td>Julia</td><td>26</td><td>1300.0</td><td>2800</td><td>28</td></tr><tr><td>11</td><td>Kevin</td><td>39</td><td>1750.0</td><td>5500</td><td>55</td></tr><tr><td>12</td><td>Laura</td><td>31</td><td>1450.0</td><td>3800</td><td>38</td></tr></tbody></table></div>"
      ]
     },
     "metadata": {
      "application/vnd.databricks.v1+output": {
       "addedWidgets": {},
       "aggData": [],
       "aggError": "",
       "aggOverflow": false,
       "aggSchema": [],
       "aggSeriesLimitReached": false,
       "aggType": "",
       "arguments": {},
       "columnCustomDisplayInfos": {},
       "data": [
        [
         1,
         "Alice",
         25,
         1200.0,
         4500,
         45
        ],
        [
         2,
         "Bob",
         32,
         850.0,
         3000,
         30
        ],
        [
         3,
         "Charlie",
         29,
         1500.0,
         6000,
         60
        ],
        [
         7,
         "George",
         30,
         1100.0,
         2200,
         22
        ],
        [
         8,
         "Hannah",
         28,
         1600.0,
         4000,
         40
        ],
        [
         9,
         "Ian",
         36,
         2000.0,
         6500,
         65
        ],
        [
         4,
         "Diana",
         41,
         2100.0,
         7500,
         75
        ],
        [
         5,
         "Ethan",
         27,
         950.0,
         2500,
         25
        ],
        [
         6,
         "Fiona",
         34,
         1800.0,
         5000,
         50
        ],
        [
         10,
         "Julia",
         26,
         1300.0,
         2800,
         28
        ],
        [
         11,
         "Kevin",
         39,
         1750.0,
         5500,
         55
        ],
        [
         12,
         "Laura",
         31,
         1450.0,
         3800,
         38
        ]
       ],
       "datasetInfos": [],
       "dbfsResultPath": null,
       "isJsonSchema": true,
       "metadata": {},
       "overflow": false,
       "plotOptions": {
        "customPlotOptions": {},
        "displayType": "table",
        "pivotAggregation": null,
        "pivotColumns": null,
        "xColumns": null,
        "yColumns": null
       },
       "removedWidgets": [],
       "schema": [
        {
         "metadata": "{}",
         "name": "Id",
         "type": "\"integer\""
        },
        {
         "metadata": "{}",
         "name": "name",
         "type": "\"string\""
        },
        {
         "metadata": "{}",
         "name": "age",
         "type": "\"integer\""
        },
        {
         "metadata": "{}",
         "name": "money",
         "type": "\"double\""
        },
        {
         "metadata": "{}",
         "name": "sales",
         "type": "\"integer\""
        },
        {
         "metadata": "{}",
         "name": "units",
         "type": "\"integer\""
        }
       ],
       "type": "table"
      }
     },
     "output_type": "display_data"
    }
   ],
   "source": [
    "df = (\n",
    "    spark.read\n",
    "    .table(\"silver_sales_spark\")\n",
    ")\n",
    "display(df)"
   ]
  },
  {
   "cell_type": "code",
   "execution_count": 0,
   "metadata": {
    "application/vnd.databricks.v1+cell": {
     "cellMetadata": {
      "byteLimit": 2048000,
      "rowLimit": 10000
     },
     "inputWidgets": {},
     "nuid": "33dac9ed-a622-4c49-b9e5-6e6c6c614d99",
     "showTitle": false,
     "tableResultSettingsMap": {},
     "title": ""
    }
   },
   "outputs": [
    {
     "output_type": "display_data",
     "data": {
      "text/html": [
       "<style scoped>\n",
       "  .table-result-container {\n",
       "    max-height: 300px;\n",
       "    overflow: auto;\n",
       "  }\n",
       "  table, th, td {\n",
       "    border: 1px solid black;\n",
       "    border-collapse: collapse;\n",
       "  }\n",
       "  th, td {\n",
       "    padding: 5px;\n",
       "  }\n",
       "  th {\n",
       "    text-align: left;\n",
       "  }\n",
       "</style><div class='table-result-container'><table class='table-result'><thead style='background-color: white'><tr><th>Id</th><th>total_money</th></tr></thead><tbody><tr><td>12</td><td>1450.0</td></tr><tr><td>1</td><td>1200.0</td></tr><tr><td>6</td><td>1800.0</td></tr><tr><td>3</td><td>1500.0</td></tr><tr><td>5</td><td>950.0</td></tr><tr><td>9</td><td>2000.0</td></tr><tr><td>4</td><td>2100.0</td></tr><tr><td>8</td><td>1600.0</td></tr><tr><td>7</td><td>1100.0</td></tr><tr><td>10</td><td>1300.0</td></tr><tr><td>11</td><td>1750.0</td></tr><tr><td>2</td><td>850.0</td></tr></tbody></table></div>"
      ]
     },
     "metadata": {
      "application/vnd.databricks.v1+output": {
       "addedWidgets": {},
       "aggData": [],
       "aggError": "",
       "aggOverflow": false,
       "aggSchema": [],
       "aggSeriesLimitReached": false,
       "aggType": "",
       "arguments": {},
       "columnCustomDisplayInfos": {},
       "data": [
        [
         12,
         1450.0
        ],
        [
         1,
         1200.0
        ],
        [
         6,
         1800.0
        ],
        [
         3,
         1500.0
        ],
        [
         5,
         950.0
        ],
        [
         9,
         2000.0
        ],
        [
         4,
         2100.0
        ],
        [
         8,
         1600.0
        ],
        [
         7,
         1100.0
        ],
        [
         10,
         1300.0
        ],
        [
         11,
         1750.0
        ],
        [
         2,
         850.0
        ]
       ],
       "datasetInfos": [],
       "dbfsResultPath": null,
       "isJsonSchema": true,
       "metadata": {},
       "overflow": false,
       "plotOptions": {
        "customPlotOptions": {},
        "displayType": "table",
        "pivotAggregation": null,
        "pivotColumns": null,
        "xColumns": null,
        "yColumns": null
       },
       "removedWidgets": [],
       "schema": [
        {
         "metadata": "{}",
         "name": "Id",
         "type": "\"integer\""
        },
        {
         "metadata": "{}",
         "name": "total_money",
         "type": "\"double\""
        }
       ],
       "type": "table"
      }
     },
     "output_type": "display_data"
    }
   ],
   "source": [
    "df = (\n",
    "    spark.read\n",
    "    .table(\"gold_sales_summary_spark\")\n",
    ")\n",
    "display(df)"
   ]
  }
 ],
 "metadata": {
  "application/vnd.databricks.v1+notebook": {
   "computePreferences": null,
   "dashboards": [],
   "environmentMetadata": {
    "base_environment": "",
    "environment_version": "3"
   },
   "inputWidgetPreferences": null,
   "language": "python",
   "notebookMetadata": {
    "pythonIndentUnit": 4
   },
   "notebookName": "DP-pysaprk test",
   "widgets": {}
  },
  "language_info": {
   "name": "python"
  }
 },
 "nbformat": 4,
 "nbformat_minor": 0
}