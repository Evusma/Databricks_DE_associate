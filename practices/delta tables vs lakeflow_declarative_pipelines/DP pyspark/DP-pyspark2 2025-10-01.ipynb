{
 "cells": [
  {
   "cell_type": "code",
   "execution_count": 0,
   "metadata": {
    "application/vnd.databricks.v1+cell": {
     "cellMetadata": {},
     "inputWidgets": {},
     "nuid": "1ad83e62-cd07-4724-b983-3cdba5fba1c3",
     "showTitle": false,
     "tableResultSettingsMap": {},
     "title": ""
    }
   },
   "outputs": [],
   "source": [
    "from pyspark import pipelines as dp\n",
    "from pyspark.sql.functions import col, sum as _sum\n",
    "from pyspark.sql.types import StructType, StructField, StringType, IntegerType\n",
    "\n",
    "schema = StructType([\n",
    "   StructField(\"Id\", IntegerType(), True),\n",
    "   StructField(\"name\", StringType(), True),\n",
    "   StructField(\"age\", IntegerType(), True),\n",
    "   StructField(\"money\", IntegerType(), True),\n",
    "   StructField(\"sales\", IntegerType(), True),\n",
    "   StructField(\"units\", IntegerType(), True),\n",
    "])\n",
    "\n",
    "# --------------------------\n",
    "# Bronze: Streaming ingestion\n",
    "# --------------------------\n",
    "@dp.table\n",
    "def bronze_sales_spark4():\n",
    "    \"\"\"\n",
    "    Ingest raw JSON sales data continuously\n",
    "    \"\"\"\n",
    "    return (\n",
    "        spark.readStream\n",
    "        .format(\"json\")\n",
    "        .option(\"multiLine\", True)\n",
    "        .schema(schema)\n",
    "        .load(\"/Volumes/dataops_dev/schema_test/volume_test/delta_tables/json/\")\n",
    "    )\n",
    "\n",
    "# --------------------------\n",
    "# Silver: Streaming clean & quality\n",
    "# --------------------------\n",
    "@dp.table\n",
    "@dp.expect(\"valid_amount\", \"money > 0\")  # data quality check\n",
    "def silver_sales_spark4():\n",
    "    \"\"\"\n",
    "    Clean data: cast types, enforce quality rules\n",
    "    \"\"\"\n",
    "    return (\n",
    "        dp.readStream(\"bronze_sales_spark\")\n",
    "        .withColumn(\"money\", col(\"money\").cast(\"double\"))\n",
    "    )\n",
    "\n",
    "# --------------------------\n",
    "# Gold: Batch aggregation\n",
    "# --------------------------\n",
    "@dp.table\n",
    "def gold_sales_summary_spark4():\n",
    "    \"\"\"\n",
    "    Aggregate silver data in batch mode.\n",
    "    You can run this on schedule or manually.\n",
    "    \"\"\"\n",
    "    return (\n",
    "        dp.read(\"silver_sales_spark\")\n",
    "        .groupBy(\"Id\")\n",
    "        .agg(\n",
    "            _sum(\"money\").alias(\"total_money\")\n",
    "        )\n",
    "    )"
   ]
  }
 ],
 "metadata": {
  "application/vnd.databricks.v1+notebook": {
   "computePreferences": null,
   "dashboards": [],
   "environmentMetadata": {
    "base_environment": "",
    "environment_version": "3"
   },
   "inputWidgetPreferences": null,
   "language": "python",
   "notebookMetadata": {
    "pythonIndentUnit": 4
   },
   "notebookName": "DP-pyspark2 2025-10-01",
   "widgets": {}
  },
  "language_info": {
   "name": "python"
  }
 },
 "nbformat": 4,
 "nbformat_minor": 0
}