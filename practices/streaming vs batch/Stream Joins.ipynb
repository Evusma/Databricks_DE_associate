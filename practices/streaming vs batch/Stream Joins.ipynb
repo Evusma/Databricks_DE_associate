{
 "cells": [
  {
   "cell_type": "markdown",
   "metadata": {
    "application/vnd.databricks.v1+cell": {
     "cellMetadata": {},
     "inputWidgets": {},
     "nuid": "7e8e7909-adc0-46e9-9fd7-69a4d868f90e",
     "showTitle": false,
     "tableResultSettingsMap": {},
     "title": ""
    }
   },
   "source": [
    "Create two streams"
   ]
  },
  {
   "cell_type": "code",
   "execution_count": 0,
   "metadata": {
    "application/vnd.databricks.v1+cell": {
     "cellMetadata": {
      "byteLimit": 2048000,
      "rowLimit": 10000
     },
     "inputWidgets": {},
     "nuid": "cd29c278-7ba7-42ce-9d76-fc122a8b923c",
     "showTitle": false,
     "tableResultSettingsMap": {},
     "title": ""
    }
   },
   "outputs": [],
   "source": [
    "from pyspark.sql.functions import rand\n",
    "\n",
    "spark.conf.set(\"spark.sql.shuffle.partitions\", '200')\n",
    "\n",
    "impressions = (\n",
    "  spark\n",
    "  .readStream.format(\"rate\").option(\"rowsPerSecond\", \"500\").option(\"numPartitions\", \"1\").load()\n",
    "  .selectExpr(\"value AS adId\", \"timestamp AS impressionTime\")\n",
    ")\n",
    "\n",
    "clicks = (\n",
    "  spark\n",
    "  .readStream.format(\"rate\").option(\"rowsPerSecond\", \"500\").option(\"numPartitions\", \"1\").load()\n",
    "  .where((rand()*100).cast(\"integer\")< 10)  # 10 out of 100 impressions result in a click\n",
    "  .selectExpr(\"(value - 50) AS adId\", \"timestamp AS clickTime\")\n",
    "  .where(\"adId > 0\")\n",
    ")"
   ]
  },
  {
   "cell_type": "code",
   "execution_count": 0,
   "metadata": {
    "application/vnd.databricks.v1+cell": {
     "cellMetadata": {
      "byteLimit": 2048000,
      "rowLimit": 10000
     },
     "inputWidgets": {},
     "nuid": "4e8b25a6-35a8-4097-b981-5475d384b942",
     "showTitle": false,
     "tableResultSettingsMap": {
      "0": {
       "dataGridStateBlob": "{\"version\":1,\"tableState\":{\"columnPinning\":{\"left\":[\"#row_number#\"],\"right\":[]},\"columnSizing\":{\"impressionTime\":276},\"columnVisibility\":{}},\"settings\":{\"columns\":{}},\"syncTimestamp\":1760708530132}",
       "filterBlob": null,
       "queryPlanFiltersBlob": null,
       "tableResultIndex": 0
      }
     },
     "title": ""
    }
   },
   "outputs": [
    {
     "output_type": "display_data",
     "data": {
      "text/html": [
       "<style scoped>\n",
       "  .table-result-container {\n",
       "    max-height: 300px;\n",
       "    overflow: auto;\n",
       "  }\n",
       "  table, th, td {\n",
       "    border: 1px solid black;\n",
       "    border-collapse: collapse;\n",
       "  }\n",
       "  th, td {\n",
       "    padding: 5px;\n",
       "  }\n",
       "  th {\n",
       "    text-align: left;\n",
       "  }\n",
       "</style><div class='table-result-container'><table class='table-result'><thead style='background-color: white'><tr><th>adId</th><th>impressionTime</th></tr></thead><tbody><tr><td>0</td><td>2025-10-17T14:10:45.978Z</td></tr><tr><td>1</td><td>2025-10-17T14:10:45.980Z</td></tr><tr><td>2</td><td>2025-10-17T14:10:45.982Z</td></tr><tr><td>3</td><td>2025-10-17T14:10:45.984Z</td></tr><tr><td>4</td><td>2025-10-17T14:10:45.986Z</td></tr><tr><td>5</td><td>2025-10-17T14:10:45.988Z</td></tr><tr><td>6</td><td>2025-10-17T14:10:45.990Z</td></tr><tr><td>7</td><td>2025-10-17T14:10:45.992Z</td></tr><tr><td>8</td><td>2025-10-17T14:10:45.994Z</td></tr><tr><td>9</td><td>2025-10-17T14:10:45.996Z</td></tr><tr><td>10</td><td>2025-10-17T14:10:45.998Z</td></tr><tr><td>11</td><td>2025-10-17T14:10:46.000Z</td></tr><tr><td>12</td><td>2025-10-17T14:10:46.002Z</td></tr><tr><td>13</td><td>2025-10-17T14:10:46.004Z</td></tr><tr><td>14</td><td>2025-10-17T14:10:46.006Z</td></tr><tr><td>15</td><td>2025-10-17T14:10:46.008Z</td></tr><tr><td>16</td><td>2025-10-17T14:10:46.010Z</td></tr><tr><td>17</td><td>2025-10-17T14:10:46.012Z</td></tr><tr><td>18</td><td>2025-10-17T14:10:46.014Z</td></tr><tr><td>19</td><td>2025-10-17T14:10:46.016Z</td></tr><tr><td>20</td><td>2025-10-17T14:10:46.018Z</td></tr><tr><td>21</td><td>2025-10-17T14:10:46.020Z</td></tr><tr><td>22</td><td>2025-10-17T14:10:46.022Z</td></tr><tr><td>23</td><td>2025-10-17T14:10:46.024Z</td></tr><tr><td>24</td><td>2025-10-17T14:10:46.026Z</td></tr><tr><td>25</td><td>2025-10-17T14:10:46.028Z</td></tr><tr><td>26</td><td>2025-10-17T14:10:46.030Z</td></tr><tr><td>27</td><td>2025-10-17T14:10:46.032Z</td></tr><tr><td>28</td><td>2025-10-17T14:10:46.034Z</td></tr><tr><td>29</td><td>2025-10-17T14:10:46.036Z</td></tr><tr><td>30</td><td>2025-10-17T14:10:46.038Z</td></tr><tr><td>31</td><td>2025-10-17T14:10:46.040Z</td></tr><tr><td>32</td><td>2025-10-17T14:10:46.042Z</td></tr><tr><td>33</td><td>2025-10-17T14:10:46.044Z</td></tr><tr><td>34</td><td>2025-10-17T14:10:46.046Z</td></tr><tr><td>35</td><td>2025-10-17T14:10:46.048Z</td></tr><tr><td>36</td><td>2025-10-17T14:10:46.050Z</td></tr><tr><td>37</td><td>2025-10-17T14:10:46.052Z</td></tr><tr><td>38</td><td>2025-10-17T14:10:46.054Z</td></tr><tr><td>39</td><td>2025-10-17T14:10:46.056Z</td></tr><tr><td>40</td><td>2025-10-17T14:10:46.058Z</td></tr><tr><td>41</td><td>2025-10-17T14:10:46.060Z</td></tr><tr><td>42</td><td>2025-10-17T14:10:46.062Z</td></tr><tr><td>43</td><td>2025-10-17T14:10:46.064Z</td></tr><tr><td>44</td><td>2025-10-17T14:10:46.066Z</td></tr><tr><td>45</td><td>2025-10-17T14:10:46.068Z</td></tr><tr><td>46</td><td>2025-10-17T14:10:46.070Z</td></tr><tr><td>47</td><td>2025-10-17T14:10:46.072Z</td></tr><tr><td>48</td><td>2025-10-17T14:10:46.074Z</td></tr><tr><td>49</td><td>2025-10-17T14:10:46.076Z</td></tr><tr><td>50</td><td>2025-10-17T14:10:46.078Z</td></tr><tr><td>51</td><td>2025-10-17T14:10:46.080Z</td></tr><tr><td>52</td><td>2025-10-17T14:10:46.082Z</td></tr><tr><td>53</td><td>2025-10-17T14:10:46.084Z</td></tr><tr><td>54</td><td>2025-10-17T14:10:46.086Z</td></tr><tr><td>55</td><td>2025-10-17T14:10:46.088Z</td></tr><tr><td>56</td><td>2025-10-17T14:10:46.090Z</td></tr><tr><td>57</td><td>2025-10-17T14:10:46.092Z</td></tr><tr><td>58</td><td>2025-10-17T14:10:46.094Z</td></tr><tr><td>59</td><td>2025-10-17T14:10:46.096Z</td></tr><tr><td>60</td><td>2025-10-17T14:10:46.098Z</td></tr><tr><td>61</td><td>2025-10-17T14:10:46.100Z</td></tr><tr><td>62</td><td>2025-10-17T14:10:46.102Z</td></tr><tr><td>63</td><td>2025-10-17T14:10:46.104Z</td></tr><tr><td>64</td><td>2025-10-17T14:10:46.106Z</td></tr><tr><td>65</td><td>2025-10-17T14:10:46.108Z</td></tr><tr><td>66</td><td>2025-10-17T14:10:46.110Z</td></tr><tr><td>67</td><td>2025-10-17T14:10:46.112Z</td></tr><tr><td>68</td><td>2025-10-17T14:10:46.114Z</td></tr><tr><td>69</td><td>2025-10-17T14:10:46.116Z</td></tr><tr><td>70</td><td>2025-10-17T14:10:46.118Z</td></tr><tr><td>71</td><td>2025-10-17T14:10:46.120Z</td></tr><tr><td>72</td><td>2025-10-17T14:10:46.122Z</td></tr><tr><td>73</td><td>2025-10-17T14:10:46.124Z</td></tr><tr><td>74</td><td>2025-10-17T14:10:46.126Z</td></tr><tr><td>75</td><td>2025-10-17T14:10:46.128Z</td></tr><tr><td>76</td><td>2025-10-17T14:10:46.130Z</td></tr><tr><td>77</td><td>2025-10-17T14:10:46.132Z</td></tr><tr><td>78</td><td>2025-10-17T14:10:46.134Z</td></tr><tr><td>79</td><td>2025-10-17T14:10:46.136Z</td></tr><tr><td>80</td><td>2025-10-17T14:10:46.138Z</td></tr><tr><td>81</td><td>2025-10-17T14:10:46.140Z</td></tr><tr><td>82</td><td>2025-10-17T14:10:46.142Z</td></tr><tr><td>83</td><td>2025-10-17T14:10:46.144Z</td></tr><tr><td>84</td><td>2025-10-17T14:10:46.146Z</td></tr><tr><td>85</td><td>2025-10-17T14:10:46.148Z</td></tr><tr><td>86</td><td>2025-10-17T14:10:46.150Z</td></tr><tr><td>87</td><td>2025-10-17T14:10:46.152Z</td></tr><tr><td>88</td><td>2025-10-17T14:10:46.154Z</td></tr><tr><td>89</td><td>2025-10-17T14:10:46.156Z</td></tr><tr><td>90</td><td>2025-10-17T14:10:46.158Z</td></tr><tr><td>91</td><td>2025-10-17T14:10:46.160Z</td></tr><tr><td>92</td><td>2025-10-17T14:10:46.162Z</td></tr><tr><td>93</td><td>2025-10-17T14:10:46.164Z</td></tr><tr><td>94</td><td>2025-10-17T14:10:46.166Z</td></tr><tr><td>95</td><td>2025-10-17T14:10:46.168Z</td></tr><tr><td>96</td><td>2025-10-17T14:10:46.170Z</td></tr><tr><td>97</td><td>2025-10-17T14:10:46.172Z</td></tr><tr><td>98</td><td>2025-10-17T14:10:46.174Z</td></tr><tr><td>99</td><td>2025-10-17T14:10:46.176Z</td></tr><tr><td>100</td><td>2025-10-17T14:10:46.178Z</td></tr><tr><td>101</td><td>2025-10-17T14:10:46.180Z</td></tr><tr><td>102</td><td>2025-10-17T14:10:46.182Z</td></tr><tr><td>103</td><td>2025-10-17T14:10:46.184Z</td></tr><tr><td>104</td><td>2025-10-17T14:10:46.186Z</td></tr><tr><td>105</td><td>2025-10-17T14:10:46.188Z</td></tr><tr><td>106</td><td>2025-10-17T14:10:46.190Z</td></tr><tr><td>107</td><td>2025-10-17T14:10:46.192Z</td></tr><tr><td>108</td><td>2025-10-17T14:10:46.194Z</td></tr><tr><td>109</td><td>2025-10-17T14:10:46.196Z</td></tr><tr><td>110</td><td>2025-10-17T14:10:46.198Z</td></tr><tr><td>111</td><td>2025-10-17T14:10:46.200Z</td></tr><tr><td>112</td><td>2025-10-17T14:10:46.202Z</td></tr><tr><td>113</td><td>2025-10-17T14:10:46.204Z</td></tr><tr><td>114</td><td>2025-10-17T14:10:46.206Z</td></tr><tr><td>115</td><td>2025-10-17T14:10:46.208Z</td></tr><tr><td>116</td><td>2025-10-17T14:10:46.210Z</td></tr><tr><td>117</td><td>2025-10-17T14:10:46.212Z</td></tr><tr><td>118</td><td>2025-10-17T14:10:46.214Z</td></tr><tr><td>119</td><td>2025-10-17T14:10:46.216Z</td></tr><tr><td>120</td><td>2025-10-17T14:10:46.218Z</td></tr><tr><td>121</td><td>2025-10-17T14:10:46.220Z</td></tr><tr><td>122</td><td>2025-10-17T14:10:46.222Z</td></tr><tr><td>123</td><td>2025-10-17T14:10:46.224Z</td></tr><tr><td>124</td><td>2025-10-17T14:10:46.226Z</td></tr><tr><td>125</td><td>2025-10-17T14:10:46.228Z</td></tr><tr><td>126</td><td>2025-10-17T14:10:46.230Z</td></tr><tr><td>127</td><td>2025-10-17T14:10:46.232Z</td></tr><tr><td>128</td><td>2025-10-17T14:10:46.234Z</td></tr><tr><td>129</td><td>2025-10-17T14:10:46.236Z</td></tr><tr><td>130</td><td>2025-10-17T14:10:46.238Z</td></tr><tr><td>131</td><td>2025-10-17T14:10:46.240Z</td></tr><tr><td>132</td><td>2025-10-17T14:10:46.242Z</td></tr><tr><td>133</td><td>2025-10-17T14:10:46.244Z</td></tr><tr><td>134</td><td>2025-10-17T14:10:46.246Z</td></tr><tr><td>135</td><td>2025-10-17T14:10:46.248Z</td></tr><tr><td>136</td><td>2025-10-17T14:10:46.250Z</td></tr><tr><td>137</td><td>2025-10-17T14:10:46.252Z</td></tr><tr><td>138</td><td>2025-10-17T14:10:46.254Z</td></tr><tr><td>139</td><td>2025-10-17T14:10:46.256Z</td></tr><tr><td>140</td><td>2025-10-17T14:10:46.258Z</td></tr><tr><td>141</td><td>2025-10-17T14:10:46.260Z</td></tr><tr><td>142</td><td>2025-10-17T14:10:46.262Z</td></tr><tr><td>143</td><td>2025-10-17T14:10:46.264Z</td></tr><tr><td>144</td><td>2025-10-17T14:10:46.266Z</td></tr><tr><td>145</td><td>2025-10-17T14:10:46.268Z</td></tr><tr><td>146</td><td>2025-10-17T14:10:46.270Z</td></tr><tr><td>147</td><td>2025-10-17T14:10:46.272Z</td></tr><tr><td>148</td><td>2025-10-17T14:10:46.274Z</td></tr><tr><td>149</td><td>2025-10-17T14:10:46.276Z</td></tr><tr><td>150</td><td>2025-10-17T14:10:46.278Z</td></tr><tr><td>151</td><td>2025-10-17T14:10:46.280Z</td></tr><tr><td>152</td><td>2025-10-17T14:10:46.282Z</td></tr><tr><td>153</td><td>2025-10-17T14:10:46.284Z</td></tr><tr><td>154</td><td>2025-10-17T14:10:46.286Z</td></tr><tr><td>155</td><td>2025-10-17T14:10:46.288Z</td></tr><tr><td>156</td><td>2025-10-17T14:10:46.290Z</td></tr><tr><td>157</td><td>2025-10-17T14:10:46.292Z</td></tr><tr><td>158</td><td>2025-10-17T14:10:46.294Z</td></tr><tr><td>159</td><td>2025-10-17T14:10:46.296Z</td></tr><tr><td>160</td><td>2025-10-17T14:10:46.298Z</td></tr><tr><td>161</td><td>2025-10-17T14:10:46.300Z</td></tr><tr><td>162</td><td>2025-10-17T14:10:46.302Z</td></tr><tr><td>163</td><td>2025-10-17T14:10:46.304Z</td></tr><tr><td>164</td><td>2025-10-17T14:10:46.306Z</td></tr><tr><td>165</td><td>2025-10-17T14:10:46.308Z</td></tr><tr><td>166</td><td>2025-10-17T14:10:46.310Z</td></tr><tr><td>167</td><td>2025-10-17T14:10:46.312Z</td></tr><tr><td>168</td><td>2025-10-17T14:10:46.314Z</td></tr><tr><td>169</td><td>2025-10-17T14:10:46.316Z</td></tr><tr><td>170</td><td>2025-10-17T14:10:46.318Z</td></tr><tr><td>171</td><td>2025-10-17T14:10:46.320Z</td></tr><tr><td>172</td><td>2025-10-17T14:10:46.322Z</td></tr><tr><td>173</td><td>2025-10-17T14:10:46.324Z</td></tr><tr><td>174</td><td>2025-10-17T14:10:46.326Z</td></tr><tr><td>175</td><td>2025-10-17T14:10:46.328Z</td></tr><tr><td>176</td><td>2025-10-17T14:10:46.330Z</td></tr><tr><td>177</td><td>2025-10-17T14:10:46.332Z</td></tr><tr><td>178</td><td>2025-10-17T14:10:46.334Z</td></tr><tr><td>179</td><td>2025-10-17T14:10:46.336Z</td></tr><tr><td>180</td><td>2025-10-17T14:10:46.338Z</td></tr><tr><td>181</td><td>2025-10-17T14:10:46.340Z</td></tr><tr><td>182</td><td>2025-10-17T14:10:46.342Z</td></tr><tr><td>183</td><td>2025-10-17T14:10:46.344Z</td></tr><tr><td>184</td><td>2025-10-17T14:10:46.346Z</td></tr><tr><td>185</td><td>2025-10-17T14:10:46.348Z</td></tr></tbody></table></div>"
      ]
     },
     "metadata": {
      "application/vnd.databricks.v1+output": {
       "addedWidgets": {},
       "aggData": [],
       "aggError": "",
       "aggOverflow": false,
       "aggSchema": [],
       "aggSeriesLimitReached": false,
       "aggType": "",
       "arguments": {},
       "columnCustomDisplayInfos": {},
       "data": [
        [
         0,
         "2025-10-17T14:10:45.978Z"
        ],
        [
         1,
         "2025-10-17T14:10:45.980Z"
        ],
        [
         2,
         "2025-10-17T14:10:45.982Z"
        ],
        [
         3,
         "2025-10-17T14:10:45.984Z"
        ],
        [
         4,
         "2025-10-17T14:10:45.986Z"
        ],
        [
         5,
         "2025-10-17T14:10:45.988Z"
        ],
        [
         6,
         "2025-10-17T14:10:45.990Z"
        ],
        [
         7,
         "2025-10-17T14:10:45.992Z"
        ],
        [
         8,
         "2025-10-17T14:10:45.994Z"
        ],
        [
         9,
         "2025-10-17T14:10:45.996Z"
        ],
        [
         10,
         "2025-10-17T14:10:45.998Z"
        ],
        [
         11,
         "2025-10-17T14:10:46.000Z"
        ],
        [
         12,
         "2025-10-17T14:10:46.002Z"
        ],
        [
         13,
         "2025-10-17T14:10:46.004Z"
        ],
        [
         14,
         "2025-10-17T14:10:46.006Z"
        ],
        [
         15,
         "2025-10-17T14:10:46.008Z"
        ],
        [
         16,
         "2025-10-17T14:10:46.010Z"
        ],
        [
         17,
         "2025-10-17T14:10:46.012Z"
        ],
        [
         18,
         "2025-10-17T14:10:46.014Z"
        ],
        [
         19,
         "2025-10-17T14:10:46.016Z"
        ],
        [
         20,
         "2025-10-17T14:10:46.018Z"
        ],
        [
         21,
         "2025-10-17T14:10:46.020Z"
        ],
        [
         22,
         "2025-10-17T14:10:46.022Z"
        ],
        [
         23,
         "2025-10-17T14:10:46.024Z"
        ],
        [
         24,
         "2025-10-17T14:10:46.026Z"
        ],
        [
         25,
         "2025-10-17T14:10:46.028Z"
        ],
        [
         26,
         "2025-10-17T14:10:46.030Z"
        ],
        [
         27,
         "2025-10-17T14:10:46.032Z"
        ],
        [
         28,
         "2025-10-17T14:10:46.034Z"
        ],
        [
         29,
         "2025-10-17T14:10:46.036Z"
        ],
        [
         30,
         "2025-10-17T14:10:46.038Z"
        ],
        [
         31,
         "2025-10-17T14:10:46.040Z"
        ],
        [
         32,
         "2025-10-17T14:10:46.042Z"
        ],
        [
         33,
         "2025-10-17T14:10:46.044Z"
        ],
        [
         34,
         "2025-10-17T14:10:46.046Z"
        ],
        [
         35,
         "2025-10-17T14:10:46.048Z"
        ],
        [
         36,
         "2025-10-17T14:10:46.050Z"
        ],
        [
         37,
         "2025-10-17T14:10:46.052Z"
        ],
        [
         38,
         "2025-10-17T14:10:46.054Z"
        ],
        [
         39,
         "2025-10-17T14:10:46.056Z"
        ],
        [
         40,
         "2025-10-17T14:10:46.058Z"
        ],
        [
         41,
         "2025-10-17T14:10:46.060Z"
        ],
        [
         42,
         "2025-10-17T14:10:46.062Z"
        ],
        [
         43,
         "2025-10-17T14:10:46.064Z"
        ],
        [
         44,
         "2025-10-17T14:10:46.066Z"
        ],
        [
         45,
         "2025-10-17T14:10:46.068Z"
        ],
        [
         46,
         "2025-10-17T14:10:46.070Z"
        ],
        [
         47,
         "2025-10-17T14:10:46.072Z"
        ],
        [
         48,
         "2025-10-17T14:10:46.074Z"
        ],
        [
         49,
         "2025-10-17T14:10:46.076Z"
        ],
        [
         50,
         "2025-10-17T14:10:46.078Z"
        ],
        [
         51,
         "2025-10-17T14:10:46.080Z"
        ],
        [
         52,
         "2025-10-17T14:10:46.082Z"
        ],
        [
         53,
         "2025-10-17T14:10:46.084Z"
        ],
        [
         54,
         "2025-10-17T14:10:46.086Z"
        ],
        [
         55,
         "2025-10-17T14:10:46.088Z"
        ],
        [
         56,
         "2025-10-17T14:10:46.090Z"
        ],
        [
         57,
         "2025-10-17T14:10:46.092Z"
        ],
        [
         58,
         "2025-10-17T14:10:46.094Z"
        ],
        [
         59,
         "2025-10-17T14:10:46.096Z"
        ],
        [
         60,
         "2025-10-17T14:10:46.098Z"
        ],
        [
         61,
         "2025-10-17T14:10:46.100Z"
        ],
        [
         62,
         "2025-10-17T14:10:46.102Z"
        ],
        [
         63,
         "2025-10-17T14:10:46.104Z"
        ],
        [
         64,
         "2025-10-17T14:10:46.106Z"
        ],
        [
         65,
         "2025-10-17T14:10:46.108Z"
        ],
        [
         66,
         "2025-10-17T14:10:46.110Z"
        ],
        [
         67,
         "2025-10-17T14:10:46.112Z"
        ],
        [
         68,
         "2025-10-17T14:10:46.114Z"
        ],
        [
         69,
         "2025-10-17T14:10:46.116Z"
        ],
        [
         70,
         "2025-10-17T14:10:46.118Z"
        ],
        [
         71,
         "2025-10-17T14:10:46.120Z"
        ],
        [
         72,
         "2025-10-17T14:10:46.122Z"
        ],
        [
         73,
         "2025-10-17T14:10:46.124Z"
        ],
        [
         74,
         "2025-10-17T14:10:46.126Z"
        ],
        [
         75,
         "2025-10-17T14:10:46.128Z"
        ],
        [
         76,
         "2025-10-17T14:10:46.130Z"
        ],
        [
         77,
         "2025-10-17T14:10:46.132Z"
        ],
        [
         78,
         "2025-10-17T14:10:46.134Z"
        ],
        [
         79,
         "2025-10-17T14:10:46.136Z"
        ],
        [
         80,
         "2025-10-17T14:10:46.138Z"
        ],
        [
         81,
         "2025-10-17T14:10:46.140Z"
        ],
        [
         82,
         "2025-10-17T14:10:46.142Z"
        ],
        [
         83,
         "2025-10-17T14:10:46.144Z"
        ],
        [
         84,
         "2025-10-17T14:10:46.146Z"
        ],
        [
         85,
         "2025-10-17T14:10:46.148Z"
        ],
        [
         86,
         "2025-10-17T14:10:46.150Z"
        ],
        [
         87,
         "2025-10-17T14:10:46.152Z"
        ],
        [
         88,
         "2025-10-17T14:10:46.154Z"
        ],
        [
         89,
         "2025-10-17T14:10:46.156Z"
        ],
        [
         90,
         "2025-10-17T14:10:46.158Z"
        ],
        [
         91,
         "2025-10-17T14:10:46.160Z"
        ],
        [
         92,
         "2025-10-17T14:10:46.162Z"
        ],
        [
         93,
         "2025-10-17T14:10:46.164Z"
        ],
        [
         94,
         "2025-10-17T14:10:46.166Z"
        ],
        [
         95,
         "2025-10-17T14:10:46.168Z"
        ],
        [
         96,
         "2025-10-17T14:10:46.170Z"
        ],
        [
         97,
         "2025-10-17T14:10:46.172Z"
        ],
        [
         98,
         "2025-10-17T14:10:46.174Z"
        ],
        [
         99,
         "2025-10-17T14:10:46.176Z"
        ],
        [
         100,
         "2025-10-17T14:10:46.178Z"
        ],
        [
         101,
         "2025-10-17T14:10:46.180Z"
        ],
        [
         102,
         "2025-10-17T14:10:46.182Z"
        ],
        [
         103,
         "2025-10-17T14:10:46.184Z"
        ],
        [
         104,
         "2025-10-17T14:10:46.186Z"
        ],
        [
         105,
         "2025-10-17T14:10:46.188Z"
        ],
        [
         106,
         "2025-10-17T14:10:46.190Z"
        ],
        [
         107,
         "2025-10-17T14:10:46.192Z"
        ],
        [
         108,
         "2025-10-17T14:10:46.194Z"
        ],
        [
         109,
         "2025-10-17T14:10:46.196Z"
        ],
        [
         110,
         "2025-10-17T14:10:46.198Z"
        ],
        [
         111,
         "2025-10-17T14:10:46.200Z"
        ],
        [
         112,
         "2025-10-17T14:10:46.202Z"
        ],
        [
         113,
         "2025-10-17T14:10:46.204Z"
        ],
        [
         114,
         "2025-10-17T14:10:46.206Z"
        ],
        [
         115,
         "2025-10-17T14:10:46.208Z"
        ],
        [
         116,
         "2025-10-17T14:10:46.210Z"
        ],
        [
         117,
         "2025-10-17T14:10:46.212Z"
        ],
        [
         118,
         "2025-10-17T14:10:46.214Z"
        ],
        [
         119,
         "2025-10-17T14:10:46.216Z"
        ],
        [
         120,
         "2025-10-17T14:10:46.218Z"
        ],
        [
         121,
         "2025-10-17T14:10:46.220Z"
        ],
        [
         122,
         "2025-10-17T14:10:46.222Z"
        ],
        [
         123,
         "2025-10-17T14:10:46.224Z"
        ],
        [
         124,
         "2025-10-17T14:10:46.226Z"
        ],
        [
         125,
         "2025-10-17T14:10:46.228Z"
        ],
        [
         126,
         "2025-10-17T14:10:46.230Z"
        ],
        [
         127,
         "2025-10-17T14:10:46.232Z"
        ],
        [
         128,
         "2025-10-17T14:10:46.234Z"
        ],
        [
         129,
         "2025-10-17T14:10:46.236Z"
        ],
        [
         130,
         "2025-10-17T14:10:46.238Z"
        ],
        [
         131,
         "2025-10-17T14:10:46.240Z"
        ],
        [
         132,
         "2025-10-17T14:10:46.242Z"
        ],
        [
         133,
         "2025-10-17T14:10:46.244Z"
        ],
        [
         134,
         "2025-10-17T14:10:46.246Z"
        ],
        [
         135,
         "2025-10-17T14:10:46.248Z"
        ],
        [
         136,
         "2025-10-17T14:10:46.250Z"
        ],
        [
         137,
         "2025-10-17T14:10:46.252Z"
        ],
        [
         138,
         "2025-10-17T14:10:46.254Z"
        ],
        [
         139,
         "2025-10-17T14:10:46.256Z"
        ],
        [
         140,
         "2025-10-17T14:10:46.258Z"
        ],
        [
         141,
         "2025-10-17T14:10:46.260Z"
        ],
        [
         142,
         "2025-10-17T14:10:46.262Z"
        ],
        [
         143,
         "2025-10-17T14:10:46.264Z"
        ],
        [
         144,
         "2025-10-17T14:10:46.266Z"
        ],
        [
         145,
         "2025-10-17T14:10:46.268Z"
        ],
        [
         146,
         "2025-10-17T14:10:46.270Z"
        ],
        [
         147,
         "2025-10-17T14:10:46.272Z"
        ],
        [
         148,
         "2025-10-17T14:10:46.274Z"
        ],
        [
         149,
         "2025-10-17T14:10:46.276Z"
        ],
        [
         150,
         "2025-10-17T14:10:46.278Z"
        ],
        [
         151,
         "2025-10-17T14:10:46.280Z"
        ],
        [
         152,
         "2025-10-17T14:10:46.282Z"
        ],
        [
         153,
         "2025-10-17T14:10:46.284Z"
        ],
        [
         154,
         "2025-10-17T14:10:46.286Z"
        ],
        [
         155,
         "2025-10-17T14:10:46.288Z"
        ],
        [
         156,
         "2025-10-17T14:10:46.290Z"
        ],
        [
         157,
         "2025-10-17T14:10:46.292Z"
        ],
        [
         158,
         "2025-10-17T14:10:46.294Z"
        ],
        [
         159,
         "2025-10-17T14:10:46.296Z"
        ],
        [
         160,
         "2025-10-17T14:10:46.298Z"
        ],
        [
         161,
         "2025-10-17T14:10:46.300Z"
        ],
        [
         162,
         "2025-10-17T14:10:46.302Z"
        ],
        [
         163,
         "2025-10-17T14:10:46.304Z"
        ],
        [
         164,
         "2025-10-17T14:10:46.306Z"
        ],
        [
         165,
         "2025-10-17T14:10:46.308Z"
        ],
        [
         166,
         "2025-10-17T14:10:46.310Z"
        ],
        [
         167,
         "2025-10-17T14:10:46.312Z"
        ],
        [
         168,
         "2025-10-17T14:10:46.314Z"
        ],
        [
         169,
         "2025-10-17T14:10:46.316Z"
        ],
        [
         170,
         "2025-10-17T14:10:46.318Z"
        ],
        [
         171,
         "2025-10-17T14:10:46.320Z"
        ],
        [
         172,
         "2025-10-17T14:10:46.322Z"
        ],
        [
         173,
         "2025-10-17T14:10:46.324Z"
        ],
        [
         174,
         "2025-10-17T14:10:46.326Z"
        ],
        [
         175,
         "2025-10-17T14:10:46.328Z"
        ],
        [
         176,
         "2025-10-17T14:10:46.330Z"
        ],
        [
         177,
         "2025-10-17T14:10:46.332Z"
        ],
        [
         178,
         "2025-10-17T14:10:46.334Z"
        ],
        [
         179,
         "2025-10-17T14:10:46.336Z"
        ],
        [
         180,
         "2025-10-17T14:10:46.338Z"
        ],
        [
         181,
         "2025-10-17T14:10:46.340Z"
        ],
        [
         182,
         "2025-10-17T14:10:46.342Z"
        ],
        [
         183,
         "2025-10-17T14:10:46.344Z"
        ],
        [
         184,
         "2025-10-17T14:10:46.346Z"
        ],
        [
         185,
         "2025-10-17T14:10:46.348Z"
        ]
       ],
       "datasetInfos": [],
       "dbfsResultPath": null,
       "isJsonSchema": true,
       "metadata": {
        "isDbfsCommandResult": false
       },
       "overflow": false,
       "plotOptions": {
        "customPlotOptions": {},
        "displayType": "table",
        "pivotAggregation": null,
        "pivotColumns": null,
        "xColumns": null,
        "yColumns": null
       },
       "removedWidgets": [],
       "schema": [
        {
         "metadata": "{}",
         "name": "adId",
         "type": "\"long\""
        },
        {
         "metadata": "{}",
         "name": "impressionTime",
         "type": "\"timestamp\""
        }
       ],
       "type": "table"
      }
     },
     "output_type": "display_data"
    }
   ],
   "source": [
    "display(impressions, streamName=\"impressions\")\n"
   ]
  },
  {
   "cell_type": "code",
   "execution_count": 0,
   "metadata": {
    "application/vnd.databricks.v1+cell": {
     "cellMetadata": {
      "byteLimit": 2048000,
      "rowLimit": 10000
     },
     "inputWidgets": {},
     "nuid": "24a26dca-0523-461f-9f69-d53c5ee080c2",
     "showTitle": false,
     "tableResultSettingsMap": {},
     "title": ""
    }
   },
   "outputs": [
    {
     "output_type": "display_data",
     "data": {
      "text/html": [
       "<style scoped>\n",
       "  .table-result-container {\n",
       "    max-height: 300px;\n",
       "    overflow: auto;\n",
       "  }\n",
       "  table, th, td {\n",
       "    border: 1px solid black;\n",
       "    border-collapse: collapse;\n",
       "  }\n",
       "  th, td {\n",
       "    padding: 5px;\n",
       "  }\n",
       "  th {\n",
       "    text-align: left;\n",
       "  }\n",
       "</style><div class='table-result-container'><table class='table-result'><thead style='background-color: white'><tr><th>adId</th><th>clickTime</th></tr></thead><tbody><tr><td>17</td><td>2025-10-17T14:10:50.723Z</td></tr><tr><td>51</td><td>2025-10-17T14:10:50.791Z</td></tr><tr><td>55</td><td>2025-10-17T14:10:50.799Z</td></tr><tr><td>56</td><td>2025-10-17T14:10:50.801Z</td></tr><tr><td>60</td><td>2025-10-17T14:10:50.809Z</td></tr><tr><td>77</td><td>2025-10-17T14:10:50.843Z</td></tr><tr><td>81</td><td>2025-10-17T14:10:50.851Z</td></tr><tr><td>102</td><td>2025-10-17T14:10:50.893Z</td></tr><tr><td>127</td><td>2025-10-17T14:10:50.943Z</td></tr><tr><td>132</td><td>2025-10-17T14:10:50.953Z</td></tr><tr><td>147</td><td>2025-10-17T14:10:50.983Z</td></tr></tbody></table></div>"
      ]
     },
     "metadata": {
      "application/vnd.databricks.v1+output": {
       "addedWidgets": {},
       "aggData": [],
       "aggError": "",
       "aggOverflow": false,
       "aggSchema": [],
       "aggSeriesLimitReached": false,
       "aggType": "",
       "arguments": {},
       "columnCustomDisplayInfos": {},
       "data": [
        [
         17,
         "2025-10-17T14:10:50.723Z"
        ],
        [
         51,
         "2025-10-17T14:10:50.791Z"
        ],
        [
         55,
         "2025-10-17T14:10:50.799Z"
        ],
        [
         56,
         "2025-10-17T14:10:50.801Z"
        ],
        [
         60,
         "2025-10-17T14:10:50.809Z"
        ],
        [
         77,
         "2025-10-17T14:10:50.843Z"
        ],
        [
         81,
         "2025-10-17T14:10:50.851Z"
        ],
        [
         102,
         "2025-10-17T14:10:50.893Z"
        ],
        [
         127,
         "2025-10-17T14:10:50.943Z"
        ],
        [
         132,
         "2025-10-17T14:10:50.953Z"
        ],
        [
         147,
         "2025-10-17T14:10:50.983Z"
        ]
       ],
       "datasetInfos": [],
       "dbfsResultPath": null,
       "isJsonSchema": true,
       "metadata": {
        "isDbfsCommandResult": false
       },
       "overflow": false,
       "plotOptions": {
        "customPlotOptions": {},
        "displayType": "table",
        "pivotAggregation": null,
        "pivotColumns": null,
        "xColumns": null,
        "yColumns": null
       },
       "removedWidgets": [],
       "schema": [
        {
         "metadata": "{}",
         "name": "adId",
         "type": "\"long\""
        },
        {
         "metadata": "{}",
         "name": "clickTime",
         "type": "\"timestamp\""
        }
       ],
       "type": "table"
      }
     },
     "output_type": "display_data"
    }
   ],
   "source": [
    "display(clicks, streamName=\"clicks\")"
   ]
  },
  {
   "cell_type": "markdown",
   "metadata": {
    "application/vnd.databricks.v1+cell": {
     "cellMetadata": {},
     "inputWidgets": {},
     "nuid": "39ad4df1-75a3-4abd-8889-965b2f59d2d6",
     "showTitle": false,
     "tableResultSettingsMap": {},
     "title": ""
    }
   },
   "source": [
    "## Stream Inner Join without Watermark\n",
    "\n",
    "This is the same as joining two batcg DataFrames"
   ]
  },
  {
   "cell_type": "code",
   "execution_count": 0,
   "metadata": {
    "application/vnd.databricks.v1+cell": {
     "cellMetadata": {
      "byteLimit": 2048000,
      "rowLimit": 10000
     },
     "inputWidgets": {},
     "nuid": "50ed43f3-1667-424f-a13d-47852307b150",
     "showTitle": false,
     "tableResultSettingsMap": {},
     "title": ""
    }
   },
   "outputs": [
    {
     "output_type": "display_data",
     "data": {
      "text/html": [
       "<style scoped>\n",
       "  .table-result-container {\n",
       "    max-height: 300px;\n",
       "    overflow: auto;\n",
       "  }\n",
       "  table, th, td {\n",
       "    border: 1px solid black;\n",
       "    border-collapse: collapse;\n",
       "  }\n",
       "  th, td {\n",
       "    padding: 5px;\n",
       "  }\n",
       "  th {\n",
       "    text-align: left;\n",
       "  }\n",
       "</style><div class='table-result-container'><table class='table-result'><thead style='background-color: white'><tr><th>adId</th><th>impressionTime</th><th>clickTime</th></tr></thead><tbody><tr><td>92</td><td>2025-10-17T13:57:09.668Z</td><td>2025-10-17T13:57:10.028Z</td></tr><tr><td>78</td><td>2025-10-17T13:57:09.640Z</td><td>2025-10-17T13:57:10.000Z</td></tr><tr><td>20</td><td>2025-10-17T13:57:09.524Z</td><td>2025-10-17T13:57:09.884Z</td></tr><tr><td>70</td><td>2025-10-17T13:57:09.624Z</td><td>2025-10-17T13:57:09.984Z</td></tr><tr><td>99</td><td>2025-10-17T13:57:09.682Z</td><td>2025-10-17T13:57:10.042Z</td></tr><tr><td>40</td><td>2025-10-17T13:57:09.564Z</td><td>2025-10-17T13:57:09.924Z</td></tr><tr><td>53</td><td>2025-10-17T13:57:09.590Z</td><td>2025-10-17T13:57:09.950Z</td></tr></tbody></table></div>"
      ]
     },
     "metadata": {
      "application/vnd.databricks.v1+output": {
       "addedWidgets": {},
       "aggData": [],
       "aggError": "",
       "aggOverflow": false,
       "aggSchema": [],
       "aggSeriesLimitReached": false,
       "aggType": "",
       "arguments": {},
       "columnCustomDisplayInfos": {},
       "data": [
        [
         92,
         "2025-10-17T13:57:09.668Z",
         "2025-10-17T13:57:10.028Z"
        ],
        [
         78,
         "2025-10-17T13:57:09.640Z",
         "2025-10-17T13:57:10.000Z"
        ],
        [
         20,
         "2025-10-17T13:57:09.524Z",
         "2025-10-17T13:57:09.884Z"
        ],
        [
         70,
         "2025-10-17T13:57:09.624Z",
         "2025-10-17T13:57:09.984Z"
        ],
        [
         99,
         "2025-10-17T13:57:09.682Z",
         "2025-10-17T13:57:10.042Z"
        ],
        [
         40,
         "2025-10-17T13:57:09.564Z",
         "2025-10-17T13:57:09.924Z"
        ],
        [
         53,
         "2025-10-17T13:57:09.590Z",
         "2025-10-17T13:57:09.950Z"
        ]
       ],
       "datasetInfos": [],
       "dbfsResultPath": null,
       "isJsonSchema": true,
       "metadata": {
        "isDbfsCommandResult": false
       },
       "overflow": false,
       "plotOptions": {
        "customPlotOptions": {},
        "displayType": "table",
        "pivotAggregation": null,
        "pivotColumns": null,
        "xColumns": null,
        "yColumns": null
       },
       "removedWidgets": [],
       "schema": [
        {
         "metadata": "{}",
         "name": "adId",
         "type": "\"long\""
        },
        {
         "metadata": "{}",
         "name": "impressionTime",
         "type": "\"timestamp\""
        },
        {
         "metadata": "{}",
         "name": "clickTime",
         "type": "\"timestamp\""
        }
       ],
       "type": "table"
      }
     },
     "output_type": "display_data"
    }
   ],
   "source": [
    "display(impressions.join(clicks, \"adId\"), strealmName=\"joined\")"
   ]
  },
  {
   "cell_type": "markdown",
   "metadata": {
    "application/vnd.databricks.v1+cell": {
     "cellMetadata": {},
     "inputWidgets": {},
     "nuid": "2cd25f44-5716-472a-8a3d-9343a613794e",
     "showTitle": false,
     "tableResultSettingsMap": {},
     "title": ""
    }
   },
   "source": [
    "## Stream Inner join with watermarking\n",
    "\n",
    "To avoid unbounded state, you have to define additional join conditions such that indefinitely old inputs cannot match with future inputs and therefore can be cleared from the state."
   ]
  },
  {
   "cell_type": "code",
   "execution_count": 0,
   "metadata": {
    "application/vnd.databricks.v1+cell": {
     "cellMetadata": {
      "byteLimit": 2048000,
      "rowLimit": 10000
     },
     "inputWidgets": {},
     "nuid": "600d4faa-b7c0-4da1-a38f-9016467f86f6",
     "showTitle": false,
     "tableResultSettingsMap": {},
     "title": ""
    }
   },
   "outputs": [],
   "source": [
    "from pyspark.sql.functions import expr\n",
    "\n",
    "# Define watermarks\n",
    "impressionsWithWatermark = (impressions\n",
    "                            .selectExpr(\"adId AS impressionAdId\", \"impressionTime\")\n",
    "                            .withWatermark(\"impressionTime\", \"10 seconds\"))\n",
    "\n",
    "clicksWithWatermark = (clicks\n",
    "                      .selectExpr(\"adId AS clickAdId\", \"clickTime\")\n",
    "                      .withWatermark(\"clickTime\", \"20 seconds\"))"
   ]
  },
  {
   "cell_type": "code",
   "execution_count": 0,
   "metadata": {
    "application/vnd.databricks.v1+cell": {
     "cellMetadata": {
      "byteLimit": 2048000,
      "rowLimit": 10000
     },
     "inputWidgets": {},
     "nuid": "75994dff-330e-489d-9592-4918b05fa62f",
     "showTitle": false,
     "tableResultSettingsMap": {},
     "title": ""
    }
   },
   "outputs": [
    {
     "output_type": "display_data",
     "data": {
      "text/html": [
       "<style scoped>\n",
       "  .table-result-container {\n",
       "    max-height: 300px;\n",
       "    overflow: auto;\n",
       "  }\n",
       "  table, th, td {\n",
       "    border: 1px solid black;\n",
       "    border-collapse: collapse;\n",
       "  }\n",
       "  th, td {\n",
       "    padding: 5px;\n",
       "  }\n",
       "  th {\n",
       "    text-align: left;\n",
       "  }\n",
       "</style><div class='table-result-container'><table class='table-result'><thead style='background-color: white'><tr><th>impressionAdId</th><th>impressionTime</th><th>clickAdId</th><th>clickTime</th></tr></thead><tbody><tr><td>94</td><td>2025-10-17T14:10:09.638Z</td><td>94</td><td>2025-10-17T14:10:09.944Z</td></tr><tr><td>39</td><td>2025-10-17T14:10:09.528Z</td><td>39</td><td>2025-10-17T14:10:09.834Z</td></tr><tr><td>71</td><td>2025-10-17T14:10:09.592Z</td><td>71</td><td>2025-10-17T14:10:09.898Z</td></tr><tr><td>6</td><td>2025-10-17T14:10:09.462Z</td><td>6</td><td>2025-10-17T14:10:09.768Z</td></tr><tr><td>58</td><td>2025-10-17T14:10:09.566Z</td><td>58</td><td>2025-10-17T14:10:09.872Z</td></tr><tr><td>79</td><td>2025-10-17T14:10:09.608Z</td><td>79</td><td>2025-10-17T14:10:09.914Z</td></tr><tr><td>33</td><td>2025-10-17T14:10:09.516Z</td><td>33</td><td>2025-10-17T14:10:09.822Z</td></tr><tr><td>12</td><td>2025-10-17T14:10:09.474Z</td><td>12</td><td>2025-10-17T14:10:09.780Z</td></tr><tr><td>49</td><td>2025-10-17T14:10:09.548Z</td><td>49</td><td>2025-10-17T14:10:09.854Z</td></tr><tr><td>35</td><td>2025-10-17T14:10:09.520Z</td><td>35</td><td>2025-10-17T14:10:09.826Z</td></tr><tr><td>91</td><td>2025-10-17T14:10:09.632Z</td><td>91</td><td>2025-10-17T14:10:09.938Z</td></tr><tr><td>81</td><td>2025-10-17T14:10:09.612Z</td><td>81</td><td>2025-10-17T14:10:09.918Z</td></tr></tbody></table></div>"
      ]
     },
     "metadata": {
      "application/vnd.databricks.v1+output": {
       "addedWidgets": {},
       "aggData": [],
       "aggError": "",
       "aggOverflow": false,
       "aggSchema": [],
       "aggSeriesLimitReached": false,
       "aggType": "",
       "arguments": {},
       "columnCustomDisplayInfos": {},
       "data": [
        [
         94,
         "2025-10-17T14:10:09.638Z",
         94,
         "2025-10-17T14:10:09.944Z"
        ],
        [
         39,
         "2025-10-17T14:10:09.528Z",
         39,
         "2025-10-17T14:10:09.834Z"
        ],
        [
         71,
         "2025-10-17T14:10:09.592Z",
         71,
         "2025-10-17T14:10:09.898Z"
        ],
        [
         6,
         "2025-10-17T14:10:09.462Z",
         6,
         "2025-10-17T14:10:09.768Z"
        ],
        [
         58,
         "2025-10-17T14:10:09.566Z",
         58,
         "2025-10-17T14:10:09.872Z"
        ],
        [
         79,
         "2025-10-17T14:10:09.608Z",
         79,
         "2025-10-17T14:10:09.914Z"
        ],
        [
         33,
         "2025-10-17T14:10:09.516Z",
         33,
         "2025-10-17T14:10:09.822Z"
        ],
        [
         12,
         "2025-10-17T14:10:09.474Z",
         12,
         "2025-10-17T14:10:09.780Z"
        ],
        [
         49,
         "2025-10-17T14:10:09.548Z",
         49,
         "2025-10-17T14:10:09.854Z"
        ],
        [
         35,
         "2025-10-17T14:10:09.520Z",
         35,
         "2025-10-17T14:10:09.826Z"
        ],
        [
         91,
         "2025-10-17T14:10:09.632Z",
         91,
         "2025-10-17T14:10:09.938Z"
        ],
        [
         81,
         "2025-10-17T14:10:09.612Z",
         81,
         "2025-10-17T14:10:09.918Z"
        ]
       ],
       "datasetInfos": [],
       "dbfsResultPath": null,
       "isJsonSchema": true,
       "metadata": {
        "isDbfsCommandResult": false
       },
       "overflow": false,
       "plotOptions": {
        "customPlotOptions": {},
        "displayType": "table",
        "pivotAggregation": null,
        "pivotColumns": null,
        "xColumns": null,
        "yColumns": null
       },
       "removedWidgets": [],
       "schema": [
        {
         "metadata": "{}",
         "name": "impressionAdId",
         "type": "\"long\""
        },
        {
         "metadata": "{\"spark.watermarkDelayMs\": 10000}",
         "name": "impressionTime",
         "type": "\"timestamp\""
        },
        {
         "metadata": "{}",
         "name": "clickAdId",
         "type": "\"long\""
        },
        {
         "metadata": "{\"spark.watermarkDelayMs\": 20000}",
         "name": "clickTime",
         "type": "\"timestamp\""
        }
       ],
       "type": "table"
      }
     },
     "output_type": "display_data"
    }
   ],
   "source": [
    "# Inner join with Watermark\n",
    "display(impressionsWithWatermark.join(\n",
    "    clicksWithWatermark,\n",
    "    expr(\"\"\" clickAdId = impressionAdId\"\"\")), streamName=\"innerJoinWithWatermark\")"
   ]
  },
  {
   "cell_type": "markdown",
   "metadata": {
    "application/vnd.databricks.v1+cell": {
     "cellMetadata": {},
     "inputWidgets": {},
     "nuid": "8c77516a-56c8-433e-ab1e-f59bfa6e0f12",
     "showTitle": false,
     "tableResultSettingsMap": {},
     "title": ""
    }
   },
   "source": [
    "## Stream Join with Watermark abd Event\n",
    "\n",
    "This will enable Structured Streaming to perform full state cleanup. For long-running stream processes."
   ]
  },
  {
   "cell_type": "code",
   "execution_count": 0,
   "metadata": {
    "application/vnd.databricks.v1+cell": {
     "cellMetadata": {
      "byteLimit": 2048000,
      "rowLimit": 10000
     },
     "inputWidgets": {},
     "nuid": "b010b334-26a5-49f4-be11-4ca179b9b465",
     "showTitle": false,
     "tableResultSettingsMap": {},
     "title": ""
    }
   },
   "outputs": [
    {
     "output_type": "display_data",
     "data": {
      "text/html": [
       "<style scoped>\n",
       "  .table-result-container {\n",
       "    max-height: 300px;\n",
       "    overflow: auto;\n",
       "  }\n",
       "  table, th, td {\n",
       "    border: 1px solid black;\n",
       "    border-collapse: collapse;\n",
       "  }\n",
       "  th, td {\n",
       "    padding: 5px;\n",
       "  }\n",
       "  th {\n",
       "    text-align: left;\n",
       "  }\n",
       "</style><div class='table-result-container'><table class='table-result'><thead style='background-color: white'><tr><th>impressionAdId</th><th>impressionTime</th><th>clickAdId</th><th>clickTime</th></tr></thead><tbody><tr><td>19</td><td>2025-10-17T14:16:56.723Z</td><td>19</td><td>2025-10-17T14:16:57.056Z</td></tr><tr><td>77</td><td>2025-10-17T14:16:56.839Z</td><td>77</td><td>2025-10-17T14:16:57.172Z</td></tr><tr><td>31</td><td>2025-10-17T14:16:56.747Z</td><td>31</td><td>2025-10-17T14:16:57.080Z</td></tr><tr><td>71</td><td>2025-10-17T14:16:56.827Z</td><td>71</td><td>2025-10-17T14:16:57.160Z</td></tr><tr><td>48</td><td>2025-10-17T14:16:56.781Z</td><td>48</td><td>2025-10-17T14:16:57.114Z</td></tr><tr><td>37</td><td>2025-10-17T14:16:56.759Z</td><td>37</td><td>2025-10-17T14:16:57.092Z</td></tr><tr><td>12</td><td>2025-10-17T14:16:56.709Z</td><td>12</td><td>2025-10-17T14:16:57.042Z</td></tr><tr><td>73</td><td>2025-10-17T14:16:56.831Z</td><td>73</td><td>2025-10-17T14:16:57.164Z</td></tr><tr><td>20</td><td>2025-10-17T14:16:56.725Z</td><td>20</td><td>2025-10-17T14:16:57.058Z</td></tr><tr><td>70</td><td>2025-10-17T14:16:56.825Z</td><td>70</td><td>2025-10-17T14:16:57.158Z</td></tr><tr><td>60</td><td>2025-10-17T14:16:56.805Z</td><td>60</td><td>2025-10-17T14:16:57.138Z</td></tr><tr><td>47</td><td>2025-10-17T14:16:56.779Z</td><td>47</td><td>2025-10-17T14:16:57.112Z</td></tr></tbody></table></div>"
      ]
     },
     "metadata": {
      "application/vnd.databricks.v1+output": {
       "addedWidgets": {},
       "aggData": [],
       "aggError": "",
       "aggOverflow": false,
       "aggSchema": [],
       "aggSeriesLimitReached": false,
       "aggType": "",
       "arguments": {},
       "columnCustomDisplayInfos": {},
       "data": [
        [
         19,
         "2025-10-17T14:16:56.723Z",
         19,
         "2025-10-17T14:16:57.056Z"
        ],
        [
         77,
         "2025-10-17T14:16:56.839Z",
         77,
         "2025-10-17T14:16:57.172Z"
        ],
        [
         31,
         "2025-10-17T14:16:56.747Z",
         31,
         "2025-10-17T14:16:57.080Z"
        ],
        [
         71,
         "2025-10-17T14:16:56.827Z",
         71,
         "2025-10-17T14:16:57.160Z"
        ],
        [
         48,
         "2025-10-17T14:16:56.781Z",
         48,
         "2025-10-17T14:16:57.114Z"
        ],
        [
         37,
         "2025-10-17T14:16:56.759Z",
         37,
         "2025-10-17T14:16:57.092Z"
        ],
        [
         12,
         "2025-10-17T14:16:56.709Z",
         12,
         "2025-10-17T14:16:57.042Z"
        ],
        [
         73,
         "2025-10-17T14:16:56.831Z",
         73,
         "2025-10-17T14:16:57.164Z"
        ],
        [
         20,
         "2025-10-17T14:16:56.725Z",
         20,
         "2025-10-17T14:16:57.058Z"
        ],
        [
         70,
         "2025-10-17T14:16:56.825Z",
         70,
         "2025-10-17T14:16:57.158Z"
        ],
        [
         60,
         "2025-10-17T14:16:56.805Z",
         60,
         "2025-10-17T14:16:57.138Z"
        ],
        [
         47,
         "2025-10-17T14:16:56.779Z",
         47,
         "2025-10-17T14:16:57.112Z"
        ]
       ],
       "datasetInfos": [],
       "dbfsResultPath": null,
       "isJsonSchema": true,
       "metadata": {
        "isDbfsCommandResult": false
       },
       "overflow": false,
       "plotOptions": {
        "customPlotOptions": {},
        "displayType": "table",
        "pivotAggregation": null,
        "pivotColumns": null,
        "xColumns": null,
        "yColumns": null
       },
       "removedWidgets": [],
       "schema": [
        {
         "metadata": "{}",
         "name": "impressionAdId",
         "type": "\"long\""
        },
        {
         "metadata": "{\"spark.watermarkDelayMs\": 10000}",
         "name": "impressionTime",
         "type": "\"timestamp\""
        },
        {
         "metadata": "{}",
         "name": "clickAdId",
         "type": "\"long\""
        },
        {
         "metadata": "{\"spark.watermarkDelayMs\": 20000}",
         "name": "clickTime",
         "type": "\"timestamp\""
        }
       ],
       "type": "table"
      }
     },
     "output_type": "display_data"
    }
   ],
   "source": [
    "# Inner join with watermark + time conditions. Required for full state cleanup\n",
    "display(impressionsWithWatermark.join(\n",
    "    clicksWithWatermark,\n",
    "    expr(\"\"\" clickAdId = impressionAdId AND\n",
    "         clickTime >= impressionTime AND\n",
    "         clickTime <= impressionTime + interval 10 seconds\"\"\")), streamName=\"innerJoinWithWatermarkAndTimeConditions\")"
   ]
  },
  {
   "cell_type": "code",
   "execution_count": 0,
   "metadata": {
    "application/vnd.databricks.v1+cell": {
     "cellMetadata": {
      "byteLimit": 2048000,
      "rowLimit": 10000
     },
     "inputWidgets": {},
     "nuid": "4f05cf00-ecc2-4a8a-9430-9845a7617b06",
     "showTitle": false,
     "tableResultSettingsMap": {},
     "title": ""
    }
   },
   "outputs": [],
   "source": [
    "for s in spark.streams.active:\n",
    "    print(s.name)\n",
    "    s.stop()"
   ]
  }
 ],
 "metadata": {
  "application/vnd.databricks.v1+notebook": {
   "computePreferences": null,
   "dashboards": [],
   "environmentMetadata": {
    "base_environment": "",
    "environment_version": "4"
   },
   "inputWidgetPreferences": null,
   "language": "python",
   "notebookMetadata": {
    "pythonIndentUnit": 4
   },
   "notebookName": "Stream Joins",
   "widgets": {}
  },
  "language_info": {
   "name": "python"
  }
 },
 "nbformat": 4,
 "nbformat_minor": 0
}