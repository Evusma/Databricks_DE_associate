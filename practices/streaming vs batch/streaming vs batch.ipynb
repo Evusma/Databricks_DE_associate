{
 "cells": [
  {
   "cell_type": "markdown",
   "metadata": {
    "application/vnd.databricks.v1+cell": {
     "cellMetadata": {},
     "inputWidgets": {},
     "nuid": "c268b21d-5fa7-45c9-ad7d-bce2f0096481",
     "showTitle": false,
     "tableResultSettingsMap": {},
     "title": ""
    }
   },
   "source": [
    "Batch mode (batch dataframes)"
   ]
  },
  {
   "cell_type": "code",
   "execution_count": 0,
   "metadata": {
    "application/vnd.databricks.v1+cell": {
     "cellMetadata": {
      "byteLimit": 2048000,
      "rowLimit": 10000
     },
     "inputWidgets": {},
     "nuid": "3493c1c8-5e64-4d1d-bb64-c357eafcdf48",
     "showTitle": false,
     "tableResultSettingsMap": {},
     "title": ""
    }
   },
   "outputs": [],
   "source": [
    "spark.sql(\"USE CATALOG catalog\")\n",
    "spark.sql(\"USE schema\")\n",
    "\n",
    "\n",
    "from pyspark.sql.functions import col, sum as _sum\n",
    "from pyspark.sql.types import StructType, StructField, StringType, IntegerType\n",
    "\n",
    "schema = StructType([\n",
    "   StructField(\"Id\", IntegerType(), True),\n",
    "   StructField(\"name\", StringType(), True),\n",
    "   StructField(\"age\", IntegerType(), True),\n",
    "   StructField(\"money\", IntegerType(), True),\n",
    "   StructField(\"sales\", IntegerType(), True),\n",
    "   StructField(\"units\", IntegerType(), True),\n",
    "])\n",
    "\n",
    "# Ingest data from JSON files\n",
    "sales_spark_batch_df = (spark.read\n",
    "                        .format(\"json\")\n",
    "                        .option(\"multiLine\", True)\n",
    "                        .schema(schema)\n",
    "                        .load(\"/Volumes/json/\")\n",
    "                        .na.drop()\n",
    "                        .filter(col(\"money\") > 0)\n",
    "                        .select(\n",
    "                           col(\"Id\"),\n",
    "                           col(\"money\").cast(\"double\")\n",
    "                           )\n",
    "                        )"
   ]
  },
  {
   "cell_type": "code",
   "execution_count": 0,
   "metadata": {
    "application/vnd.databricks.v1+cell": {
     "cellMetadata": {
      "byteLimit": 2048000,
      "rowLimit": 10000
     },
     "inputWidgets": {},
     "nuid": "4344c662-1059-495e-8580-072179f353be",
     "showTitle": false,
     "tableResultSettingsMap": {},
     "title": ""
    }
   },
   "outputs": [
    {
     "data": {
      "text/html": [
       "<style scoped>\n",
       "  .table-result-container {\n",
       "    max-height: 300px;\n",
       "    overflow: auto;\n",
       "  }\n",
       "  table, th, td {\n",
       "    border: 1px solid black;\n",
       "    border-collapse: collapse;\n",
       "  }\n",
       "  th, td {\n",
       "    padding: 5px;\n",
       "  }\n",
       "  th {\n",
       "    text-align: left;\n",
       "  }\n",
       "</style><div class='table-result-container'><table class='table-result'><thead style='background-color: white'><tr><th>Id</th><th>money</th></tr></thead><tbody><tr><td>10</td><td>1300.0</td></tr><tr><td>11</td><td>1750.0</td></tr><tr><td>12</td><td>1450.0</td></tr><tr><td>7</td><td>1100.0</td></tr><tr><td>8</td><td>1600.0</td></tr><tr><td>9</td><td>2000.0</td></tr><tr><td>1</td><td>1200.0</td></tr><tr><td>2</td><td>850.0</td></tr><tr><td>3</td><td>1500.0</td></tr><tr><td>4</td><td>2100.0</td></tr><tr><td>5</td><td>950.0</td></tr><tr><td>6</td><td>1800.0</td></tr></tbody></table></div>"
      ]
     },
     "metadata": {
      "application/vnd.databricks.v1+output": {
       "addedWidgets": {},
       "aggData": [],
       "aggError": "",
       "aggOverflow": false,
       "aggSchema": [],
       "aggSeriesLimitReached": false,
       "aggType": "",
       "arguments": {},
       "columnCustomDisplayInfos": {},
       "data": [
        [
         10,
         1300
        ],
        [
         11,
         1750
        ],
        [
         12,
         1450
        ],
        [
         7,
         1100
        ],
        [
         8,
         1600
        ],
        [
         9,
         2000
        ],
        [
         1,
         1200
        ],
        [
         2,
         850
        ],
        [
         3,
         1500
        ],
        [
         4,
         2100
        ],
        [
         5,
         950
        ],
        [
         6,
         1800
        ]
       ],
       "datasetInfos": [],
       "dbfsResultPath": null,
       "isJsonSchema": true,
       "metadata": {},
       "overflow": false,
       "plotOptions": {
        "customPlotOptions": {},
        "displayType": "table",
        "pivotAggregation": null,
        "pivotColumns": null,
        "xColumns": null,
        "yColumns": null
       },
       "removedWidgets": [],
       "schema": [
        {
         "metadata": "{}",
         "name": "Id",
         "type": "\"integer\""
        },
        {
         "metadata": "{}",
         "name": "money",
         "type": "\"double\""
        }
       ],
       "type": "table"
      }
     },
     "output_type": "display_data"
    }
   ],
   "source": [
    "sales_spark_batch_df.display()"
   ]
  },
  {
   "cell_type": "markdown",
   "metadata": {
    "application/vnd.databricks.v1+cell": {
     "cellMetadata": {},
     "inputWidgets": {},
     "nuid": "a18010b7-e6fe-4c19-8998-f285d90028a8",
     "showTitle": false,
     "tableResultSettingsMap": {},
     "title": ""
    }
   },
   "source": [
    "Streaming mode (streaming dataframes)"
   ]
  },
  {
   "cell_type": "code",
   "execution_count": 0,
   "metadata": {
    "application/vnd.databricks.v1+cell": {
     "cellMetadata": {
      "byteLimit": 2048000,
      "rowLimit": 10000
     },
     "inputWidgets": {},
     "nuid": "4c7349e1-5ef3-4cc0-92d7-901511ffc6c6",
     "showTitle": false,
     "tableResultSettingsMap": {},
     "title": ""
    }
   },
   "outputs": [],
   "source": [
    "# Ingest streaming data from JSON files\n",
    "sales_spark_streaming_df = (spark.readStream\n",
    "                            .format(\"json\")\n",
    "                            .option(\"multiLine\", True)\n",
    "                            .schema(schema)\n",
    "                            .load(\"/Volumes/json/\")\n",
    "                            .na.drop()\n",
    "                            .filter(col(\"money\") > 0)\n",
    "                            .select(\n",
    "                                col(\"Id\"),\n",
    "                                col(\"money\").cast(\"double\")\n",
    "                                )\n",
    "                            )"
   ]
  },
  {
   "cell_type": "code",
   "execution_count": 0,
   "metadata": {
    "application/vnd.databricks.v1+cell": {
     "cellMetadata": {
      "byteLimit": 2048000,
      "rowLimit": 10000
     },
     "inputWidgets": {},
     "nuid": "60799553-401a-4fcc-b753-c5512ffc2b6f",
     "showTitle": false,
     "tableResultSettingsMap": {},
     "title": ""
    }
   },
   "outputs": [
    {
     "data": {
      "text/html": [
       "<style scoped>\n",
       "  .table-result-container {\n",
       "    max-height: 300px;\n",
       "    overflow: auto;\n",
       "  }\n",
       "  table, th, td {\n",
       "    border: 1px solid black;\n",
       "    border-collapse: collapse;\n",
       "  }\n",
       "  th, td {\n",
       "    padding: 5px;\n",
       "  }\n",
       "  th {\n",
       "    text-align: left;\n",
       "  }\n",
       "</style><div class='table-result-container'><table class='table-result'><thead style='background-color: white'><tr><th>Id</th><th>money</th></tr></thead><tbody><tr><td>7</td><td>1100.0</td></tr><tr><td>8</td><td>1600.0</td></tr><tr><td>9</td><td>2000.0</td></tr><tr><td>4</td><td>2100.0</td></tr><tr><td>5</td><td>950.0</td></tr><tr><td>6</td><td>1800.0</td></tr><tr><td>10</td><td>1300.0</td></tr><tr><td>11</td><td>1750.0</td></tr><tr><td>12</td><td>1450.0</td></tr><tr><td>1</td><td>1200.0</td></tr><tr><td>2</td><td>850.0</td></tr><tr><td>3</td><td>1500.0</td></tr></tbody></table></div>"
      ]
     },
     "metadata": {
      "application/vnd.databricks.v1+output": {
       "addedWidgets": {},
       "aggData": [],
       "aggError": "",
       "aggOverflow": false,
       "aggSchema": [],
       "aggSeriesLimitReached": false,
       "aggType": "",
       "arguments": {},
       "columnCustomDisplayInfos": {},
       "data": [
        [
         7,
         1100
        ],
        [
         8,
         1600
        ],
        [
         9,
         2000
        ],
        [
         4,
         2100
        ],
        [
         5,
         950
        ],
        [
         6,
         1800
        ],
        [
         10,
         1300
        ],
        [
         11,
         1750
        ],
        [
         12,
         1450
        ],
        [
         1,
         1200
        ],
        [
         2,
         850
        ],
        [
         3,
         1500
        ]
       ],
       "datasetInfos": [],
       "dbfsResultPath": null,
       "isJsonSchema": true,
       "metadata": {
        "isDbfsCommandResult": false
       },
       "overflow": false,
       "plotOptions": {
        "customPlotOptions": {},
        "displayType": "table",
        "pivotAggregation": null,
        "pivotColumns": null,
        "xColumns": null,
        "yColumns": null
       },
       "removedWidgets": [],
       "schema": [
        {
         "metadata": "{}",
         "name": "Id",
         "type": "\"integer\""
        },
        {
         "metadata": "{}",
         "name": "money",
         "type": "\"double\""
        }
       ],
       "type": "table"
      }
     },
     "output_type": "display_data"
    }
   ],
   "source": [
    "display(sales_spark_streaming_df)"
   ]
  },
  {
   "cell_type": "markdown",
   "metadata": {
    "application/vnd.databricks.v1+cell": {
     "cellMetadata": {},
     "inputWidgets": {},
     "nuid": "60c58cbe-bb04-4cfa-8df0-5b7ce3318d4b",
     "showTitle": false,
     "tableResultSettingsMap": {},
     "title": ""
    }
   },
   "source": [
    "Write streaming query results"
   ]
  },
  {
   "cell_type": "code",
   "execution_count": 0,
   "metadata": {
    "application/vnd.databricks.v1+cell": {
     "cellMetadata": {
      "byteLimit": 2048000,
      "rowLimit": 10000
     },
     "inputWidgets": {},
     "nuid": "4775444b-257d-43c1-9b9a-e3439850e63a",
     "showTitle": false,
     "tableResultSettingsMap": {},
     "title": ""
    }
   },
   "outputs": [],
   "source": [
    "checkpoint_path = \"/Volumes/checkpoints_spark_query\"\n",
    "\n",
    "salesspark_query = (sales_spark_streaming_df\n",
    "                    .writeStream\n",
    "                    .format(\"delta\")\n",
    "                    .queryName(\"salesspark_query \")\n",
    "                    .outputMode(\"append\")\n",
    "                    .trigger(processingTime=\"10 seconds\")\n",
    "                    .option(\"checkpointLocation\", checkpoint_path)\n",
    "                    .toTable(\"salesspark\")\n",
    "                    )"
   ]
  },
  {
   "cell_type": "markdown",
   "metadata": {
    "application/vnd.databricks.v1+cell": {
     "cellMetadata": {},
     "inputWidgets": {},
     "nuid": "b54ff1d4-a9cd-408e-b4c5-460f0d148e7f",
     "showTitle": false,
     "tableResultSettingsMap": {},
     "title": ""
    }
   },
   "source": [
    "Monitor streaming query"
   ]
  },
  {
   "cell_type": "code",
   "execution_count": 0,
   "metadata": {
    "application/vnd.databricks.v1+cell": {
     "cellMetadata": {
      "byteLimit": 2048000,
      "rowLimit": 10000
     },
     "inputWidgets": {},
     "nuid": "760c2bb5-0c45-4e4d-9bfa-c9ae4d7c8670",
     "showTitle": false,
     "tableResultSettingsMap": {},
     "title": ""
    }
   },
   "outputs": [
    {
     "data": {
      "text/plain": [
       "'salesspark_query '"
      ]
     },
     "execution_count": 17,
     "metadata": {},
     "output_type": "execute_result"
    }
   ],
   "source": [
    "salesspark_query.name"
   ]
  },
  {
   "cell_type": "code",
   "execution_count": 0,
   "metadata": {
    "application/vnd.databricks.v1+cell": {
     "cellMetadata": {
      "byteLimit": 2048000,
      "rowLimit": 10000
     },
     "inputWidgets": {},
     "nuid": "a69bba29-4712-4a4a-8dc8-ee3811df4418",
     "showTitle": false,
     "tableResultSettingsMap": {},
     "title": ""
    }
   },
   "outputs": [
    {
     "data": {
      "text/plain": [
       "{'message': 'Waiting for next trigger',\n",
       " 'isDataAvailable': False,\n",
       " 'isTriggerActive': False}"
      ]
     },
     "execution_count": 18,
     "metadata": {},
     "output_type": "execute_result"
    }
   ],
   "source": [
    "salesspark_query.status"
   ]
  },
  {
   "cell_type": "code",
   "execution_count": 0,
   "metadata": {
    "application/vnd.databricks.v1+cell": {
     "cellMetadata": {
      "byteLimit": 2048000,
      "rowLimit": 10000
     },
     "inputWidgets": {},
     "nuid": "39ca658e-5b95-48e8-9511-73841368cc3f",
     "showTitle": false,
     "tableResultSettingsMap": {},
     "title": ""
    }
   },
   "outputs": [],
   "source": [
    "salesspark_query.lastProgress"
   ]
  },
  {
   "cell_type": "code",
   "execution_count": 0,
   "metadata": {
    "application/vnd.databricks.v1+cell": {
     "cellMetadata": {
      "byteLimit": 2048000,
      "rowLimit": 10000
     },
     "inputWidgets": {},
     "nuid": "4b8a77f5-6b60-476b-a96c-bd1d2c406cc3",
     "showTitle": false,
     "tableResultSettingsMap": {},
     "title": ""
    }
   },
   "outputs": [],
   "source": [
    "import time\n",
    "time.sleep(20)\n",
    "\n",
    "salesspark_query.stop()"
   ]
  },
  {
   "cell_type": "code",
   "execution_count": 0,
   "metadata": {
    "application/vnd.databricks.v1+cell": {
     "cellMetadata": {
      "byteLimit": 2048000,
      "rowLimit": 10000
     },
     "inputWidgets": {},
     "nuid": "a0ee0012-6702-448e-9b46-6125db273aa3",
     "showTitle": false,
     "tableResultSettingsMap": {},
     "title": ""
    }
   },
   "outputs": [],
   "source": [
    "salesspark_query.awaitTermination()\n",
    "# awaitTermination blocks the current thread until the stream query is terminated. For stand-alone structured applications, this is used to prevent the main thread from terminating while the streaming query is still executing (here is useful in cas of a run all to run the notebook). This prevents subsequent command cells from executing until the streaming query has fully terminated.\n"
   ]
  },
  {
   "cell_type": "markdown",
   "metadata": {
    "application/vnd.databricks.v1+cell": {
     "cellMetadata": {},
     "inputWidgets": {},
     "nuid": "efa50fdc-4de3-4ffa-b8ce-98e1ccb57abd",
     "showTitle": false,
     "tableResultSettingsMap": {},
     "title": ""
    }
   },
   "source": [
    "To stop a query by its name"
   ]
  },
  {
   "cell_type": "code",
   "execution_count": 0,
   "metadata": {
    "application/vnd.databricks.v1+cell": {
     "cellMetadata": {
      "byteLimit": 2048000,
      "rowLimit": 10000
     },
     "inputWidgets": {},
     "nuid": "d2b3e4e0-2ba6-4b4f-b9c2-18a3f40e375b",
     "showTitle": false,
     "tableResultSettingsMap": {},
     "title": ""
    }
   },
   "outputs": [],
   "source": [
    "query_name = \"salesspark_query\"\n",
    "for q in spark.streams.active:\n",
    "    if q.name == query_name:\n",
    "        q.stop()"
   ]
  },
  {
   "cell_type": "code",
   "execution_count": null,
   "metadata": {},
   "outputs": [],
   "source": [
    "for q in spark.streams.active:\n",
    "    q.stop()"
   ]
  }
 ],
 "metadata": {
  "application/vnd.databricks.v1+notebook": {
   "computePreferences": null,
   "dashboards": [],
   "environmentMetadata": {
    "base_environment": "",
    "environment_version": "4"
   },
   "inputWidgetPreferences": null,
   "language": "python",
   "notebookMetadata": {
    "pythonIndentUnit": 4
   },
   "notebookName": "streaming vs batch",
   "widgets": {}
  },
  "language_info": {
   "name": "python"
  }
 },
 "nbformat": 4,
 "nbformat_minor": 0
}
