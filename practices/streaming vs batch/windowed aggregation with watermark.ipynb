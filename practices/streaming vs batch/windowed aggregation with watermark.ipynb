{
 "cells": [
  {
   "cell_type": "markdown",
   "metadata": {
    "application/vnd.databricks.v1+cell": {
     "cellMetadata": {},
     "inputWidgets": {},
     "nuid": "bdbe1cde-60e0-4a08-84ff-fb9bc042bd84",
     "showTitle": false,
     "tableResultSettingsMap": {},
     "title": ""
    }
   },
   "source": [
    "Initial streaming dataframe"
   ]
  },
  {
   "cell_type": "code",
   "execution_count": 0,
   "metadata": {
    "application/vnd.databricks.v1+cell": {
     "cellMetadata": {
      "byteLimit": 2048000,
      "rowLimit": 10000
     },
     "inputWidgets": {},
     "nuid": "2864161d-4292-44dc-93ef-7a1f08ee03dd",
     "showTitle": false,
     "tableResultSettingsMap": {},
     "title": ""
    }
   },
   "outputs": [],
   "source": [
    "spark.sql(\"USE CATALOG catalog\")\n",
    "spark.sql(\"USE schema\")\n",
    "\n",
    "\n",
    "from pyspark.sql.functions import col, current_timestamp, window, sum as spark_sum  # import window function\n",
    "from pyspark.sql.types import StructType, StructField, StringType, IntegerType\n",
    "\n",
    "schema = StructType([\n",
    "   StructField(\"Id\", IntegerType(), True),\n",
    "   StructField(\"name\", StringType(), True),\n",
    "   StructField(\"age\", IntegerType(), True),\n",
    "   StructField(\"money\", IntegerType(), True),\n",
    "   StructField(\"sales\", IntegerType(), True),\n",
    "   StructField(\"units\", IntegerType(), True),\n",
    "])\n",
    "\n",
    "# Ingest data from JSON files\n",
    "parsed_df = (spark.readStream\n",
    "             .format(\"json\")\n",
    "             .option(\"multiLine\", True)\n",
    "             .schema(schema)\n",
    "             .load(\"/Volumes/json/\")\n",
    "             .na.drop()\n",
    "             .withColumn(\"money\", col(\"money\").cast(\"double\"))\n",
    "             .withColumn(\"event_time\", current_timestamp())\n",
    "             .filter(col(\"money\") > 0)\n",
    "             )"
   ]
  },
  {
   "cell_type": "code",
   "execution_count": 0,
   "metadata": {
    "application/vnd.databricks.v1+cell": {
     "cellMetadata": {
      "byteLimit": 2048000,
      "rowLimit": 10000
     },
     "inputWidgets": {},
     "nuid": "ca161641-b0e4-49bc-a46a-d4450f4f018c",
     "showTitle": false,
     "tableResultSettingsMap": {
      "0": {
       "dataGridStateBlob": "{\"version\":1,\"tableState\":{\"columnPinning\":{\"left\":[\"#row_number#\"],\"right\":[]},\"columnSizing\":{\"event_time\":244},\"columnVisibility\":{}},\"settings\":{\"columns\":{}},\"syncTimestamp\":1760359593880}",
       "filterBlob": null,
       "queryPlanFiltersBlob": null,
       "tableResultIndex": 0
      }
     },
     "title": ""
    }
   },
   "outputs": [
    {
     "data": {
      "text/html": [
       "<style scoped>\n",
       "  .table-result-container {\n",
       "    max-height: 300px;\n",
       "    overflow: auto;\n",
       "  }\n",
       "  table, th, td {\n",
       "    border: 1px solid black;\n",
       "    border-collapse: collapse;\n",
       "  }\n",
       "  th, td {\n",
       "    padding: 5px;\n",
       "  }\n",
       "  th {\n",
       "    text-align: left;\n",
       "  }\n",
       "</style><div class='table-result-container'><table class='table-result'><thead style='background-color: white'><tr><th>Id</th><th>name</th><th>age</th><th>money</th><th>sales</th><th>units</th><th>event_time</th></tr></thead><tbody><tr><td>1</td><td>Alice</td><td>25</td><td>1200.0</td><td>4500</td><td>45</td><td>2025-10-13T14:37:07.476Z</td></tr><tr><td>2</td><td>Bob</td><td>32</td><td>850.0</td><td>3000</td><td>30</td><td>2025-10-13T14:37:07.476Z</td></tr><tr><td>3</td><td>Charlie</td><td>29</td><td>1500.0</td><td>6000</td><td>60</td><td>2025-10-13T14:37:07.476Z</td></tr><tr><td>10</td><td>Julia</td><td>26</td><td>1300.0</td><td>2800</td><td>28</td><td>2025-10-13T14:39:00.375Z</td></tr><tr><td>11</td><td>Kevin</td><td>39</td><td>1750.0</td><td>5500</td><td>55</td><td>2025-10-13T14:39:00.375Z</td></tr><tr><td>12</td><td>Laura</td><td>31</td><td>1450.0</td><td>3800</td><td>38</td><td>2025-10-13T14:39:00.375Z</td></tr><tr><td>4</td><td>Diana</td><td>41</td><td>2100.0</td><td>7500</td><td>75</td><td>2025-10-13T14:39:00.375Z</td></tr><tr><td>5</td><td>Ethan</td><td>27</td><td>950.0</td><td>2500</td><td>25</td><td>2025-10-13T14:39:00.375Z</td></tr><tr><td>6</td><td>Fiona</td><td>34</td><td>1800.0</td><td>5000</td><td>50</td><td>2025-10-13T14:39:00.375Z</td></tr><tr><td>10</td><td>Julia</td><td>26</td><td>1300.0</td><td>2800</td><td>28</td><td>2025-10-13T14:39:00.375Z</td></tr><tr><td>11</td><td>Kevin</td><td>39</td><td>1750.0</td><td>5500</td><td>55</td><td>2025-10-13T14:39:00.375Z</td></tr><tr><td>12</td><td>Laura</td><td>31</td><td>1450.0</td><td>3800</td><td>38</td><td>2025-10-13T14:39:00.375Z</td></tr><tr><td>7</td><td>George</td><td>30</td><td>1100.0</td><td>2200</td><td>22</td><td>2025-10-13T14:39:00.375Z</td></tr><tr><td>8</td><td>Hannah</td><td>28</td><td>1600.0</td><td>4000</td><td>40</td><td>2025-10-13T14:39:00.375Z</td></tr><tr><td>9</td><td>Ian</td><td>36</td><td>2000.0</td><td>6500</td><td>65</td><td>2025-10-13T14:39:00.375Z</td></tr><tr><td>1</td><td>Alice</td><td>25</td><td>1200.0</td><td>4500</td><td>45</td><td>2025-10-13T14:39:00.375Z</td></tr><tr><td>2</td><td>Bob</td><td>32</td><td>850.0</td><td>3000</td><td>30</td><td>2025-10-13T14:39:00.375Z</td></tr><tr><td>3</td><td>Charlie</td><td>29</td><td>1500.0</td><td>6000</td><td>60</td><td>2025-10-13T14:39:00.375Z</td></tr><tr><td>10</td><td>Julia</td><td>26</td><td>1300.0</td><td>2800</td><td>28</td><td>2025-10-13T14:39:00.375Z</td></tr><tr><td>11</td><td>Kevin</td><td>39</td><td>1750.0</td><td>5500</td><td>55</td><td>2025-10-13T14:39:00.375Z</td></tr><tr><td>12</td><td>Laura</td><td>31</td><td>1450.0</td><td>3800</td><td>38</td><td>2025-10-13T14:39:00.375Z</td></tr><tr><td>7</td><td>George</td><td>30</td><td>1100.0</td><td>2200</td><td>22</td><td>2025-10-13T14:39:00.375Z</td></tr><tr><td>8</td><td>Hannah</td><td>28</td><td>1600.0</td><td>4000</td><td>40</td><td>2025-10-13T14:39:00.375Z</td></tr><tr><td>9</td><td>Ian</td><td>36</td><td>2000.0</td><td>6500</td><td>65</td><td>2025-10-13T14:39:00.375Z</td></tr><tr><td>4</td><td>Diana</td><td>41</td><td>2100.0</td><td>7500</td><td>75</td><td>2025-10-13T14:39:00.375Z</td></tr><tr><td>5</td><td>Ethan</td><td>27</td><td>950.0</td><td>2500</td><td>25</td><td>2025-10-13T14:39:00.375Z</td></tr><tr><td>6</td><td>Fiona</td><td>34</td><td>1800.0</td><td>5000</td><td>50</td><td>2025-10-13T14:39:00.375Z</td></tr><tr><td>4</td><td>Diana</td><td>41</td><td>2100.0</td><td>7500</td><td>75</td><td>2025-10-13T14:41:53.34Z</td></tr><tr><td>5</td><td>Ethan</td><td>27</td><td>950.0</td><td>2500</td><td>25</td><td>2025-10-13T14:41:53.34Z</td></tr><tr><td>6</td><td>Fiona</td><td>34</td><td>1800.0</td><td>5000</td><td>50</td><td>2025-10-13T14:41:53.34Z</td></tr><tr><td>4</td><td>Diana</td><td>41</td><td>2100.0</td><td>7500</td><td>75</td><td>2025-10-13T14:41:54.814Z</td></tr><tr><td>5</td><td>Ethan</td><td>27</td><td>950.0</td><td>2500</td><td>25</td><td>2025-10-13T14:41:54.814Z</td></tr><tr><td>6</td><td>Fiona</td><td>34</td><td>1800.0</td><td>5000</td><td>50</td><td>2025-10-13T14:41:54.814Z</td></tr><tr><td>4</td><td>Diana</td><td>41</td><td>21.0</td><td>7500</td><td>75</td><td>2025-10-13T14:43:56.334Z</td></tr><tr><td>5</td><td>Ethan</td><td>27</td><td>950.0</td><td>2500</td><td>25</td><td>2025-10-13T14:43:56.334Z</td></tr><tr><td>6</td><td>Fiona</td><td>34</td><td>1800000.0</td><td>5000</td><td>50</td><td>2025-10-13T14:43:56.334Z</td></tr></tbody></table></div>"
      ]
     },
     "metadata": {
      "application/vnd.databricks.v1+output": {
       "addedWidgets": {},
       "aggData": [],
       "aggError": "",
       "aggOverflow": false,
       "aggSchema": [],
       "aggSeriesLimitReached": false,
       "aggType": "",
       "arguments": {},
       "columnCustomDisplayInfos": {},
       "data": [
        [
         1,
         "Alice",
         25,
         1200,
         4500,
         45,
         "2025-10-13T14:37:07.476Z"
        ],
        [
         2,
         "Bob",
         32,
         850,
         3000,
         30,
         "2025-10-13T14:37:07.476Z"
        ],
        [
         3,
         "Charlie",
         29,
         1500,
         6000,
         60,
         "2025-10-13T14:37:07.476Z"
        ],
        [
         10,
         "Julia",
         26,
         1300,
         2800,
         28,
         "2025-10-13T14:39:00.375Z"
        ],
        [
         11,
         "Kevin",
         39,
         1750,
         5500,
         55,
         "2025-10-13T14:39:00.375Z"
        ],
        [
         12,
         "Laura",
         31,
         1450,
         3800,
         38,
         "2025-10-13T14:39:00.375Z"
        ],
        [
         4,
         "Diana",
         41,
         2100,
         7500,
         75,
         "2025-10-13T14:39:00.375Z"
        ],
        [
         5,
         "Ethan",
         27,
         950,
         2500,
         25,
         "2025-10-13T14:39:00.375Z"
        ],
        [
         6,
         "Fiona",
         34,
         1800,
         5000,
         50,
         "2025-10-13T14:39:00.375Z"
        ],
        [
         10,
         "Julia",
         26,
         1300,
         2800,
         28,
         "2025-10-13T14:39:00.375Z"
        ],
        [
         11,
         "Kevin",
         39,
         1750,
         5500,
         55,
         "2025-10-13T14:39:00.375Z"
        ],
        [
         12,
         "Laura",
         31,
         1450,
         3800,
         38,
         "2025-10-13T14:39:00.375Z"
        ],
        [
         7,
         "George",
         30,
         1100,
         2200,
         22,
         "2025-10-13T14:39:00.375Z"
        ],
        [
         8,
         "Hannah",
         28,
         1600,
         4000,
         40,
         "2025-10-13T14:39:00.375Z"
        ],
        [
         9,
         "Ian",
         36,
         2000,
         6500,
         65,
         "2025-10-13T14:39:00.375Z"
        ],
        [
         1,
         "Alice",
         25,
         1200,
         4500,
         45,
         "2025-10-13T14:39:00.375Z"
        ],
        [
         2,
         "Bob",
         32,
         850,
         3000,
         30,
         "2025-10-13T14:39:00.375Z"
        ],
        [
         3,
         "Charlie",
         29,
         1500,
         6000,
         60,
         "2025-10-13T14:39:00.375Z"
        ],
        [
         10,
         "Julia",
         26,
         1300,
         2800,
         28,
         "2025-10-13T14:39:00.375Z"
        ],
        [
         11,
         "Kevin",
         39,
         1750,
         5500,
         55,
         "2025-10-13T14:39:00.375Z"
        ],
        [
         12,
         "Laura",
         31,
         1450,
         3800,
         38,
         "2025-10-13T14:39:00.375Z"
        ],
        [
         7,
         "George",
         30,
         1100,
         2200,
         22,
         "2025-10-13T14:39:00.375Z"
        ],
        [
         8,
         "Hannah",
         28,
         1600,
         4000,
         40,
         "2025-10-13T14:39:00.375Z"
        ],
        [
         9,
         "Ian",
         36,
         2000,
         6500,
         65,
         "2025-10-13T14:39:00.375Z"
        ],
        [
         4,
         "Diana",
         41,
         2100,
         7500,
         75,
         "2025-10-13T14:39:00.375Z"
        ],
        [
         5,
         "Ethan",
         27,
         950,
         2500,
         25,
         "2025-10-13T14:39:00.375Z"
        ],
        [
         6,
         "Fiona",
         34,
         1800,
         5000,
         50,
         "2025-10-13T14:39:00.375Z"
        ],
        [
         4,
         "Diana",
         41,
         2100,
         7500,
         75,
         "2025-10-13T14:41:53.34Z"
        ],
        [
         5,
         "Ethan",
         27,
         950,
         2500,
         25,
         "2025-10-13T14:41:53.34Z"
        ],
        [
         6,
         "Fiona",
         34,
         1800,
         5000,
         50,
         "2025-10-13T14:41:53.34Z"
        ],
        [
         4,
         "Diana",
         41,
         2100,
         7500,
         75,
         "2025-10-13T14:41:54.814Z"
        ],
        [
         5,
         "Ethan",
         27,
         950,
         2500,
         25,
         "2025-10-13T14:41:54.814Z"
        ],
        [
         6,
         "Fiona",
         34,
         1800,
         5000,
         50,
         "2025-10-13T14:41:54.814Z"
        ],
        [
         4,
         "Diana",
         41,
         21,
         7500,
         75,
         "2025-10-13T14:43:56.334Z"
        ],
        [
         5,
         "Ethan",
         27,
         950,
         2500,
         25,
         "2025-10-13T14:43:56.334Z"
        ],
        [
         6,
         "Fiona",
         34,
         1800000,
         5000,
         50,
         "2025-10-13T14:43:56.334Z"
        ]
       ],
       "datasetInfos": [],
       "dbfsResultPath": null,
       "isJsonSchema": true,
       "metadata": {
        "isDbfsCommandResult": false
       },
       "overflow": false,
       "plotOptions": {
        "customPlotOptions": {},
        "displayType": "table",
        "pivotAggregation": null,
        "pivotColumns": null,
        "xColumns": null,
        "yColumns": null
       },
       "removedWidgets": [],
       "schema": [
        {
         "metadata": "{}",
         "name": "Id",
         "type": "\"integer\""
        },
        {
         "metadata": "{}",
         "name": "name",
         "type": "\"string\""
        },
        {
         "metadata": "{}",
         "name": "age",
         "type": "\"integer\""
        },
        {
         "metadata": "{}",
         "name": "money",
         "type": "\"double\""
        },
        {
         "metadata": "{}",
         "name": "sales",
         "type": "\"integer\""
        },
        {
         "metadata": "{}",
         "name": "units",
         "type": "\"integer\""
        },
        {
         "metadata": "{}",
         "name": "event_time",
         "type": "\"timestamp\""
        }
       ],
       "type": "table"
      }
     },
     "output_type": "display_data"
    }
   ],
   "source": [
    "# normal stream dataframe\n",
    "display(parsed_df)"
   ]
  },
  {
   "cell_type": "code",
   "execution_count": 0,
   "metadata": {
    "application/vnd.databricks.v1+cell": {
     "cellMetadata": {
      "byteLimit": 2048000,
      "rowLimit": 10000
     },
     "inputWidgets": {},
     "nuid": "90adaed2-667c-4b06-bb05-6bc26b5467a9",
     "showTitle": false,
     "tableResultSettingsMap": {},
     "title": ""
    }
   },
   "outputs": [],
   "source": [
    "# widowed dataframe\n",
    "windowed_df = (parsed_df\n",
    "                .withWatermark(eventTime = \"event_time\", delayThreshold = \"10 seconds\")\n",
    "                .groupBy(window(timeColumn=\"event_time\", \n",
    "                                windowDuration=\"10 seconds\"), \"name\")\n",
    "                .agg(spark_sum(\"money\").alias(\"total_money\"))\n",
    ")"
   ]
  },
  {
   "cell_type": "code",
   "execution_count": 0,
   "metadata": {
    "application/vnd.databricks.v1+cell": {
     "cellMetadata": {
      "byteLimit": 2048000,
      "rowLimit": 10000
     },
     "inputWidgets": {},
     "nuid": "241bf218-b88d-403f-a4f2-9bc216c6dbbe",
     "showTitle": false,
     "tableResultSettingsMap": {
      "0": {
       "dataGridStateBlob": "{\"version\":1,\"tableState\":{\"columnPinning\":{\"left\":[\"#row_number#\"],\"right\":[]},\"columnSizing\":{},\"columnVisibility\":{}},\"settings\":{\"columns\":{}},\"syncTimestamp\":1760360699001}",
       "filterBlob": null,
       "queryPlanFiltersBlob": null,
       "tableResultIndex": 0
      }
     },
     "title": ""
    }
   },
   "outputs": [
    {
     "data": {
      "text/html": [
       "<style scoped>\n",
       "  .table-result-container {\n",
       "    max-height: 300px;\n",
       "    overflow: auto;\n",
       "  }\n",
       "  table, th, td {\n",
       "    border: 1px solid black;\n",
       "    border-collapse: collapse;\n",
       "  }\n",
       "  th, td {\n",
       "    padding: 5px;\n",
       "  }\n",
       "  th {\n",
       "    text-align: left;\n",
       "  }\n",
       "</style><div class='table-result-container'><table class='table-result'><thead style='background-color: white'><tr><th>window</th><th>name</th><th>total_money</th></tr></thead><tbody><tr><td>List(2025-10-13T14:39:00Z, 2025-10-13T14:39:10Z)</td><td>Charlie</td><td>1500.0</td></tr><tr><td>List(2025-10-13T14:39:00Z, 2025-10-13T14:39:10Z)</td><td>Julia</td><td>3900.0</td></tr><tr><td>List(2025-10-13T14:39:00Z, 2025-10-13T14:39:10Z)</td><td>Ian</td><td>4000.0</td></tr><tr><td>List(2025-10-13T14:43:50Z, 2025-10-13T14:44:00Z)</td><td>Ethan</td><td>950.0</td></tr><tr><td>List(2025-10-13T14:37:00Z, 2025-10-13T14:37:10Z)</td><td>Charlie</td><td>1500.0</td></tr><tr><td>List(2025-10-13T14:41:50Z, 2025-10-13T14:42:00Z)</td><td>Diana</td><td>4200.0</td></tr><tr><td>List(2025-10-13T14:39:00Z, 2025-10-13T14:39:10Z)</td><td>Ethan</td><td>1900.0</td></tr><tr><td>List(2025-10-13T14:41:50Z, 2025-10-13T14:42:00Z)</td><td>Fiona</td><td>3600.0</td></tr><tr><td>List(2025-10-13T14:37:00Z, 2025-10-13T14:37:10Z)</td><td>Alice</td><td>1200.0</td></tr><tr><td>List(2025-10-13T14:39:00Z, 2025-10-13T14:39:10Z)</td><td>Kevin</td><td>5250.0</td></tr><tr><td>List(2025-10-13T14:39:00Z, 2025-10-13T14:39:10Z)</td><td>Alice</td><td>1200.0</td></tr><tr><td>List(2025-10-13T14:39:00Z, 2025-10-13T14:39:10Z)</td><td>George</td><td>2200.0</td></tr><tr><td>List(2025-10-13T14:37:00Z, 2025-10-13T14:37:10Z)</td><td>Bob</td><td>850.0</td></tr><tr><td>List(2025-10-13T14:39:00Z, 2025-10-13T14:39:10Z)</td><td>Fiona</td><td>3600.0</td></tr><tr><td>List(2025-10-13T14:39:00Z, 2025-10-13T14:39:10Z)</td><td>Laura</td><td>4350.0</td></tr><tr><td>List(2025-10-13T14:39:00Z, 2025-10-13T14:39:10Z)</td><td>Diana</td><td>4200.0</td></tr><tr><td>List(2025-10-13T14:39:00Z, 2025-10-13T14:39:10Z)</td><td>Hannah</td><td>3200.0</td></tr><tr><td>List(2025-10-13T14:43:50Z, 2025-10-13T14:44:00Z)</td><td>Fiona</td><td>1800000.0</td></tr><tr><td>List(2025-10-13T14:43:50Z, 2025-10-13T14:44:00Z)</td><td>Diana</td><td>21.0</td></tr><tr><td>List(2025-10-13T14:39:00Z, 2025-10-13T14:39:10Z)</td><td>Bob</td><td>850.0</td></tr><tr><td>List(2025-10-13T14:41:50Z, 2025-10-13T14:42:00Z)</td><td>Ethan</td><td>1900.0</td></tr></tbody></table></div>"
      ]
     },
     "metadata": {
      "application/vnd.databricks.v1+output": {
       "addedWidgets": {},
       "aggData": [],
       "aggError": "",
       "aggOverflow": false,
       "aggSchema": [],
       "aggSeriesLimitReached": false,
       "aggType": "",
       "arguments": {},
       "columnCustomDisplayInfos": {},
       "data": [
        [
         [
          "2025-10-13T14:39:00Z",
          "2025-10-13T14:39:10Z"
         ],
         "Charlie",
         1500
        ],
        [
         [
          "2025-10-13T14:39:00Z",
          "2025-10-13T14:39:10Z"
         ],
         "Julia",
         3900
        ],
        [
         [
          "2025-10-13T14:39:00Z",
          "2025-10-13T14:39:10Z"
         ],
         "Ian",
         4000
        ],
        [
         [
          "2025-10-13T14:43:50Z",
          "2025-10-13T14:44:00Z"
         ],
         "Ethan",
         950
        ],
        [
         [
          "2025-10-13T14:37:00Z",
          "2025-10-13T14:37:10Z"
         ],
         "Charlie",
         1500
        ],
        [
         [
          "2025-10-13T14:41:50Z",
          "2025-10-13T14:42:00Z"
         ],
         "Diana",
         4200
        ],
        [
         [
          "2025-10-13T14:39:00Z",
          "2025-10-13T14:39:10Z"
         ],
         "Ethan",
         1900
        ],
        [
         [
          "2025-10-13T14:41:50Z",
          "2025-10-13T14:42:00Z"
         ],
         "Fiona",
         3600
        ],
        [
         [
          "2025-10-13T14:37:00Z",
          "2025-10-13T14:37:10Z"
         ],
         "Alice",
         1200
        ],
        [
         [
          "2025-10-13T14:39:00Z",
          "2025-10-13T14:39:10Z"
         ],
         "Kevin",
         5250
        ],
        [
         [
          "2025-10-13T14:39:00Z",
          "2025-10-13T14:39:10Z"
         ],
         "Alice",
         1200
        ],
        [
         [
          "2025-10-13T14:39:00Z",
          "2025-10-13T14:39:10Z"
         ],
         "George",
         2200
        ],
        [
         [
          "2025-10-13T14:37:00Z",
          "2025-10-13T14:37:10Z"
         ],
         "Bob",
         850
        ],
        [
         [
          "2025-10-13T14:39:00Z",
          "2025-10-13T14:39:10Z"
         ],
         "Fiona",
         3600
        ],
        [
         [
          "2025-10-13T14:39:00Z",
          "2025-10-13T14:39:10Z"
         ],
         "Laura",
         4350
        ],
        [
         [
          "2025-10-13T14:39:00Z",
          "2025-10-13T14:39:10Z"
         ],
         "Diana",
         4200
        ],
        [
         [
          "2025-10-13T14:39:00Z",
          "2025-10-13T14:39:10Z"
         ],
         "Hannah",
         3200
        ],
        [
         [
          "2025-10-13T14:43:50Z",
          "2025-10-13T14:44:00Z"
         ],
         "Fiona",
         1800000
        ],
        [
         [
          "2025-10-13T14:43:50Z",
          "2025-10-13T14:44:00Z"
         ],
         "Diana",
         21
        ],
        [
         [
          "2025-10-13T14:39:00Z",
          "2025-10-13T14:39:10Z"
         ],
         "Bob",
         850
        ],
        [
         [
          "2025-10-13T14:41:50Z",
          "2025-10-13T14:42:00Z"
         ],
         "Ethan",
         1900
        ]
       ],
       "datasetInfos": [],
       "dbfsResultPath": null,
       "isJsonSchema": true,
       "metadata": {
        "isDbfsCommandResult": false
       },
       "overflow": false,
       "plotOptions": {
        "customPlotOptions": {},
        "displayType": "table",
        "pivotAggregation": null,
        "pivotColumns": null,
        "xColumns": null,
        "yColumns": null
       },
       "removedWidgets": [],
       "schema": [
        {
         "metadata": "{\"spark.timeWindow\":true,\"spark.watermarkDelayMs\":10000}",
         "name": "window",
         "type": "{\"type\":\"struct\",\"fields\":[{\"name\":\"start\",\"type\":\"timestamp\",\"nullable\":true,\"metadata\":{}},{\"name\":\"end\",\"type\":\"timestamp\",\"nullable\":true,\"metadata\":{}}]}"
        },
        {
         "metadata": "{}",
         "name": "name",
         "type": "\"string\""
        },
        {
         "metadata": "{}",
         "name": "total_money",
         "type": "\"double\""
        }
       ],
       "type": "table"
      }
     },
     "output_type": "display_data"
    }
   ],
   "source": [
    "display(windowed_df)"
   ]
  },
  {
   "cell_type": "markdown",
   "metadata": {
    "application/vnd.databricks.v1+cell": {
     "cellMetadata": {},
     "inputWidgets": {},
     "nuid": "292aa4a0-c419-41de-a1a5-e4a9ceacb589",
     "showTitle": false,
     "tableResultSettingsMap": {},
     "title": ""
    }
   },
   "source": [
    "Write streaming results in append mode (option1)"
   ]
  },
  {
   "cell_type": "code",
   "execution_count": 0,
   "metadata": {
    "application/vnd.databricks.v1+cell": {
     "cellMetadata": {
      "byteLimit": 2048000,
      "rowLimit": 10000
     },
     "inputWidgets": {},
     "nuid": "ec4aa446-0e1c-4713-bcd6-62a6f0af7cdd",
     "showTitle": false,
     "tableResultSettingsMap": {},
     "title": ""
    }
   },
   "outputs": [],
   "source": [
    "# widowed query\n",
    "checkpoint_path = \"/Volumes/checkpoints_spark_query/window1\"\n",
    "\n",
    "windowed_query = (windowed_df\n",
    "                    .writeStream\n",
    "                    .format(\"delta\")\n",
    "                    .queryName(\"windowed_query\")\n",
    "                    .option(\"checkpointLocation\", checkpoint_path)\n",
    "                    .outputMode(\"append\")\n",
    "                    .trigger(availableNow=True)\n",
    "                    .toTable(\"salesspark_window\")\n",
    "                    )"
   ]
  },
  {
   "cell_type": "code",
   "execution_count": 0,
   "metadata": {
    "application/vnd.databricks.v1+cell": {
     "cellMetadata": {
      "byteLimit": 2048000,
      "implicitDf": true,
      "rowLimit": 10000
     },
     "inputWidgets": {},
     "nuid": "e41914d6-0596-421d-b160-282d993eee7e",
     "showTitle": false,
     "tableResultSettingsMap": {},
     "title": ""
    }
   },
   "outputs": [
    {
     "data": {
      "text/html": [
       "<style scoped>\n",
       "  .table-result-container {\n",
       "    max-height: 300px;\n",
       "    overflow: auto;\n",
       "  }\n",
       "  table, th, td {\n",
       "    border: 1px solid black;\n",
       "    border-collapse: collapse;\n",
       "  }\n",
       "  th, td {\n",
       "    padding: 5px;\n",
       "  }\n",
       "  th {\n",
       "    text-align: left;\n",
       "  }\n",
       "</style><div class='table-result-container'><table class='table-result'><thead style='background-color: white'><tr><th>window</th><th>name</th><th>total_money</th></tr></thead><tbody><tr><td>List(2025-10-13T14:38:00Z, 2025-10-13T14:38:10Z)</td><td>Charlie</td><td>1500.0</td></tr><tr><td>List(2025-10-13T14:39:50Z, 2025-10-13T14:40:00Z)</td><td>Charlie</td><td>1500.0</td></tr><tr><td>List(2025-10-13T14:39:50Z, 2025-10-13T14:40:00Z)</td><td>George</td><td>2200.0</td></tr><tr><td>List(2025-10-13T14:39:50Z, 2025-10-13T14:40:00Z)</td><td>Hannah</td><td>3200.0</td></tr><tr><td>List(2025-10-13T14:38:00Z, 2025-10-13T14:38:10Z)</td><td>Alice</td><td>1200.0</td></tr><tr><td>List(2025-10-13T14:39:50Z, 2025-10-13T14:40:00Z)</td><td>Julia</td><td>3900.0</td></tr><tr><td>List(2025-10-13T14:39:50Z, 2025-10-13T14:40:00Z)</td><td>Alice</td><td>1200.0</td></tr><tr><td>List(2025-10-13T14:39:50Z, 2025-10-13T14:40:00Z)</td><td>Diana</td><td>4200.0</td></tr><tr><td>List(2025-10-13T14:39:50Z, 2025-10-13T14:40:00Z)</td><td>Laura</td><td>4350.0</td></tr><tr><td>List(2025-10-13T14:39:50Z, 2025-10-13T14:40:00Z)</td><td>Fiona</td><td>3600.0</td></tr><tr><td>List(2025-10-13T14:39:50Z, 2025-10-13T14:40:00Z)</td><td>Kevin</td><td>5250.0</td></tr><tr><td>List(2025-10-13T14:42:40Z, 2025-10-13T14:42:50Z)</td><td>Diana</td><td>4200.0</td></tr><tr><td>List(2025-10-13T14:42:40Z, 2025-10-13T14:42:50Z)</td><td>Fiona</td><td>3600.0</td></tr><tr><td>List(2025-10-13T14:39:50Z, 2025-10-13T14:40:00Z)</td><td>Ethan</td><td>1900.0</td></tr><tr><td>List(2025-10-13T14:42:40Z, 2025-10-13T14:42:50Z)</td><td>Ethan</td><td>1900.0</td></tr><tr><td>List(2025-10-13T14:38:00Z, 2025-10-13T14:38:10Z)</td><td>Bob</td><td>850.0</td></tr><tr><td>List(2025-10-13T14:39:50Z, 2025-10-13T14:40:00Z)</td><td>Bob</td><td>850.0</td></tr><tr><td>List(2025-10-13T14:39:50Z, 2025-10-13T14:40:00Z)</td><td>Ian</td><td>4000.0</td></tr></tbody></table></div>"
      ]
     },
     "metadata": {
      "application/vnd.databricks.v1+output": {
       "addedWidgets": {},
       "aggData": [],
       "aggError": "",
       "aggOverflow": false,
       "aggSchema": [],
       "aggSeriesLimitReached": false,
       "aggType": "",
       "arguments": {},
       "columnCustomDisplayInfos": {},
       "data": [
        [
         [
          "2025-10-13T14:38:00Z",
          "2025-10-13T14:38:10Z"
         ],
         "Charlie",
         1500
        ],
        [
         [
          "2025-10-13T14:39:50Z",
          "2025-10-13T14:40:00Z"
         ],
         "Charlie",
         1500
        ],
        [
         [
          "2025-10-13T14:39:50Z",
          "2025-10-13T14:40:00Z"
         ],
         "George",
         2200
        ],
        [
         [
          "2025-10-13T14:39:50Z",
          "2025-10-13T14:40:00Z"
         ],
         "Hannah",
         3200
        ],
        [
         [
          "2025-10-13T14:38:00Z",
          "2025-10-13T14:38:10Z"
         ],
         "Alice",
         1200
        ],
        [
         [
          "2025-10-13T14:39:50Z",
          "2025-10-13T14:40:00Z"
         ],
         "Julia",
         3900
        ],
        [
         [
          "2025-10-13T14:39:50Z",
          "2025-10-13T14:40:00Z"
         ],
         "Alice",
         1200
        ],
        [
         [
          "2025-10-13T14:39:50Z",
          "2025-10-13T14:40:00Z"
         ],
         "Diana",
         4200
        ],
        [
         [
          "2025-10-13T14:39:50Z",
          "2025-10-13T14:40:00Z"
         ],
         "Laura",
         4350
        ],
        [
         [
          "2025-10-13T14:39:50Z",
          "2025-10-13T14:40:00Z"
         ],
         "Fiona",
         3600
        ],
        [
         [
          "2025-10-13T14:39:50Z",
          "2025-10-13T14:40:00Z"
         ],
         "Kevin",
         5250
        ],
        [
         [
          "2025-10-13T14:42:40Z",
          "2025-10-13T14:42:50Z"
         ],
         "Diana",
         4200
        ],
        [
         [
          "2025-10-13T14:42:40Z",
          "2025-10-13T14:42:50Z"
         ],
         "Fiona",
         3600
        ],
        [
         [
          "2025-10-13T14:39:50Z",
          "2025-10-13T14:40:00Z"
         ],
         "Ethan",
         1900
        ],
        [
         [
          "2025-10-13T14:42:40Z",
          "2025-10-13T14:42:50Z"
         ],
         "Ethan",
         1900
        ],
        [
         [
          "2025-10-13T14:38:00Z",
          "2025-10-13T14:38:10Z"
         ],
         "Bob",
         850
        ],
        [
         [
          "2025-10-13T14:39:50Z",
          "2025-10-13T14:40:00Z"
         ],
         "Bob",
         850
        ],
        [
         [
          "2025-10-13T14:39:50Z",
          "2025-10-13T14:40:00Z"
         ],
         "Ian",
         4000
        ]
       ],
       "datasetInfos": [
        {
         "name": "_sqldf",
         "schema": {
          "fields": [
           {
            "metadata": {
             "spark.timeWindow": true,
             "spark.watermarkDelayMs": 10000
            },
            "name": "window",
            "nullable": true,
            "type": {
             "fields": [
              {
               "metadata": {},
               "name": "start",
               "nullable": true,
               "type": "timestamp"
              },
              {
               "metadata": {},
               "name": "end",
               "nullable": true,
               "type": "timestamp"
              }
             ],
             "type": "struct"
            }
           },
           {
            "metadata": {},
            "name": "name",
            "nullable": true,
            "type": "string"
           },
           {
            "metadata": {},
            "name": "total_money",
            "nullable": true,
            "type": "double"
           }
          ],
          "type": "struct"
         },
         "tableIdentifier": null,
         "typeStr": "pyspark.sql.connect.dataframe.DataFrame"
        }
       ],
       "dbfsResultPath": null,
       "isJsonSchema": true,
       "metadata": {
        "createTempViewForImplicitDf": true,
        "dataframeName": "_sqldf",
        "executionCount": 161
       },
       "overflow": false,
       "plotOptions": {
        "customPlotOptions": {},
        "displayType": "table",
        "pivotAggregation": null,
        "pivotColumns": null,
        "xColumns": null,
        "yColumns": null
       },
       "removedWidgets": [],
       "schema": [
        {
         "metadata": "{\"spark.timeWindow\":true,\"spark.watermarkDelayMs\":10000}",
         "name": "window",
         "type": "{\"type\":\"struct\",\"fields\":[{\"name\":\"start\",\"type\":\"timestamp\",\"nullable\":true,\"metadata\":{}},{\"name\":\"end\",\"type\":\"timestamp\",\"nullable\":true,\"metadata\":{}}]}"
        },
        {
         "metadata": "{}",
         "name": "name",
         "type": "\"string\""
        },
        {
         "metadata": "{}",
         "name": "total_money",
         "type": "\"double\""
        }
       ],
       "type": "table"
      }
     },
     "output_type": "display_data"
    }
   ],
   "source": [
    "%sql\n",
    "SELECT * FROM salesspark_window"
   ]
  },
  {
   "cell_type": "code",
   "execution_count": 0,
   "metadata": {
    "application/vnd.databricks.v1+cell": {
     "cellMetadata": {
      "byteLimit": 2048000,
      "implicitDf": true,
      "rowLimit": 10000
     },
     "inputWidgets": {},
     "nuid": "4b2f9d87-d2e0-4a21-9742-44fb1c94ca7d",
     "showTitle": false,
     "tableResultSettingsMap": {},
     "title": ""
    }
   },
   "outputs": [],
   "source": [
    "%sql\n",
    "DESCRIBE HISTORY salesspark_window"
   ]
  },
  {
   "cell_type": "markdown",
   "metadata": {
    "application/vnd.databricks.v1+cell": {
     "cellMetadata": {},
     "inputWidgets": {},
     "nuid": "26cc716d-f5bb-45dd-8db0-30bee299ba31",
     "showTitle": false,
     "tableResultSettingsMap": {},
     "title": ""
    }
   },
   "source": [
    "Write streaming results in append mode (option2)"
   ]
  },
  {
   "cell_type": "code",
   "execution_count": 0,
   "metadata": {
    "application/vnd.databricks.v1+cell": {
     "cellMetadata": {
      "byteLimit": 2048000,
      "rowLimit": 10000
     },
     "inputWidgets": {},
     "nuid": "28c36e64-489c-4d3e-b8ea-ae0a37801ac9",
     "showTitle": false,
     "tableResultSettingsMap": {},
     "title": ""
    }
   },
   "outputs": [],
   "source": [
    "from pyspark.sql.types import TimestampType, DoubleType\n",
    "\n",
    "schema = StructType([\n",
    "    StructField(\"window\", StructType([StructField(\"start\", TimestampType(), True),\n",
    "                                      StructField(\"end\", TimestampType(), True)]), False),\n",
    "    StructField(\"name\", StringType(), True),\n",
    "    StructField(\"total_money\", DoubleType(), True)\n",
    "])\n",
    "\n",
    "empty_df = spark.createDataFrame([], schema=schema)\n",
    "\n",
    "# creation of the table sink\n",
    "empty_df.write.format(\"delta\").saveAsTable(\"salesspark_window2\", mode='overwrite')"
   ]
  },
  {
   "cell_type": "code",
   "execution_count": 0,
   "metadata": {
    "application/vnd.databricks.v1+cell": {
     "cellMetadata": {
      "byteLimit": 2048000,
      "rowLimit": 10000
     },
     "inputWidgets": {},
     "nuid": "596953d7-9b2a-4295-8b93-b840105bb906",
     "showTitle": false,
     "tableResultSettingsMap": {},
     "title": ""
    }
   },
   "outputs": [],
   "source": [
    "# function to upsert microbatchoutput to table using merge\n",
    "def upsertToTable(microBatchOutputDF, batchId):\n",
    "    microBatchOutputDF.createOrReplaceTempView(\"updates\")\n",
    "    # in the same SparkSesison that has been used to define the updates dataframe\n",
    "    spark.sql(\"\"\"\n",
    "              MERGE INTO salesspark_window2 t\n",
    "              USING updates s\n",
    "              ON t.window.start = s.window.start AND t.window.end = s.window.end AND t.name = s.name\n",
    "              WHEN MATCHED THEN UPDATE SET *\n",
    "              WHEN NOT MATCHED THEN INSERT *\n",
    "              \"\"\")"
   ]
  },
  {
   "cell_type": "code",
   "execution_count": 0,
   "metadata": {
    "application/vnd.databricks.v1+cell": {
     "cellMetadata": {
      "byteLimit": 2048000,
      "implicitDf": true,
      "rowLimit": 10000
     },
     "inputWidgets": {},
     "nuid": "12deee72-5f44-44d6-803f-9655dd41d290",
     "showTitle": false,
     "tableResultSettingsMap": {},
     "title": ""
    }
   },
   "outputs": [
    {
     "data": {
      "text/html": [
       "<style scoped>\n",
       "  .table-result-container {\n",
       "    max-height: 300px;\n",
       "    overflow: auto;\n",
       "  }\n",
       "  table, th, td {\n",
       "    border: 1px solid black;\n",
       "    border-collapse: collapse;\n",
       "  }\n",
       "  th, td {\n",
       "    padding: 5px;\n",
       "  }\n",
       "  th {\n",
       "    text-align: left;\n",
       "  }\n",
       "</style><div class='table-result-container'><table class='table-result'><thead style='background-color: white'><tr><th>window</th><th>name</th><th>total_money</th></tr></thead><tbody></tbody></table></div>"
      ]
     },
     "metadata": {
      "application/vnd.databricks.v1+output": {
       "addedWidgets": {},
       "aggData": [],
       "aggError": "",
       "aggOverflow": false,
       "aggSchema": [],
       "aggSeriesLimitReached": false,
       "aggType": "",
       "arguments": {},
       "columnCustomDisplayInfos": {},
       "data": [],
       "datasetInfos": [
        {
         "name": "_sqldf",
         "schema": {
          "fields": [
           {
            "metadata": {},
            "name": "window",
            "nullable": true,
            "type": {
             "fields": [
              {
               "metadata": {},
               "name": "start",
               "nullable": true,
               "type": "timestamp"
              },
              {
               "metadata": {},
               "name": "end",
               "nullable": true,
               "type": "timestamp"
              }
             ],
             "type": "struct"
            }
           },
           {
            "metadata": {},
            "name": "name",
            "nullable": true,
            "type": "string"
           },
           {
            "metadata": {},
            "name": "total_money",
            "nullable": true,
            "type": "double"
           }
          ],
          "type": "struct"
         },
         "tableIdentifier": null,
         "typeStr": "pyspark.sql.connect.dataframe.DataFrame"
        }
       ],
       "dbfsResultPath": null,
       "isJsonSchema": true,
       "metadata": {
        "createTempViewForImplicitDf": true,
        "dataframeName": "_sqldf",
        "executionCount": 135
       },
       "overflow": false,
       "plotOptions": {
        "customPlotOptions": {},
        "displayType": "table",
        "pivotAggregation": null,
        "pivotColumns": null,
        "xColumns": null,
        "yColumns": null
       },
       "removedWidgets": [],
       "schema": [
        {
         "metadata": "{}",
         "name": "window",
         "type": "{\"type\":\"struct\",\"fields\":[{\"name\":\"start\",\"type\":\"timestamp\",\"nullable\":true,\"metadata\":{}},{\"name\":\"end\",\"type\":\"timestamp\",\"nullable\":true,\"metadata\":{}}]}"
        },
        {
         "metadata": "{}",
         "name": "name",
         "type": "\"string\""
        },
        {
         "metadata": "{}",
         "name": "total_money",
         "type": "\"double\""
        }
       ],
       "type": "table"
      }
     },
     "output_type": "display_data"
    }
   ],
   "source": [
    "%sql\n",
    "SELECT * FROM salesspark_window2;\n"
   ]
  },
  {
   "cell_type": "markdown",
   "metadata": {
    "application/vnd.databricks.v1+cell": {
     "cellMetadata": {},
     "inputWidgets": {},
     "nuid": "0aea8dc1-a975-4658-a172-713126d2ebfc",
     "showTitle": false,
     "tableResultSettingsMap": {},
     "title": ""
    }
   },
   "source": [
    "Here to write result table into delta table using update mode"
   ]
  },
  {
   "cell_type": "code",
   "execution_count": 0,
   "metadata": {
    "application/vnd.databricks.v1+cell": {
     "cellMetadata": {
      "byteLimit": 2048000,
      "rowLimit": 10000
     },
     "inputWidgets": {},
     "nuid": "f069f665-eb22-41aa-82e2-226bbd39a8f9",
     "showTitle": false,
     "tableResultSettingsMap": {},
     "title": ""
    }
   },
   "outputs": [],
   "source": [
    "checkpoint_path = \"/Volumes/checkpoints_spark_query/window2\"\n",
    "\n",
    "windowed_query = (windowed_df\n",
    "                    .writeStream\n",
    "                    .format(\"delta\")\n",
    "                    .foreachBatch(upsertToTable)\n",
    "                    .outputMode(\"update\")\n",
    "                    .queryName(\"windowed_query_update\")\n",
    "                    .option(\"checkpointLocation\", checkpoint_path)\n",
    "                    .trigger(availableNow=True)\n",
    "                    .start()\n",
    "                    )"
   ]
  },
  {
   "cell_type": "code",
   "execution_count": 0,
   "metadata": {
    "application/vnd.databricks.v1+cell": {
     "cellMetadata": {
      "byteLimit": 2048000,
      "implicitDf": true,
      "rowLimit": 10000
     },
     "inputWidgets": {},
     "nuid": "9d79a700-fdbf-4a6d-addc-8e5b96b77c12",
     "showTitle": false,
     "tableResultSettingsMap": {
      "0": {
       "dataGridStateBlob": "{\"version\":1,\"tableState\":{\"columnPinning\":{\"left\":[\"#row_number#\"],\"right\":[]},\"columnSizing\":{},\"columnVisibility\":{}},\"settings\":{\"columns\":{}},\"syncTimestamp\":1760366479579}",
       "filterBlob": null,
       "queryPlanFiltersBlob": null,
       "tableResultIndex": 0
      }
     },
     "title": ""
    }
   },
   "outputs": [
    {
     "data": {
      "text/html": [
       "<style scoped>\n",
       "  .table-result-container {\n",
       "    max-height: 300px;\n",
       "    overflow: auto;\n",
       "  }\n",
       "  table, th, td {\n",
       "    border: 1px solid black;\n",
       "    border-collapse: collapse;\n",
       "  }\n",
       "  th, td {\n",
       "    padding: 5px;\n",
       "  }\n",
       "  th {\n",
       "    text-align: left;\n",
       "  }\n",
       "</style><div class='table-result-container'><table class='table-result'><thead style='background-color: white'><tr><th>window</th><th>name</th><th>total_money</th></tr></thead><tbody><tr><td>List(2025-10-13T14:38:20Z, 2025-10-13T14:38:30Z)</td><td>Charlie</td><td>1500.0</td></tr><tr><td>List(2025-10-13T14:40:10Z, 2025-10-13T14:40:20Z)</td><td>Charlie</td><td>1500.0</td></tr><tr><td>List(2025-10-13T14:40:10Z, 2025-10-13T14:40:20Z)</td><td>George</td><td>2200.0</td></tr><tr><td>List(2025-10-13T14:40:10Z, 2025-10-13T14:40:20Z)</td><td>Hannah</td><td>3200.0</td></tr><tr><td>List(2025-10-13T14:38:20Z, 2025-10-13T14:38:30Z)</td><td>Alice</td><td>1200.0</td></tr><tr><td>List(2025-10-13T14:43:00Z, 2025-10-13T14:43:10Z)</td><td>Fiona</td><td>3600.0</td></tr><tr><td>List(2025-10-13T14:43:00Z, 2025-10-13T14:43:10Z)</td><td>Diana</td><td>4200.0</td></tr><tr><td>List(2025-10-13T14:40:10Z, 2025-10-13T14:40:20Z)</td><td>Laura</td><td>4350.0</td></tr><tr><td>List(2025-10-13T14:40:10Z, 2025-10-13T14:40:20Z)</td><td>Julia</td><td>3900.0</td></tr><tr><td>List(2025-10-13T14:40:10Z, 2025-10-13T14:40:20Z)</td><td>Kevin</td><td>5250.0</td></tr><tr><td>List(2025-10-13T14:40:10Z, 2025-10-13T14:40:20Z)</td><td>Diana</td><td>4200.0</td></tr><tr><td>List(2025-10-13T14:40:10Z, 2025-10-13T14:40:20Z)</td><td>Fiona</td><td>3600.0</td></tr><tr><td>List(2025-10-13T14:40:10Z, 2025-10-13T14:40:20Z)</td><td>Alice</td><td>1200.0</td></tr><tr><td>List(2025-10-13T14:43:00Z, 2025-10-13T14:43:10Z)</td><td>Ethan</td><td>1900.0</td></tr><tr><td>List(2025-10-13T14:46:40Z, 2025-10-13T14:46:50Z)</td><td>Fiona</td><td>1800000.0</td></tr><tr><td>List(2025-10-13T14:46:40Z, 2025-10-13T14:46:50Z)</td><td>Diana</td><td>21.0</td></tr><tr><td>List(2025-10-13T14:40:10Z, 2025-10-13T14:40:20Z)</td><td>Ethan</td><td>1900.0</td></tr><tr><td>List(2025-10-13T14:46:40Z, 2025-10-13T14:46:50Z)</td><td>Ethan</td><td>950.0</td></tr><tr><td>List(2025-10-13T14:38:20Z, 2025-10-13T14:38:30Z)</td><td>Bob</td><td>850.0</td></tr><tr><td>List(2025-10-13T14:40:10Z, 2025-10-13T14:40:20Z)</td><td>Ian</td><td>4000.0</td></tr><tr><td>List(2025-10-13T14:40:10Z, 2025-10-13T14:40:20Z)</td><td>Bob</td><td>850.0</td></tr></tbody></table></div>"
      ]
     },
     "metadata": {
      "application/vnd.databricks.v1+output": {
       "addedWidgets": {},
       "aggData": [],
       "aggError": "",
       "aggOverflow": false,
       "aggSchema": [],
       "aggSeriesLimitReached": false,
       "aggType": "",
       "arguments": {},
       "columnCustomDisplayInfos": {},
       "data": [
        [
         [
          "2025-10-13T14:38:20Z",
          "2025-10-13T14:38:30Z"
         ],
         "Charlie",
         1500
        ],
        [
         [
          "2025-10-13T14:40:10Z",
          "2025-10-13T14:40:20Z"
         ],
         "Charlie",
         1500
        ],
        [
         [
          "2025-10-13T14:40:10Z",
          "2025-10-13T14:40:20Z"
         ],
         "George",
         2200
        ],
        [
         [
          "2025-10-13T14:40:10Z",
          "2025-10-13T14:40:20Z"
         ],
         "Hannah",
         3200
        ],
        [
         [
          "2025-10-13T14:38:20Z",
          "2025-10-13T14:38:30Z"
         ],
         "Alice",
         1200
        ],
        [
         [
          "2025-10-13T14:43:00Z",
          "2025-10-13T14:43:10Z"
         ],
         "Fiona",
         3600
        ],
        [
         [
          "2025-10-13T14:43:00Z",
          "2025-10-13T14:43:10Z"
         ],
         "Diana",
         4200
        ],
        [
         [
          "2025-10-13T14:40:10Z",
          "2025-10-13T14:40:20Z"
         ],
         "Laura",
         4350
        ],
        [
         [
          "2025-10-13T14:40:10Z",
          "2025-10-13T14:40:20Z"
         ],
         "Julia",
         3900
        ],
        [
         [
          "2025-10-13T14:40:10Z",
          "2025-10-13T14:40:20Z"
         ],
         "Kevin",
         5250
        ],
        [
         [
          "2025-10-13T14:40:10Z",
          "2025-10-13T14:40:20Z"
         ],
         "Diana",
         4200
        ],
        [
         [
          "2025-10-13T14:40:10Z",
          "2025-10-13T14:40:20Z"
         ],
         "Fiona",
         3600
        ],
        [
         [
          "2025-10-13T14:40:10Z",
          "2025-10-13T14:40:20Z"
         ],
         "Alice",
         1200
        ],
        [
         [
          "2025-10-13T14:43:00Z",
          "2025-10-13T14:43:10Z"
         ],
         "Ethan",
         1900
        ],
        [
         [
          "2025-10-13T14:46:40Z",
          "2025-10-13T14:46:50Z"
         ],
         "Fiona",
         1800000
        ],
        [
         [
          "2025-10-13T14:46:40Z",
          "2025-10-13T14:46:50Z"
         ],
         "Diana",
         21
        ],
        [
         [
          "2025-10-13T14:40:10Z",
          "2025-10-13T14:40:20Z"
         ],
         "Ethan",
         1900
        ],
        [
         [
          "2025-10-13T14:46:40Z",
          "2025-10-13T14:46:50Z"
         ],
         "Ethan",
         950
        ],
        [
         [
          "2025-10-13T14:38:20Z",
          "2025-10-13T14:38:30Z"
         ],
         "Bob",
         850
        ],
        [
         [
          "2025-10-13T14:40:10Z",
          "2025-10-13T14:40:20Z"
         ],
         "Ian",
         4000
        ],
        [
         [
          "2025-10-13T14:40:10Z",
          "2025-10-13T14:40:20Z"
         ],
         "Bob",
         850
        ]
       ],
       "datasetInfos": [
        {
         "name": "_sqldf",
         "schema": {
          "fields": [
           {
            "metadata": {},
            "name": "window",
            "nullable": true,
            "type": {
             "fields": [
              {
               "metadata": {},
               "name": "start",
               "nullable": true,
               "type": "timestamp"
              },
              {
               "metadata": {},
               "name": "end",
               "nullable": true,
               "type": "timestamp"
              }
             ],
             "type": "struct"
            }
           },
           {
            "metadata": {},
            "name": "name",
            "nullable": true,
            "type": "string"
           },
           {
            "metadata": {},
            "name": "total_money",
            "nullable": true,
            "type": "double"
           }
          ],
          "type": "struct"
         },
         "tableIdentifier": null,
         "typeStr": "pyspark.sql.connect.dataframe.DataFrame"
        }
       ],
       "dbfsResultPath": null,
       "isJsonSchema": true,
       "metadata": {
        "createTempViewForImplicitDf": true,
        "dataframeName": "_sqldf",
        "executionCount": 160
       },
       "overflow": false,
       "plotOptions": {
        "customPlotOptions": {},
        "displayType": "table",
        "pivotAggregation": null,
        "pivotColumns": null,
        "xColumns": null,
        "yColumns": null
       },
       "removedWidgets": [],
       "schema": [
        {
         "metadata": "{}",
         "name": "window",
         "type": "{\"type\":\"struct\",\"fields\":[{\"name\":\"start\",\"type\":\"timestamp\",\"nullable\":true,\"metadata\":{}},{\"name\":\"end\",\"type\":\"timestamp\",\"nullable\":true,\"metadata\":{}}]}"
        },
        {
         "metadata": "{}",
         "name": "name",
         "type": "\"string\""
        },
        {
         "metadata": "{}",
         "name": "total_money",
         "type": "\"double\""
        }
       ],
       "type": "table"
      }
     },
     "output_type": "display_data"
    }
   ],
   "source": [
    "%sql\n",
    "SELECT * FROM salesspark_window2;"
   ]
  },
  {
   "cell_type": "code",
   "execution_count": 0,
   "metadata": {
    "application/vnd.databricks.v1+cell": {
     "cellMetadata": {
      "byteLimit": 2048000,
      "implicitDf": true,
      "rowLimit": 10000
     },
     "inputWidgets": {},
     "nuid": "a896b7cd-2db6-4a2a-a8e7-6faeca6ec1fc",
     "showTitle": false,
     "tableResultSettingsMap": {},
     "title": ""
    }
   },
   "outputs": [],
   "source": [
    "%sql\n",
    "DESCRIBE HISTORY salesspark_window2;"
   ]
  },
  {
   "cell_type": "code",
   "execution_count": 0,
   "metadata": {
    "application/vnd.databricks.v1+cell": {
     "cellMetadata": {
      "byteLimit": 2048000,
      "rowLimit": 10000
     },
     "inputWidgets": {},
     "nuid": "14db336b-2200-43db-9084-c15da562a9bd",
     "showTitle": false,
     "tableResultSettingsMap": {},
     "title": ""
    }
   },
   "outputs": [
    {
     "name": "stdout",
     "output_type": "stream",
     "text": [
      "display_query_11\n",
      "display_query_12\n"
     ]
    }
   ],
   "source": [
    "for s in spark.streams.active:\n",
    "    print(s.name)\n",
    "    s.stop()"
   ]
  }
 ],
 "metadata": {
  "application/vnd.databricks.v1+notebook": {
   "computePreferences": null,
   "dashboards": [],
   "environmentMetadata": {
    "base_environment": "",
    "environment_version": "4"
   },
   "inputWidgetPreferences": null,
   "language": "python",
   "notebookMetadata": {
    "mostRecentlyExecutedCommandWithImplicitDF": {
     "commandId": 7813912559944055,
     "dataframes": [
      "_sqldf"
     ]
    },
    "pythonIndentUnit": 4
   },
   "notebookName": "windowed aggregation with watermark",
   "widgets": {}
  },
  "language_info": {
   "name": "python"
  }
 },
 "nbformat": 4,
 "nbformat_minor": 0
}
